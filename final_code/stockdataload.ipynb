{
 "cells": [
  {
   "cell_type": "code",
   "execution_count": 30,
   "metadata": {},
   "outputs": [],
   "source": [
    "# Dependencies\n",
    "import numpy as np\n",
    "import matplotlib.pyplot as plt\n",
    "%matplotlib inline\n",
    "import pandas as pd\n",
    "import os\n",
    "import datetime\n",
    "import plotly.graph_objects as go\n",
    "from plotly.subplots import make_subplots\n",
    "import re\n",
    "import plotly.express as px\n",
    "from datetime import datetime"
   ]
  },
  {
   "cell_type": "code",
   "execution_count": 3,
   "metadata": {},
   "outputs": [
    {
     "data": {
      "text/html": [
       "<div>\n",
       "<style scoped>\n",
       "    .dataframe tbody tr th:only-of-type {\n",
       "        vertical-align: middle;\n",
       "    }\n",
       "\n",
       "    .dataframe tbody tr th {\n",
       "        vertical-align: top;\n",
       "    }\n",
       "\n",
       "    .dataframe thead th {\n",
       "        text-align: right;\n",
       "    }\n",
       "</style>\n",
       "<table border=\"1\" class=\"dataframe\">\n",
       "  <thead>\n",
       "    <tr style=\"text-align: right;\">\n",
       "      <th></th>\n",
       "      <th>Date</th>\n",
       "      <th>Open</th>\n",
       "      <th>High</th>\n",
       "      <th>Low</th>\n",
       "      <th>Close</th>\n",
       "      <th>Adj Close</th>\n",
       "      <th>Volume</th>\n",
       "    </tr>\n",
       "  </thead>\n",
       "  <tbody>\n",
       "    <tr>\n",
       "      <th>0</th>\n",
       "      <td>1985-01-29</td>\n",
       "      <td>1277.719971</td>\n",
       "      <td>1295.489990</td>\n",
       "      <td>1266.890015</td>\n",
       "      <td>1292.619995</td>\n",
       "      <td>1292.619995</td>\n",
       "      <td>13560000</td>\n",
       "    </tr>\n",
       "    <tr>\n",
       "      <th>1</th>\n",
       "      <td>1985-01-30</td>\n",
       "      <td>1297.369995</td>\n",
       "      <td>1305.099976</td>\n",
       "      <td>1278.930054</td>\n",
       "      <td>1287.880005</td>\n",
       "      <td>1287.880005</td>\n",
       "      <td>16820000</td>\n",
       "    </tr>\n",
       "    <tr>\n",
       "      <th>2</th>\n",
       "      <td>1985-01-31</td>\n",
       "      <td>1283.239990</td>\n",
       "      <td>1293.400024</td>\n",
       "      <td>1272.640015</td>\n",
       "      <td>1286.770020</td>\n",
       "      <td>1286.770020</td>\n",
       "      <td>14070000</td>\n",
       "    </tr>\n",
       "    <tr>\n",
       "      <th>3</th>\n",
       "      <td>1985-02-01</td>\n",
       "      <td>1276.939941</td>\n",
       "      <td>1286.109985</td>\n",
       "      <td>1269.770020</td>\n",
       "      <td>1277.719971</td>\n",
       "      <td>1277.719971</td>\n",
       "      <td>10980000</td>\n",
       "    </tr>\n",
       "    <tr>\n",
       "      <th>4</th>\n",
       "      <td>1985-02-04</td>\n",
       "      <td>1272.079956</td>\n",
       "      <td>1294.939941</td>\n",
       "      <td>1268.989990</td>\n",
       "      <td>1290.079956</td>\n",
       "      <td>1290.079956</td>\n",
       "      <td>11630000</td>\n",
       "    </tr>\n",
       "    <tr>\n",
       "      <th>...</th>\n",
       "      <td>...</td>\n",
       "      <td>...</td>\n",
       "      <td>...</td>\n",
       "      <td>...</td>\n",
       "      <td>...</td>\n",
       "      <td>...</td>\n",
       "      <td>...</td>\n",
       "    </tr>\n",
       "    <tr>\n",
       "      <th>8867</th>\n",
       "      <td>2020-04-03</td>\n",
       "      <td>21285.929690</td>\n",
       "      <td>21447.810550</td>\n",
       "      <td>20863.089840</td>\n",
       "      <td>21052.529300</td>\n",
       "      <td>21052.529300</td>\n",
       "      <td>450010000</td>\n",
       "    </tr>\n",
       "    <tr>\n",
       "      <th>8868</th>\n",
       "      <td>2020-04-06</td>\n",
       "      <td>21693.630860</td>\n",
       "      <td>22783.449220</td>\n",
       "      <td>21693.630860</td>\n",
       "      <td>22679.990230</td>\n",
       "      <td>22679.990230</td>\n",
       "      <td>610760000</td>\n",
       "    </tr>\n",
       "    <tr>\n",
       "      <th>8869</th>\n",
       "      <td>2020-04-07</td>\n",
       "      <td>23537.439450</td>\n",
       "      <td>23617.240230</td>\n",
       "      <td>22634.449220</td>\n",
       "      <td>22653.859380</td>\n",
       "      <td>22653.859380</td>\n",
       "      <td>594660000</td>\n",
       "    </tr>\n",
       "    <tr>\n",
       "      <th>8870</th>\n",
       "      <td>2020-04-08</td>\n",
       "      <td>22893.470700</td>\n",
       "      <td>23513.400390</td>\n",
       "      <td>22682.990230</td>\n",
       "      <td>23433.570310</td>\n",
       "      <td>23433.570310</td>\n",
       "      <td>472740000</td>\n",
       "    </tr>\n",
       "    <tr>\n",
       "      <th>8871</th>\n",
       "      <td>2020-04-09</td>\n",
       "      <td>23690.660160</td>\n",
       "      <td>24008.990230</td>\n",
       "      <td>23504.089840</td>\n",
       "      <td>23719.369140</td>\n",
       "      <td>23719.369140</td>\n",
       "      <td>566400000</td>\n",
       "    </tr>\n",
       "  </tbody>\n",
       "</table>\n",
       "<p>8872 rows × 7 columns</p>\n",
       "</div>"
      ],
      "text/plain": [
       "           Date          Open          High           Low         Close  \\\n",
       "0    1985-01-29   1277.719971   1295.489990   1266.890015   1292.619995   \n",
       "1    1985-01-30   1297.369995   1305.099976   1278.930054   1287.880005   \n",
       "2    1985-01-31   1283.239990   1293.400024   1272.640015   1286.770020   \n",
       "3    1985-02-01   1276.939941   1286.109985   1269.770020   1277.719971   \n",
       "4    1985-02-04   1272.079956   1294.939941   1268.989990   1290.079956   \n",
       "...         ...           ...           ...           ...           ...   \n",
       "8867 2020-04-03  21285.929690  21447.810550  20863.089840  21052.529300   \n",
       "8868 2020-04-06  21693.630860  22783.449220  21693.630860  22679.990230   \n",
       "8869 2020-04-07  23537.439450  23617.240230  22634.449220  22653.859380   \n",
       "8870 2020-04-08  22893.470700  23513.400390  22682.990230  23433.570310   \n",
       "8871 2020-04-09  23690.660160  24008.990230  23504.089840  23719.369140   \n",
       "\n",
       "         Adj Close     Volume  \n",
       "0      1292.619995   13560000  \n",
       "1      1287.880005   16820000  \n",
       "2      1286.770020   14070000  \n",
       "3      1277.719971   10980000  \n",
       "4      1290.079956   11630000  \n",
       "...            ...        ...  \n",
       "8867  21052.529300  450010000  \n",
       "8868  22679.990230  610760000  \n",
       "8869  22653.859380  594660000  \n",
       "8870  23433.570310  472740000  \n",
       "8871  23719.369140  566400000  \n",
       "\n",
       "[8872 rows x 7 columns]"
      ]
     },
     "execution_count": 3,
     "metadata": {},
     "output_type": "execute_result"
    }
   ],
   "source": [
    "#Load DJIA Historical Data into Pandas\n",
    "df_stocktrend = pd.read_csv(\"../data_files/output/DJIAINFO.csv\")\n",
    "df_stocktrend\n",
    "df_stocktrend['Date'] = pd.to_datetime(df_stocktrend['Date'])\n",
    "#df_stocktrend.set_index('Date', inplace=True)\n",
    "df_stocktrend"
   ]
  },
  {
   "cell_type": "markdown",
   "metadata": {},
   "source": [
    "## in the next steps we will clean the data and select 3 months of data\n",
    "## financial bubble [Dec 2008] to [Feb 2009] \n",
    "## covid_19 effect [jan 2020] to [Mar 2020]"
   ]
  },
  {
   "cell_type": "code",
   "execution_count": 58,
   "metadata": {},
   "outputs": [
    {
     "name": "stderr",
     "output_type": "stream",
     "text": [
      "C:\\Users\\smaheshw\\AppData\\Local\\Continuum\\anaconda3\\envs\\PythonData2020_1\\lib\\site-packages\\ipykernel_launcher.py:7: SettingWithCopyWarning:\n",
      "\n",
      "\n",
      "A value is trying to be set on a copy of a slice from a DataFrame.\n",
      "Try using .loc[row_indexer,col_indexer] = value instead\n",
      "\n",
      "See the caveats in the documentation: http://pandas.pydata.org/pandas-docs/stable/user_guide/indexing.html#returning-a-view-versus-a-copy\n",
      "\n",
      "C:\\Users\\smaheshw\\AppData\\Local\\Continuum\\anaconda3\\envs\\PythonData2020_1\\lib\\site-packages\\ipykernel_launcher.py:8: SettingWithCopyWarning:\n",
      "\n",
      "\n",
      "A value is trying to be set on a copy of a slice from a DataFrame.\n",
      "Try using .loc[row_indexer,col_indexer] = value instead\n",
      "\n",
      "See the caveats in the documentation: http://pandas.pydata.org/pandas-docs/stable/user_guide/indexing.html#returning-a-view-versus-a-copy\n",
      "\n",
      "C:\\Users\\smaheshw\\AppData\\Local\\Continuum\\anaconda3\\envs\\PythonData2020_1\\lib\\site-packages\\ipykernel_launcher.py:9: SettingWithCopyWarning:\n",
      "\n",
      "\n",
      "A value is trying to be set on a copy of a slice from a DataFrame.\n",
      "Try using .loc[row_indexer,col_indexer] = value instead\n",
      "\n",
      "See the caveats in the documentation: http://pandas.pydata.org/pandas-docs/stable/user_guide/indexing.html#returning-a-view-versus-a-copy\n",
      "\n"
     ]
    },
    {
     "data": {
      "text/html": [
       "<div>\n",
       "<style scoped>\n",
       "    .dataframe tbody tr th:only-of-type {\n",
       "        vertical-align: middle;\n",
       "    }\n",
       "\n",
       "    .dataframe tbody tr th {\n",
       "        vertical-align: top;\n",
       "    }\n",
       "\n",
       "    .dataframe thead th {\n",
       "        text-align: right;\n",
       "    }\n",
       "</style>\n",
       "<table border=\"1\" class=\"dataframe\">\n",
       "  <thead>\n",
       "    <tr style=\"text-align: right;\">\n",
       "      <th></th>\n",
       "      <th>Date</th>\n",
       "      <th>Open</th>\n",
       "      <th>High</th>\n",
       "      <th>Low</th>\n",
       "      <th>Close</th>\n",
       "      <th>Adj Close</th>\n",
       "      <th>Volume</th>\n",
       "      <th>5dayRollAvg</th>\n",
       "      <th>15dayRollAvg</th>\n",
       "      <th>30dayRollAvg</th>\n",
       "    </tr>\n",
       "  </thead>\n",
       "  <tbody>\n",
       "    <tr>\n",
       "      <th>6013</th>\n",
       "      <td>2008-12-01</td>\n",
       "      <td>8826.889648</td>\n",
       "      <td>8827.049805</td>\n",
       "      <td>8141.359863</td>\n",
       "      <td>8149.089844</td>\n",
       "      <td>8149.089844</td>\n",
       "      <td>321010000</td>\n",
       "      <td>NaN</td>\n",
       "      <td>NaN</td>\n",
       "      <td>NaN</td>\n",
       "    </tr>\n",
       "    <tr>\n",
       "      <th>6014</th>\n",
       "      <td>2008-12-02</td>\n",
       "      <td>8153.750000</td>\n",
       "      <td>8437.169922</td>\n",
       "      <td>8143.509766</td>\n",
       "      <td>8419.089844</td>\n",
       "      <td>8419.089844</td>\n",
       "      <td>307520000</td>\n",
       "      <td>NaN</td>\n",
       "      <td>NaN</td>\n",
       "      <td>NaN</td>\n",
       "    </tr>\n",
       "    <tr>\n",
       "      <th>6015</th>\n",
       "      <td>2008-12-03</td>\n",
       "      <td>8409.139648</td>\n",
       "      <td>8624.190430</td>\n",
       "      <td>8234.150391</td>\n",
       "      <td>8591.690430</td>\n",
       "      <td>8591.690430</td>\n",
       "      <td>294680000</td>\n",
       "      <td>NaN</td>\n",
       "      <td>NaN</td>\n",
       "      <td>NaN</td>\n",
       "    </tr>\n",
       "    <tr>\n",
       "      <th>6016</th>\n",
       "      <td>2008-12-04</td>\n",
       "      <td>8587.070313</td>\n",
       "      <td>8631.990234</td>\n",
       "      <td>8259.400391</td>\n",
       "      <td>8376.240234</td>\n",
       "      <td>8376.240234</td>\n",
       "      <td>280880000</td>\n",
       "      <td>NaN</td>\n",
       "      <td>NaN</td>\n",
       "      <td>NaN</td>\n",
       "    </tr>\n",
       "    <tr>\n",
       "      <th>6017</th>\n",
       "      <td>2008-12-05</td>\n",
       "      <td>8376.080078</td>\n",
       "      <td>8686.469727</td>\n",
       "      <td>8118.500000</td>\n",
       "      <td>8635.419922</td>\n",
       "      <td>8635.419922</td>\n",
       "      <td>346370000</td>\n",
       "      <td>8434.306055</td>\n",
       "      <td>NaN</td>\n",
       "      <td>NaN</td>\n",
       "    </tr>\n",
       "    <tr>\n",
       "      <th>...</th>\n",
       "      <td>...</td>\n",
       "      <td>...</td>\n",
       "      <td>...</td>\n",
       "      <td>...</td>\n",
       "      <td>...</td>\n",
       "      <td>...</td>\n",
       "      <td>...</td>\n",
       "      <td>...</td>\n",
       "      <td>...</td>\n",
       "      <td>...</td>\n",
       "    </tr>\n",
       "    <tr>\n",
       "      <th>6069</th>\n",
       "      <td>2009-02-23</td>\n",
       "      <td>7365.990234</td>\n",
       "      <td>7441.020020</td>\n",
       "      <td>7105.939941</td>\n",
       "      <td>7114.779785</td>\n",
       "      <td>7114.779785</td>\n",
       "      <td>406150000</td>\n",
       "      <td>7410.925977</td>\n",
       "      <td>7816.833952</td>\n",
       "      <td>8022.056559</td>\n",
       "    </tr>\n",
       "    <tr>\n",
       "      <th>6070</th>\n",
       "      <td>2009-02-24</td>\n",
       "      <td>7115.339844</td>\n",
       "      <td>7378.970215</td>\n",
       "      <td>7114.299805</td>\n",
       "      <td>7350.939941</td>\n",
       "      <td>7350.939941</td>\n",
       "      <td>468010000</td>\n",
       "      <td>7370.593945</td>\n",
       "      <td>7777.779948</td>\n",
       "      <td>7980.448568</td>\n",
       "    </tr>\n",
       "    <tr>\n",
       "      <th>6071</th>\n",
       "      <td>2009-02-25</td>\n",
       "      <td>7349.580078</td>\n",
       "      <td>7404.939941</td>\n",
       "      <td>7156.680176</td>\n",
       "      <td>7270.890137</td>\n",
       "      <td>7270.890137</td>\n",
       "      <td>450270000</td>\n",
       "      <td>7313.645996</td>\n",
       "      <td>7723.948633</td>\n",
       "      <td>7940.345915</td>\n",
       "    </tr>\n",
       "    <tr>\n",
       "      <th>6072</th>\n",
       "      <td>2009-02-26</td>\n",
       "      <td>7269.060059</td>\n",
       "      <td>7402.310059</td>\n",
       "      <td>7173.560059</td>\n",
       "      <td>7182.080078</td>\n",
       "      <td>7182.080078</td>\n",
       "      <td>321300000</td>\n",
       "      <td>7256.871973</td>\n",
       "      <td>7672.309961</td>\n",
       "      <td>7898.129932</td>\n",
       "    </tr>\n",
       "    <tr>\n",
       "      <th>6073</th>\n",
       "      <td>2009-02-27</td>\n",
       "      <td>7180.970215</td>\n",
       "      <td>7195.459961</td>\n",
       "      <td>7033.620117</td>\n",
       "      <td>7062.930176</td>\n",
       "      <td>7062.930176</td>\n",
       "      <td>667950000</td>\n",
       "      <td>7196.324023</td>\n",
       "      <td>7605.633984</td>\n",
       "      <td>7860.222949</td>\n",
       "    </tr>\n",
       "  </tbody>\n",
       "</table>\n",
       "<p>61 rows × 10 columns</p>\n",
       "</div>"
      ],
      "text/plain": [
       "           Date         Open         High          Low        Close  \\\n",
       "6013 2008-12-01  8826.889648  8827.049805  8141.359863  8149.089844   \n",
       "6014 2008-12-02  8153.750000  8437.169922  8143.509766  8419.089844   \n",
       "6015 2008-12-03  8409.139648  8624.190430  8234.150391  8591.690430   \n",
       "6016 2008-12-04  8587.070313  8631.990234  8259.400391  8376.240234   \n",
       "6017 2008-12-05  8376.080078  8686.469727  8118.500000  8635.419922   \n",
       "...         ...          ...          ...          ...          ...   \n",
       "6069 2009-02-23  7365.990234  7441.020020  7105.939941  7114.779785   \n",
       "6070 2009-02-24  7115.339844  7378.970215  7114.299805  7350.939941   \n",
       "6071 2009-02-25  7349.580078  7404.939941  7156.680176  7270.890137   \n",
       "6072 2009-02-26  7269.060059  7402.310059  7173.560059  7182.080078   \n",
       "6073 2009-02-27  7180.970215  7195.459961  7033.620117  7062.930176   \n",
       "\n",
       "        Adj Close     Volume  5dayRollAvg  15dayRollAvg  30dayRollAvg  \n",
       "6013  8149.089844  321010000          NaN           NaN           NaN  \n",
       "6014  8419.089844  307520000          NaN           NaN           NaN  \n",
       "6015  8591.690430  294680000          NaN           NaN           NaN  \n",
       "6016  8376.240234  280880000          NaN           NaN           NaN  \n",
       "6017  8635.419922  346370000  8434.306055           NaN           NaN  \n",
       "...           ...        ...          ...           ...           ...  \n",
       "6069  7114.779785  406150000  7410.925977   7816.833952   8022.056559  \n",
       "6070  7350.939941  468010000  7370.593945   7777.779948   7980.448568  \n",
       "6071  7270.890137  450270000  7313.645996   7723.948633   7940.345915  \n",
       "6072  7182.080078  321300000  7256.871973   7672.309961   7898.129932  \n",
       "6073  7062.930176  667950000  7196.324023   7605.633984   7860.222949  \n",
       "\n",
       "[61 rows x 10 columns]"
      ]
     },
     "execution_count": 58,
     "metadata": {},
     "output_type": "execute_result"
    }
   ],
   "source": [
    "start_date = '12/01/2008'\n",
    "end_date = '2/27/2009'\n",
    "after_start_date = df_stocktrend[\"Date\"] >= start_date\n",
    "before_end_date = df_stocktrend[\"Date\"] <= end_date\n",
    "between_two_dates = after_start_date & before_end_date\n",
    "df_finance = df_stocktrend.loc[between_two_dates]\n",
    "df_finance['5dayRollAvg'] = df_finance['Adj Close'].rolling(5).mean()\n",
    "df_finance['15dayRollAvg'] = df_finance['Adj Close'].rolling(15).mean()\n",
    "df_finance['30dayRollAvg'] = df_finance['Adj Close'].rolling(30).mean()\n",
    "df_finance"
   ]
  },
  {
   "cell_type": "code",
   "execution_count": 59,
   "metadata": {
    "scrolled": true
   },
   "outputs": [
    {
     "name": "stderr",
     "output_type": "stream",
     "text": [
      "C:\\Users\\smaheshw\\AppData\\Local\\Continuum\\anaconda3\\envs\\PythonData2020_1\\lib\\site-packages\\ipykernel_launcher.py:7: SettingWithCopyWarning:\n",
      "\n",
      "\n",
      "A value is trying to be set on a copy of a slice from a DataFrame.\n",
      "Try using .loc[row_indexer,col_indexer] = value instead\n",
      "\n",
      "See the caveats in the documentation: http://pandas.pydata.org/pandas-docs/stable/user_guide/indexing.html#returning-a-view-versus-a-copy\n",
      "\n",
      "C:\\Users\\smaheshw\\AppData\\Local\\Continuum\\anaconda3\\envs\\PythonData2020_1\\lib\\site-packages\\ipykernel_launcher.py:8: SettingWithCopyWarning:\n",
      "\n",
      "\n",
      "A value is trying to be set on a copy of a slice from a DataFrame.\n",
      "Try using .loc[row_indexer,col_indexer] = value instead\n",
      "\n",
      "See the caveats in the documentation: http://pandas.pydata.org/pandas-docs/stable/user_guide/indexing.html#returning-a-view-versus-a-copy\n",
      "\n",
      "C:\\Users\\smaheshw\\AppData\\Local\\Continuum\\anaconda3\\envs\\PythonData2020_1\\lib\\site-packages\\ipykernel_launcher.py:9: SettingWithCopyWarning:\n",
      "\n",
      "\n",
      "A value is trying to be set on a copy of a slice from a DataFrame.\n",
      "Try using .loc[row_indexer,col_indexer] = value instead\n",
      "\n",
      "See the caveats in the documentation: http://pandas.pydata.org/pandas-docs/stable/user_guide/indexing.html#returning-a-view-versus-a-copy\n",
      "\n"
     ]
    },
    {
     "data": {
      "text/html": [
       "<div>\n",
       "<style scoped>\n",
       "    .dataframe tbody tr th:only-of-type {\n",
       "        vertical-align: middle;\n",
       "    }\n",
       "\n",
       "    .dataframe tbody tr th {\n",
       "        vertical-align: top;\n",
       "    }\n",
       "\n",
       "    .dataframe thead th {\n",
       "        text-align: right;\n",
       "    }\n",
       "</style>\n",
       "<table border=\"1\" class=\"dataframe\">\n",
       "  <thead>\n",
       "    <tr style=\"text-align: right;\">\n",
       "      <th></th>\n",
       "      <th>Date</th>\n",
       "      <th>Open</th>\n",
       "      <th>High</th>\n",
       "      <th>Low</th>\n",
       "      <th>Close</th>\n",
       "      <th>Adj Close</th>\n",
       "      <th>Volume</th>\n",
       "      <th>5dayRollAvg</th>\n",
       "      <th>15dayRollAvg</th>\n",
       "      <th>30dayRollAvg</th>\n",
       "    </tr>\n",
       "  </thead>\n",
       "  <tbody>\n",
       "    <tr>\n",
       "      <th>8803</th>\n",
       "      <td>2020-01-02</td>\n",
       "      <td>28638.97070</td>\n",
       "      <td>28872.80078</td>\n",
       "      <td>28627.76953</td>\n",
       "      <td>28868.80078</td>\n",
       "      <td>28868.80078</td>\n",
       "      <td>251820000</td>\n",
       "      <td>NaN</td>\n",
       "      <td>NaN</td>\n",
       "      <td>NaN</td>\n",
       "    </tr>\n",
       "    <tr>\n",
       "      <th>8804</th>\n",
       "      <td>2020-01-03</td>\n",
       "      <td>28553.33008</td>\n",
       "      <td>28716.31055</td>\n",
       "      <td>28500.35938</td>\n",
       "      <td>28634.88086</td>\n",
       "      <td>28634.88086</td>\n",
       "      <td>239590000</td>\n",
       "      <td>NaN</td>\n",
       "      <td>NaN</td>\n",
       "      <td>NaN</td>\n",
       "    </tr>\n",
       "    <tr>\n",
       "      <th>8805</th>\n",
       "      <td>2020-01-06</td>\n",
       "      <td>28465.50000</td>\n",
       "      <td>28708.01953</td>\n",
       "      <td>28418.63086</td>\n",
       "      <td>28703.38086</td>\n",
       "      <td>28703.38086</td>\n",
       "      <td>252760000</td>\n",
       "      <td>NaN</td>\n",
       "      <td>NaN</td>\n",
       "      <td>NaN</td>\n",
       "    </tr>\n",
       "    <tr>\n",
       "      <th>8806</th>\n",
       "      <td>2020-01-07</td>\n",
       "      <td>28639.17969</td>\n",
       "      <td>28685.50000</td>\n",
       "      <td>28565.27930</td>\n",
       "      <td>28583.67969</td>\n",
       "      <td>28583.67969</td>\n",
       "      <td>258900000</td>\n",
       "      <td>NaN</td>\n",
       "      <td>NaN</td>\n",
       "      <td>NaN</td>\n",
       "    </tr>\n",
       "    <tr>\n",
       "      <th>8807</th>\n",
       "      <td>2020-01-08</td>\n",
       "      <td>28556.14063</td>\n",
       "      <td>28866.17969</td>\n",
       "      <td>28522.50977</td>\n",
       "      <td>28745.08984</td>\n",
       "      <td>28745.08984</td>\n",
       "      <td>291750000</td>\n",
       "      <td>28707.166406</td>\n",
       "      <td>NaN</td>\n",
       "      <td>NaN</td>\n",
       "    </tr>\n",
       "    <tr>\n",
       "      <th>...</th>\n",
       "      <td>...</td>\n",
       "      <td>...</td>\n",
       "      <td>...</td>\n",
       "      <td>...</td>\n",
       "      <td>...</td>\n",
       "      <td>...</td>\n",
       "      <td>...</td>\n",
       "      <td>...</td>\n",
       "      <td>...</td>\n",
       "      <td>...</td>\n",
       "    </tr>\n",
       "    <tr>\n",
       "      <th>8860</th>\n",
       "      <td>2020-03-25</td>\n",
       "      <td>21050.33984</td>\n",
       "      <td>22019.92969</td>\n",
       "      <td>20538.33984</td>\n",
       "      <td>21200.55078</td>\n",
       "      <td>21200.55078</td>\n",
       "      <td>796320000</td>\n",
       "      <td>19951.712110</td>\n",
       "      <td>21991.871875</td>\n",
       "      <td>24931.027931</td>\n",
       "    </tr>\n",
       "    <tr>\n",
       "      <th>8861</th>\n",
       "      <td>2020-03-26</td>\n",
       "      <td>21468.38086</td>\n",
       "      <td>22595.06055</td>\n",
       "      <td>21427.09961</td>\n",
       "      <td>22552.16992</td>\n",
       "      <td>22552.16992</td>\n",
       "      <td>705180000</td>\n",
       "      <td>20444.708204</td>\n",
       "      <td>21753.931250</td>\n",
       "      <td>24697.719597</td>\n",
       "    </tr>\n",
       "    <tr>\n",
       "      <th>8862</th>\n",
       "      <td>2020-03-27</td>\n",
       "      <td>21898.47070</td>\n",
       "      <td>22327.57031</td>\n",
       "      <td>21469.26953</td>\n",
       "      <td>21636.77930</td>\n",
       "      <td>21636.77930</td>\n",
       "      <td>588830000</td>\n",
       "      <td>20937.267970</td>\n",
       "      <td>21472.064583</td>\n",
       "      <td>24438.168556</td>\n",
       "    </tr>\n",
       "    <tr>\n",
       "      <th>8863</th>\n",
       "      <td>2020-03-30</td>\n",
       "      <td>21678.22070</td>\n",
       "      <td>22378.08984</td>\n",
       "      <td>21522.08008</td>\n",
       "      <td>22327.48047</td>\n",
       "      <td>22327.48047</td>\n",
       "      <td>545540000</td>\n",
       "      <td>21684.378126</td>\n",
       "      <td>21370.495313</td>\n",
       "      <td>24202.481902</td>\n",
       "    </tr>\n",
       "    <tr>\n",
       "      <th>8864</th>\n",
       "      <td>2020-03-31</td>\n",
       "      <td>22208.41992</td>\n",
       "      <td>22480.36914</td>\n",
       "      <td>21852.08008</td>\n",
       "      <td>21917.16016</td>\n",
       "      <td>21917.16016</td>\n",
       "      <td>571210000</td>\n",
       "      <td>21926.828126</td>\n",
       "      <td>21163.761979</td>\n",
       "      <td>23958.647592</td>\n",
       "    </tr>\n",
       "  </tbody>\n",
       "</table>\n",
       "<p>62 rows × 10 columns</p>\n",
       "</div>"
      ],
      "text/plain": [
       "           Date         Open         High          Low        Close  \\\n",
       "8803 2020-01-02  28638.97070  28872.80078  28627.76953  28868.80078   \n",
       "8804 2020-01-03  28553.33008  28716.31055  28500.35938  28634.88086   \n",
       "8805 2020-01-06  28465.50000  28708.01953  28418.63086  28703.38086   \n",
       "8806 2020-01-07  28639.17969  28685.50000  28565.27930  28583.67969   \n",
       "8807 2020-01-08  28556.14063  28866.17969  28522.50977  28745.08984   \n",
       "...         ...          ...          ...          ...          ...   \n",
       "8860 2020-03-25  21050.33984  22019.92969  20538.33984  21200.55078   \n",
       "8861 2020-03-26  21468.38086  22595.06055  21427.09961  22552.16992   \n",
       "8862 2020-03-27  21898.47070  22327.57031  21469.26953  21636.77930   \n",
       "8863 2020-03-30  21678.22070  22378.08984  21522.08008  22327.48047   \n",
       "8864 2020-03-31  22208.41992  22480.36914  21852.08008  21917.16016   \n",
       "\n",
       "        Adj Close     Volume   5dayRollAvg  15dayRollAvg  30dayRollAvg  \n",
       "8803  28868.80078  251820000           NaN           NaN           NaN  \n",
       "8804  28634.88086  239590000           NaN           NaN           NaN  \n",
       "8805  28703.38086  252760000           NaN           NaN           NaN  \n",
       "8806  28583.67969  258900000           NaN           NaN           NaN  \n",
       "8807  28745.08984  291750000  28707.166406           NaN           NaN  \n",
       "...           ...        ...           ...           ...           ...  \n",
       "8860  21200.55078  796320000  19951.712110  21991.871875  24931.027931  \n",
       "8861  22552.16992  705180000  20444.708204  21753.931250  24697.719597  \n",
       "8862  21636.77930  588830000  20937.267970  21472.064583  24438.168556  \n",
       "8863  22327.48047  545540000  21684.378126  21370.495313  24202.481902  \n",
       "8864  21917.16016  571210000  21926.828126  21163.761979  23958.647592  \n",
       "\n",
       "[62 rows x 10 columns]"
      ]
     },
     "execution_count": 59,
     "metadata": {},
     "output_type": "execute_result"
    }
   ],
   "source": [
    "start_date = '01/01/2020'\n",
    "end_date = '03/31/2020'\n",
    "after_start_date = df_stocktrend[\"Date\"] >= start_date\n",
    "before_end_date = df_stocktrend[\"Date\"] <= end_date\n",
    "between_two_dates = after_start_date & before_end_date\n",
    "df_covid = df_stocktrend.loc[between_two_dates]\n",
    "df_covid['5dayRollAvg'] = df_covid['Adj Close'].rolling(5).mean()\n",
    "df_covid['15dayRollAvg'] = df_covid['Adj Close'].rolling(15).mean()\n",
    "df_covid['30dayRollAvg'] = df_covid['Adj Close'].rolling(30).mean()\n",
    "df_covid"
   ]
  },
  {
   "cell_type": "markdown",
   "metadata": {},
   "source": [
    "## Generate Plots"
   ]
  },
  {
   "cell_type": "code",
   "execution_count": 40,
   "metadata": {},
   "outputs": [],
   "source": [
    "def movingaverages(values,window):\n",
    "    weights = np.repeat(1.0,window)/window\n",
    "    simple_movavg = np.convolve(values,weights,'valid')\n",
    "    return simple_movavg"
   ]
  },
  {
   "cell_type": "code",
   "execution_count": 55,
   "metadata": {},
   "outputs": [],
   "source": [
    "#get the adjusted close values from the stock market data to plot moving averages #finance\n",
    "mov_avg_finance_input = df_finance['Adj Close']\n",
    "mov_finance_avg5 = movingaverages(mov_avg_finance_input,5)\n",
    "mov_finance_avg15 = movingaverages(mov_avg_finance_input,15)\n",
    "mov_finance_avg30 = movingaverages(mov_avg_finance_input,30)\n",
    "#print(np.argmax(mov_avg_finance_avg[:-1] - mov_avg_finance_avg[1:]))"
   ]
  },
  {
   "cell_type": "code",
   "execution_count": 56,
   "metadata": {},
   "outputs": [],
   "source": [
    "#get the adjusted close values from the stock market data to plot moving averages #covid-19\n",
    "mov_avg_covid_input = df_covid['Adj Close']\n",
    "mov_avg_covid_avg5 = movingaverages(mov_avg_covid_input,5)\n",
    "mov_avg_covid_avg15 = movingaverages(mov_avg_covid_input,15)\n",
    "mov_avg_covid_avg30 = movingaverages(mov_avg_covid_input,30)\n",
    "#print(np.argmax(mov_avg_covid_avg[:-1] - mov_avg_covid_avg[1:]))"
   ]
  },
  {
   "cell_type": "code",
   "execution_count": 64,
   "metadata": {},
   "outputs": [
    {
     "data": {
      "application/vnd.plotly.v1+json": {
       "config": {
        "plotlyServerURL": "https://plot.ly"
       },
       "data": [
        {
         "close": [
          8149.089844,
          8419.089844,
          8591.69043,
          8376.240234,
          8635.419922,
          8934.179688,
          8691.330078,
          8761.419922,
          8565.089844,
          8629.679688,
          8564.530273,
          8924.139648,
          8824.339844,
          8604.990234,
          8579.110352,
          8519.69043,
          8419.490234,
          8468.480469,
          8515.549805,
          8483.929688,
          8668.389648,
          8776.389648,
          9034.69043,
          8952.889648,
          9015.099609,
          8769.700195,
          8742.459961,
          8599.179688,
          8473.969727,
          8448.55957,
          8200.139648,
          8212.490234,
          8281.219727,
          7949.089844,
          8228.099609,
          8122.799805,
          8077.560059,
          8116.029785,
          8174.72998,
          8375.450195,
          8149.009765999999,
          8000.859863,
          7936.75,
          8078.359863,
          7956.660156,
          8063.069823999999,
          8280.589844,
          8270.870117,
          7888.879883,
          7939.529785,
          7932.759765999999,
          7850.410156,
          7552.600098000001,
          7555.629883,
          7465.950195,
          7365.669922,
          7114.779785,
          7350.939941,
          7270.890137,
          7182.080078,
          7062.930176000001
         ],
         "high": [
          8827.049805,
          8437.169922,
          8624.19043,
          8631.990234,
          8686.469727,
          9026.410156,
          8934.099609,
          8879.219727,
          8809.450195,
          8682.570313,
          8676.280273,
          8958.790039,
          8961.259766,
          8883.360352,
          8787.230469,
          8601.410156,
          8604.120117,
          8498.5,
          8533.070313,
          8530.679688,
          8675.240234,
          8842.660156,
          9065.280273,
          9034.370117,
          9088.05957,
          8996.94043,
          8770.019531,
          8769.620117,
          8602.599609,
          8522.080078,
          8446.25,
          8286.160156,
          8341.200195,
          8291.980469,
          8243.549805,
          8224.830078,
          8152.589844,
          8231.679688,
          8225.790039,
          8405.870117,
          8373.139648,
          8195.759766,
          8000.620117,
          8111.569823999999,
          8162.149901999999,
          8107.830078,
          8312.370117,
          8315.070313,
          8269.44043,
          7983.740234000001,
          7938.819823999999,
          7970.839844,
          7845.629883,
          7617.759765999999,
          7614.970215,
          7469.290039,
          7441.02002,
          7378.970215,
          7404.939941,
          7402.310059,
          7195.459961
         ],
         "low": [
          8141.359863,
          8143.509765999999,
          8234.150391,
          8259.400391,
          8118.5,
          8637.490234,
          8651.740234,
          8646.330078,
          8512.759766,
          8347.80957,
          8469.030273,
          8565.650391,
          8778.070313,
          8527.410156,
          8550.429688,
          8372.019531,
          8391.299805,
          8416.860352,
          8461.780273,
          8364.05957,
          8487.509766,
          8664.889648,
          8760.780273,
          8892.360352,
          8940.950195,
          8719.919922,
          8651.19043,
          8576.959961,
          8421.080078,
          8376.879883,
          8140.720215,
          7995.129883,
          8109.339844,
          7939.930176000001,
          7936.189941,
          7957.140137,
          7909.029785,
          8023.160156,
          8083.140137,
          8175.930176000001,
          8137.939941,
          7961.919922,
          7867.370117,
          7905.52002,
          7929.259765999999,
          7845.310059,
          8052.240234000001,
          8196.240234,
          7848.740234000001,
          7852.160156,
          7693.97998,
          7840.450195,
          7551.009765999999,
          7479.970215,
          7447.549805,
          7249.470215,
          7105.939941,
          7114.299805,
          7156.680176000001,
          7173.560059,
          7033.620117
         ],
         "name": "DJIA index",
         "open": [
          8826.889648,
          8153.75,
          8409.139648,
          8587.070313,
          8376.080078,
          8637.650391,
          8934.099609,
          8693,
          8750.129883,
          8563.099609,
          8628.80957,
          8565.650391,
          8921.910156,
          8823.94043,
          8606.5,
          8573.370117,
          8518.650391,
          8416.860352,
          8468.709961,
          8515.870117,
          8487.509766,
          8666.480469,
          8772.25,
          9027.129883,
          8954.570313,
          8996.94043,
          8769.94043,
          8738.799805,
          8599.259766,
          8474.610352,
          8446.009766,
          8196.240234,
          8215.669922,
          8279.629883,
          7949.169922,
          8224.429688,
          8108.790039,
          8078.040039,
          8117.390137,
          8175.930176000001,
          8373.05957,
          8149.009765999999,
          8000.620117,
          7936.990234000001,
          8070.319823999999,
          7954.830078,
          8056.379883,
          8281.379883,
          8269.360352,
          7887.049805,
          7931.970215,
          7933,
          7845.629883,
          7546.350098000001,
          7555.22998,
          7461.490234000001,
          7365.990234000001,
          7115.339844,
          7349.580078,
          7269.060059,
          7180.970215
         ],
         "type": "candlestick",
         "x": [
          "2008-12-01T00:00:00",
          "2008-12-02T00:00:00",
          "2008-12-03T00:00:00",
          "2008-12-04T00:00:00",
          "2008-12-05T00:00:00",
          "2008-12-08T00:00:00",
          "2008-12-09T00:00:00",
          "2008-12-10T00:00:00",
          "2008-12-11T00:00:00",
          "2008-12-12T00:00:00",
          "2008-12-15T00:00:00",
          "2008-12-16T00:00:00",
          "2008-12-17T00:00:00",
          "2008-12-18T00:00:00",
          "2008-12-19T00:00:00",
          "2008-12-22T00:00:00",
          "2008-12-23T00:00:00",
          "2008-12-24T00:00:00",
          "2008-12-26T00:00:00",
          "2008-12-29T00:00:00",
          "2008-12-30T00:00:00",
          "2008-12-31T00:00:00",
          "2009-01-02T00:00:00",
          "2009-01-05T00:00:00",
          "2009-01-06T00:00:00",
          "2009-01-07T00:00:00",
          "2009-01-08T00:00:00",
          "2009-01-09T00:00:00",
          "2009-01-12T00:00:00",
          "2009-01-13T00:00:00",
          "2009-01-14T00:00:00",
          "2009-01-15T00:00:00",
          "2009-01-16T00:00:00",
          "2009-01-20T00:00:00",
          "2009-01-21T00:00:00",
          "2009-01-22T00:00:00",
          "2009-01-23T00:00:00",
          "2009-01-26T00:00:00",
          "2009-01-27T00:00:00",
          "2009-01-28T00:00:00",
          "2009-01-29T00:00:00",
          "2009-01-30T00:00:00",
          "2009-02-02T00:00:00",
          "2009-02-03T00:00:00",
          "2009-02-04T00:00:00",
          "2009-02-05T00:00:00",
          "2009-02-06T00:00:00",
          "2009-02-09T00:00:00",
          "2009-02-10T00:00:00",
          "2009-02-11T00:00:00",
          "2009-02-12T00:00:00",
          "2009-02-13T00:00:00",
          "2009-02-17T00:00:00",
          "2009-02-18T00:00:00",
          "2009-02-19T00:00:00",
          "2009-02-20T00:00:00",
          "2009-02-23T00:00:00",
          "2009-02-24T00:00:00",
          "2009-02-25T00:00:00",
          "2009-02-26T00:00:00",
          "2009-02-27T00:00:00"
         ]
        },
        {
         "line": {
          "color": "orange",
          "width": 1
         },
         "name": "5 day mov avg",
         "type": "scatter",
         "x": [
          "2008-12-01T00:00:00",
          "2008-12-02T00:00:00",
          "2008-12-03T00:00:00",
          "2008-12-04T00:00:00",
          "2008-12-05T00:00:00",
          "2008-12-08T00:00:00",
          "2008-12-09T00:00:00",
          "2008-12-10T00:00:00",
          "2008-12-11T00:00:00",
          "2008-12-12T00:00:00",
          "2008-12-15T00:00:00",
          "2008-12-16T00:00:00",
          "2008-12-17T00:00:00",
          "2008-12-18T00:00:00",
          "2008-12-19T00:00:00",
          "2008-12-22T00:00:00",
          "2008-12-23T00:00:00",
          "2008-12-24T00:00:00",
          "2008-12-26T00:00:00",
          "2008-12-29T00:00:00",
          "2008-12-30T00:00:00",
          "2008-12-31T00:00:00",
          "2009-01-02T00:00:00",
          "2009-01-05T00:00:00",
          "2009-01-06T00:00:00",
          "2009-01-07T00:00:00",
          "2009-01-08T00:00:00",
          "2009-01-09T00:00:00",
          "2009-01-12T00:00:00",
          "2009-01-13T00:00:00",
          "2009-01-14T00:00:00",
          "2009-01-15T00:00:00",
          "2009-01-16T00:00:00",
          "2009-01-20T00:00:00",
          "2009-01-21T00:00:00",
          "2009-01-22T00:00:00",
          "2009-01-23T00:00:00",
          "2009-01-26T00:00:00",
          "2009-01-27T00:00:00",
          "2009-01-28T00:00:00",
          "2009-01-29T00:00:00",
          "2009-01-30T00:00:00",
          "2009-02-02T00:00:00",
          "2009-02-03T00:00:00",
          "2009-02-04T00:00:00",
          "2009-02-05T00:00:00",
          "2009-02-06T00:00:00",
          "2009-02-09T00:00:00",
          "2009-02-10T00:00:00",
          "2009-02-11T00:00:00",
          "2009-02-12T00:00:00",
          "2009-02-13T00:00:00",
          "2009-02-17T00:00:00",
          "2009-02-18T00:00:00",
          "2009-02-19T00:00:00",
          "2009-02-20T00:00:00",
          "2009-02-23T00:00:00",
          "2009-02-24T00:00:00",
          "2009-02-25T00:00:00",
          "2009-02-26T00:00:00",
          "2009-02-27T00:00:00"
         ],
         "y": [
          null,
          null,
          null,
          null,
          8434.306054800001,
          8591.324023600002,
          8645.7720704,
          8679.7179688,
          8717.487890800001,
          8716.339844000002,
          8642.409961000001,
          8688.971875,
          8701.5558594,
          8709.5359374,
          8699.422070199998,
          8690.4541016,
          8589.524218800001,
          8518.352343800001,
          8500.464258000002,
          8481.428125200002,
          8511.1679688,
          8582.5478516,
          8695.789843800001,
          8783.2578124,
          8889.491796599998,
          8909.753905999998,
          8902.967968599998,
          8815.865820199999,
          8720.081836000001,
          8606.773828200001,
          8492.8617188,
          8386.8677734,
          8323.2757812,
          8218.2998046,
          8174.207812399999,
          8158.7398438,
          8131.7538088,
          8098.715820400001,
          8143.843847600001,
          8173.3139648000015,
          8178.555957000001,
          8163.2159178,
          8127.3599608,
          8108.085937399999,
          8024.327929599999,
          8007.1399412,
          8063.085937400001,
          8129.909960800001,
          8092.013964800001,
          8088.587890600002,
          8062.525879000001,
          7976.4899414,
          7832.835937600001,
          7766.185937600001,
          7671.4700196,
          7558.052050800002,
          7410.925976600001,
          7370.5939452,
          7313.645996000001,
          7256.871972600001,
          7196.324023400001
         ]
        },
        {
         "line": {
          "color": "green",
          "width": 1
         },
         "name": "15 day mov avg",
         "type": "scatter",
         "x": [
          "2008-12-01T00:00:00",
          "2008-12-02T00:00:00",
          "2008-12-03T00:00:00",
          "2008-12-04T00:00:00",
          "2008-12-05T00:00:00",
          "2008-12-08T00:00:00",
          "2008-12-09T00:00:00",
          "2008-12-10T00:00:00",
          "2008-12-11T00:00:00",
          "2008-12-12T00:00:00",
          "2008-12-15T00:00:00",
          "2008-12-16T00:00:00",
          "2008-12-17T00:00:00",
          "2008-12-18T00:00:00",
          "2008-12-19T00:00:00",
          "2008-12-22T00:00:00",
          "2008-12-23T00:00:00",
          "2008-12-24T00:00:00",
          "2008-12-26T00:00:00",
          "2008-12-29T00:00:00",
          "2008-12-30T00:00:00",
          "2008-12-31T00:00:00",
          "2009-01-02T00:00:00",
          "2009-01-05T00:00:00",
          "2009-01-06T00:00:00",
          "2009-01-07T00:00:00",
          "2009-01-08T00:00:00",
          "2009-01-09T00:00:00",
          "2009-01-12T00:00:00",
          "2009-01-13T00:00:00",
          "2009-01-14T00:00:00",
          "2009-01-15T00:00:00",
          "2009-01-16T00:00:00",
          "2009-01-20T00:00:00",
          "2009-01-21T00:00:00",
          "2009-01-22T00:00:00",
          "2009-01-23T00:00:00",
          "2009-01-26T00:00:00",
          "2009-01-27T00:00:00",
          "2009-01-28T00:00:00",
          "2009-01-29T00:00:00",
          "2009-01-30T00:00:00",
          "2009-02-02T00:00:00",
          "2009-02-03T00:00:00",
          "2009-02-04T00:00:00",
          "2009-02-05T00:00:00",
          "2009-02-06T00:00:00",
          "2009-02-09T00:00:00",
          "2009-02-10T00:00:00",
          "2009-02-11T00:00:00",
          "2009-02-12T00:00:00",
          "2009-02-13T00:00:00",
          "2009-02-17T00:00:00",
          "2009-02-18T00:00:00",
          "2009-02-19T00:00:00",
          "2009-02-20T00:00:00",
          "2009-02-23T00:00:00",
          "2009-02-24T00:00:00",
          "2009-02-25T00:00:00",
          "2009-02-26T00:00:00",
          "2009-02-27T00:00:00"
         ],
         "y": [
          null,
          null,
          null,
          null,
          null,
          null,
          null,
          null,
          null,
          null,
          null,
          null,
          null,
          null,
          8616.689323,
          8641.396028733334,
          8641.4227214,
          8633.208724,
          8642.496028733332,
          8632.3966798,
          8614.6773438,
          8620.347981800001,
          8638.566015666667,
          8664.419335933335,
          8690.113997333334,
          8703.791992133334,
          8691.680013000001,
          8676.669335933335,
          8667.934635466667,
          8659.23125,
          8637.927864533334,
          8624.127864533335,
          8611.643815066667,
          8573.879817666668,
          8556.824479066669,
          8520.451822866667,
          8473.8631836,
          8412.619140600002,
          8360.7418294,
          8318.098535133333,
          8276.719173200001,
          8227.279166666667,
          8183.117187466666,
          8156.7431965333335,
          8123.949902266667,
          8114.811914000001,
          8119.351888000001,
          8118.661914,
          8114.647916600001,
          8095.409928333334,
          8082.740592400001,
          8067.597265533334,
          8030.035286400001,
          7988.761946600001,
          7928.128613266667,
          7875.905957,
          7816.8339518,
          7777.7799478666675,
          7723.9486328,
          7672.309960933333,
          7605.6339843999995
         ]
        }
       ],
       "layout": {
        "font": {
         "color": "#7F7F7F",
         "family": "Courier New, monospace",
         "size": 20
        },
        "template": {
         "data": {
          "bar": [
           {
            "error_x": {
             "color": "#2a3f5f"
            },
            "error_y": {
             "color": "#2a3f5f"
            },
            "marker": {
             "line": {
              "color": "#E5ECF6",
              "width": 0.5
             }
            },
            "type": "bar"
           }
          ],
          "barpolar": [
           {
            "marker": {
             "line": {
              "color": "#E5ECF6",
              "width": 0.5
             }
            },
            "type": "barpolar"
           }
          ],
          "carpet": [
           {
            "aaxis": {
             "endlinecolor": "#2a3f5f",
             "gridcolor": "white",
             "linecolor": "white",
             "minorgridcolor": "white",
             "startlinecolor": "#2a3f5f"
            },
            "baxis": {
             "endlinecolor": "#2a3f5f",
             "gridcolor": "white",
             "linecolor": "white",
             "minorgridcolor": "white",
             "startlinecolor": "#2a3f5f"
            },
            "type": "carpet"
           }
          ],
          "choropleth": [
           {
            "colorbar": {
             "outlinewidth": 0,
             "ticks": ""
            },
            "type": "choropleth"
           }
          ],
          "contour": [
           {
            "colorbar": {
             "outlinewidth": 0,
             "ticks": ""
            },
            "colorscale": [
             [
              0,
              "#0d0887"
             ],
             [
              0.1111111111111111,
              "#46039f"
             ],
             [
              0.2222222222222222,
              "#7201a8"
             ],
             [
              0.3333333333333333,
              "#9c179e"
             ],
             [
              0.4444444444444444,
              "#bd3786"
             ],
             [
              0.5555555555555556,
              "#d8576b"
             ],
             [
              0.6666666666666666,
              "#ed7953"
             ],
             [
              0.7777777777777778,
              "#fb9f3a"
             ],
             [
              0.8888888888888888,
              "#fdca26"
             ],
             [
              1,
              "#f0f921"
             ]
            ],
            "type": "contour"
           }
          ],
          "contourcarpet": [
           {
            "colorbar": {
             "outlinewidth": 0,
             "ticks": ""
            },
            "type": "contourcarpet"
           }
          ],
          "heatmap": [
           {
            "colorbar": {
             "outlinewidth": 0,
             "ticks": ""
            },
            "colorscale": [
             [
              0,
              "#0d0887"
             ],
             [
              0.1111111111111111,
              "#46039f"
             ],
             [
              0.2222222222222222,
              "#7201a8"
             ],
             [
              0.3333333333333333,
              "#9c179e"
             ],
             [
              0.4444444444444444,
              "#bd3786"
             ],
             [
              0.5555555555555556,
              "#d8576b"
             ],
             [
              0.6666666666666666,
              "#ed7953"
             ],
             [
              0.7777777777777778,
              "#fb9f3a"
             ],
             [
              0.8888888888888888,
              "#fdca26"
             ],
             [
              1,
              "#f0f921"
             ]
            ],
            "type": "heatmap"
           }
          ],
          "heatmapgl": [
           {
            "colorbar": {
             "outlinewidth": 0,
             "ticks": ""
            },
            "colorscale": [
             [
              0,
              "#0d0887"
             ],
             [
              0.1111111111111111,
              "#46039f"
             ],
             [
              0.2222222222222222,
              "#7201a8"
             ],
             [
              0.3333333333333333,
              "#9c179e"
             ],
             [
              0.4444444444444444,
              "#bd3786"
             ],
             [
              0.5555555555555556,
              "#d8576b"
             ],
             [
              0.6666666666666666,
              "#ed7953"
             ],
             [
              0.7777777777777778,
              "#fb9f3a"
             ],
             [
              0.8888888888888888,
              "#fdca26"
             ],
             [
              1,
              "#f0f921"
             ]
            ],
            "type": "heatmapgl"
           }
          ],
          "histogram": [
           {
            "marker": {
             "colorbar": {
              "outlinewidth": 0,
              "ticks": ""
             }
            },
            "type": "histogram"
           }
          ],
          "histogram2d": [
           {
            "colorbar": {
             "outlinewidth": 0,
             "ticks": ""
            },
            "colorscale": [
             [
              0,
              "#0d0887"
             ],
             [
              0.1111111111111111,
              "#46039f"
             ],
             [
              0.2222222222222222,
              "#7201a8"
             ],
             [
              0.3333333333333333,
              "#9c179e"
             ],
             [
              0.4444444444444444,
              "#bd3786"
             ],
             [
              0.5555555555555556,
              "#d8576b"
             ],
             [
              0.6666666666666666,
              "#ed7953"
             ],
             [
              0.7777777777777778,
              "#fb9f3a"
             ],
             [
              0.8888888888888888,
              "#fdca26"
             ],
             [
              1,
              "#f0f921"
             ]
            ],
            "type": "histogram2d"
           }
          ],
          "histogram2dcontour": [
           {
            "colorbar": {
             "outlinewidth": 0,
             "ticks": ""
            },
            "colorscale": [
             [
              0,
              "#0d0887"
             ],
             [
              0.1111111111111111,
              "#46039f"
             ],
             [
              0.2222222222222222,
              "#7201a8"
             ],
             [
              0.3333333333333333,
              "#9c179e"
             ],
             [
              0.4444444444444444,
              "#bd3786"
             ],
             [
              0.5555555555555556,
              "#d8576b"
             ],
             [
              0.6666666666666666,
              "#ed7953"
             ],
             [
              0.7777777777777778,
              "#fb9f3a"
             ],
             [
              0.8888888888888888,
              "#fdca26"
             ],
             [
              1,
              "#f0f921"
             ]
            ],
            "type": "histogram2dcontour"
           }
          ],
          "mesh3d": [
           {
            "colorbar": {
             "outlinewidth": 0,
             "ticks": ""
            },
            "type": "mesh3d"
           }
          ],
          "parcoords": [
           {
            "line": {
             "colorbar": {
              "outlinewidth": 0,
              "ticks": ""
             }
            },
            "type": "parcoords"
           }
          ],
          "pie": [
           {
            "automargin": true,
            "type": "pie"
           }
          ],
          "scatter": [
           {
            "marker": {
             "colorbar": {
              "outlinewidth": 0,
              "ticks": ""
             }
            },
            "type": "scatter"
           }
          ],
          "scatter3d": [
           {
            "line": {
             "colorbar": {
              "outlinewidth": 0,
              "ticks": ""
             }
            },
            "marker": {
             "colorbar": {
              "outlinewidth": 0,
              "ticks": ""
             }
            },
            "type": "scatter3d"
           }
          ],
          "scattercarpet": [
           {
            "marker": {
             "colorbar": {
              "outlinewidth": 0,
              "ticks": ""
             }
            },
            "type": "scattercarpet"
           }
          ],
          "scattergeo": [
           {
            "marker": {
             "colorbar": {
              "outlinewidth": 0,
              "ticks": ""
             }
            },
            "type": "scattergeo"
           }
          ],
          "scattergl": [
           {
            "marker": {
             "colorbar": {
              "outlinewidth": 0,
              "ticks": ""
             }
            },
            "type": "scattergl"
           }
          ],
          "scattermapbox": [
           {
            "marker": {
             "colorbar": {
              "outlinewidth": 0,
              "ticks": ""
             }
            },
            "type": "scattermapbox"
           }
          ],
          "scatterpolar": [
           {
            "marker": {
             "colorbar": {
              "outlinewidth": 0,
              "ticks": ""
             }
            },
            "type": "scatterpolar"
           }
          ],
          "scatterpolargl": [
           {
            "marker": {
             "colorbar": {
              "outlinewidth": 0,
              "ticks": ""
             }
            },
            "type": "scatterpolargl"
           }
          ],
          "scatterternary": [
           {
            "marker": {
             "colorbar": {
              "outlinewidth": 0,
              "ticks": ""
             }
            },
            "type": "scatterternary"
           }
          ],
          "surface": [
           {
            "colorbar": {
             "outlinewidth": 0,
             "ticks": ""
            },
            "colorscale": [
             [
              0,
              "#0d0887"
             ],
             [
              0.1111111111111111,
              "#46039f"
             ],
             [
              0.2222222222222222,
              "#7201a8"
             ],
             [
              0.3333333333333333,
              "#9c179e"
             ],
             [
              0.4444444444444444,
              "#bd3786"
             ],
             [
              0.5555555555555556,
              "#d8576b"
             ],
             [
              0.6666666666666666,
              "#ed7953"
             ],
             [
              0.7777777777777778,
              "#fb9f3a"
             ],
             [
              0.8888888888888888,
              "#fdca26"
             ],
             [
              1,
              "#f0f921"
             ]
            ],
            "type": "surface"
           }
          ],
          "table": [
           {
            "cells": {
             "fill": {
              "color": "#EBF0F8"
             },
             "line": {
              "color": "white"
             }
            },
            "header": {
             "fill": {
              "color": "#C8D4E3"
             },
             "line": {
              "color": "white"
             }
            },
            "type": "table"
           }
          ]
         },
         "layout": {
          "annotationdefaults": {
           "arrowcolor": "#2a3f5f",
           "arrowhead": 0,
           "arrowwidth": 1
          },
          "coloraxis": {
           "colorbar": {
            "outlinewidth": 0,
            "ticks": ""
           }
          },
          "colorscale": {
           "diverging": [
            [
             0,
             "#8e0152"
            ],
            [
             0.1,
             "#c51b7d"
            ],
            [
             0.2,
             "#de77ae"
            ],
            [
             0.3,
             "#f1b6da"
            ],
            [
             0.4,
             "#fde0ef"
            ],
            [
             0.5,
             "#f7f7f7"
            ],
            [
             0.6,
             "#e6f5d0"
            ],
            [
             0.7,
             "#b8e186"
            ],
            [
             0.8,
             "#7fbc41"
            ],
            [
             0.9,
             "#4d9221"
            ],
            [
             1,
             "#276419"
            ]
           ],
           "sequential": [
            [
             0,
             "#0d0887"
            ],
            [
             0.1111111111111111,
             "#46039f"
            ],
            [
             0.2222222222222222,
             "#7201a8"
            ],
            [
             0.3333333333333333,
             "#9c179e"
            ],
            [
             0.4444444444444444,
             "#bd3786"
            ],
            [
             0.5555555555555556,
             "#d8576b"
            ],
            [
             0.6666666666666666,
             "#ed7953"
            ],
            [
             0.7777777777777778,
             "#fb9f3a"
            ],
            [
             0.8888888888888888,
             "#fdca26"
            ],
            [
             1,
             "#f0f921"
            ]
           ],
           "sequentialminus": [
            [
             0,
             "#0d0887"
            ],
            [
             0.1111111111111111,
             "#46039f"
            ],
            [
             0.2222222222222222,
             "#7201a8"
            ],
            [
             0.3333333333333333,
             "#9c179e"
            ],
            [
             0.4444444444444444,
             "#bd3786"
            ],
            [
             0.5555555555555556,
             "#d8576b"
            ],
            [
             0.6666666666666666,
             "#ed7953"
            ],
            [
             0.7777777777777778,
             "#fb9f3a"
            ],
            [
             0.8888888888888888,
             "#fdca26"
            ],
            [
             1,
             "#f0f921"
            ]
           ]
          },
          "colorway": [
           "#636efa",
           "#EF553B",
           "#00cc96",
           "#ab63fa",
           "#FFA15A",
           "#19d3f3",
           "#FF6692",
           "#B6E880",
           "#FF97FF",
           "#FECB52"
          ],
          "font": {
           "color": "#2a3f5f"
          },
          "geo": {
           "bgcolor": "white",
           "lakecolor": "white",
           "landcolor": "#E5ECF6",
           "showlakes": true,
           "showland": true,
           "subunitcolor": "white"
          },
          "hoverlabel": {
           "align": "left"
          },
          "hovermode": "closest",
          "mapbox": {
           "style": "light"
          },
          "paper_bgcolor": "white",
          "plot_bgcolor": "#E5ECF6",
          "polar": {
           "angularaxis": {
            "gridcolor": "white",
            "linecolor": "white",
            "ticks": ""
           },
           "bgcolor": "#E5ECF6",
           "radialaxis": {
            "gridcolor": "white",
            "linecolor": "white",
            "ticks": ""
           }
          },
          "scene": {
           "xaxis": {
            "backgroundcolor": "#E5ECF6",
            "gridcolor": "white",
            "gridwidth": 2,
            "linecolor": "white",
            "showbackground": true,
            "ticks": "",
            "zerolinecolor": "white"
           },
           "yaxis": {
            "backgroundcolor": "#E5ECF6",
            "gridcolor": "white",
            "gridwidth": 2,
            "linecolor": "white",
            "showbackground": true,
            "ticks": "",
            "zerolinecolor": "white"
           },
           "zaxis": {
            "backgroundcolor": "#E5ECF6",
            "gridcolor": "white",
            "gridwidth": 2,
            "linecolor": "white",
            "showbackground": true,
            "ticks": "",
            "zerolinecolor": "white"
           }
          },
          "shapedefaults": {
           "line": {
            "color": "#2a3f5f"
           }
          },
          "ternary": {
           "aaxis": {
            "gridcolor": "white",
            "linecolor": "white",
            "ticks": ""
           },
           "baxis": {
            "gridcolor": "white",
            "linecolor": "white",
            "ticks": ""
           },
           "bgcolor": "#E5ECF6",
           "caxis": {
            "gridcolor": "white",
            "linecolor": "white",
            "ticks": ""
           }
          },
          "title": {
           "x": 0.05
          },
          "xaxis": {
           "automargin": true,
           "gridcolor": "white",
           "linecolor": "white",
           "ticks": "",
           "title": {
            "standoff": 15
           },
           "zerolinecolor": "white",
           "zerolinewidth": 2
          },
          "yaxis": {
           "automargin": true,
           "gridcolor": "white",
           "linecolor": "white",
           "ticks": "",
           "title": {
            "standoff": 15
           },
           "zerolinecolor": "white",
           "zerolinewidth": 2
          }
         }
        },
        "title": {
         "text": "Financial Bubble",
         "x": 0.5,
         "xanchor": "center",
         "y": 0.9,
         "yanchor": "top"
        }
       }
      },
      "text/html": [
       "<div>\n",
       "        \n",
       "        \n",
       "            <div id=\"66ebb57d-e01f-4126-b080-211635b022e1\" class=\"plotly-graph-div\" style=\"height:525px; width:100%;\"></div>\n",
       "            <script type=\"text/javascript\">\n",
       "                require([\"plotly\"], function(Plotly) {\n",
       "                    window.PLOTLYENV=window.PLOTLYENV || {};\n",
       "                    \n",
       "                if (document.getElementById(\"66ebb57d-e01f-4126-b080-211635b022e1\")) {\n",
       "                    Plotly.newPlot(\n",
       "                        '66ebb57d-e01f-4126-b080-211635b022e1',\n",
       "                        [{\"close\": [8149.089844, 8419.089844, 8591.69043, 8376.240234, 8635.419922, 8934.179688, 8691.330078, 8761.419922, 8565.089844, 8629.679688, 8564.530273, 8924.139648, 8824.339844, 8604.990234, 8579.110352, 8519.69043, 8419.490234, 8468.480469, 8515.549805, 8483.929688, 8668.389648, 8776.389648, 9034.69043, 8952.889648, 9015.099609, 8769.700195, 8742.459961, 8599.179688, 8473.969727, 8448.55957, 8200.139648, 8212.490234, 8281.219727, 7949.089844, 8228.099609, 8122.799805, 8077.560059, 8116.029785, 8174.72998, 8375.450195, 8149.009765999999, 8000.859863, 7936.75, 8078.359863, 7956.660156, 8063.069823999999, 8280.589844, 8270.870117, 7888.879883, 7939.529785, 7932.759765999999, 7850.410156, 7552.600098000001, 7555.629883, 7465.950195, 7365.669922, 7114.779785, 7350.939941, 7270.890137, 7182.080078, 7062.930176000001], \"high\": [8827.049805, 8437.169922, 8624.19043, 8631.990234, 8686.469727, 9026.410156, 8934.099609, 8879.219727, 8809.450195, 8682.570313, 8676.280273, 8958.790039, 8961.259766, 8883.360352, 8787.230469, 8601.410156, 8604.120117, 8498.5, 8533.070313, 8530.679688, 8675.240234, 8842.660156, 9065.280273, 9034.370117, 9088.05957, 8996.94043, 8770.019531, 8769.620117, 8602.599609, 8522.080078, 8446.25, 8286.160156, 8341.200195, 8291.980469, 8243.549805, 8224.830078, 8152.589844, 8231.679688, 8225.790039, 8405.870117, 8373.139648, 8195.759766, 8000.620117, 8111.569823999999, 8162.149901999999, 8107.830078, 8312.370117, 8315.070313, 8269.44043, 7983.740234000001, 7938.819823999999, 7970.839844, 7845.629883, 7617.759765999999, 7614.970215, 7469.290039, 7441.02002, 7378.970215, 7404.939941, 7402.310059, 7195.459961], \"low\": [8141.359863, 8143.509765999999, 8234.150391, 8259.400391, 8118.5, 8637.490234, 8651.740234, 8646.330078, 8512.759766, 8347.80957, 8469.030273, 8565.650391, 8778.070313, 8527.410156, 8550.429688, 8372.019531, 8391.299805, 8416.860352, 8461.780273, 8364.05957, 8487.509766, 8664.889648, 8760.780273, 8892.360352, 8940.950195, 8719.919922, 8651.19043, 8576.959961, 8421.080078, 8376.879883, 8140.720215, 7995.129883, 8109.339844, 7939.930176000001, 7936.189941, 7957.140137, 7909.029785, 8023.160156, 8083.140137, 8175.930176000001, 8137.939941, 7961.919922, 7867.370117, 7905.52002, 7929.259765999999, 7845.310059, 8052.240234000001, 8196.240234, 7848.740234000001, 7852.160156, 7693.97998, 7840.450195, 7551.009765999999, 7479.970215, 7447.549805, 7249.470215, 7105.939941, 7114.299805, 7156.680176000001, 7173.560059, 7033.620117], \"name\": \"DJIA index\", \"open\": [8826.889648, 8153.75, 8409.139648, 8587.070313, 8376.080078, 8637.650391, 8934.099609, 8693.0, 8750.129883, 8563.099609, 8628.80957, 8565.650391, 8921.910156, 8823.94043, 8606.5, 8573.370117, 8518.650391, 8416.860352, 8468.709961, 8515.870117, 8487.509766, 8666.480469, 8772.25, 9027.129883, 8954.570313, 8996.94043, 8769.94043, 8738.799805, 8599.259766, 8474.610352, 8446.009766, 8196.240234, 8215.669922, 8279.629883, 7949.169922, 8224.429688, 8108.790039, 8078.040039, 8117.390137, 8175.930176000001, 8373.05957, 8149.009765999999, 8000.620117, 7936.990234000001, 8070.319823999999, 7954.830078, 8056.379883, 8281.379883, 8269.360352, 7887.049805, 7931.970215, 7933.0, 7845.629883, 7546.350098000001, 7555.22998, 7461.490234000001, 7365.990234000001, 7115.339844, 7349.580078, 7269.060059, 7180.970215], \"type\": \"candlestick\", \"x\": [\"2008-12-01T00:00:00\", \"2008-12-02T00:00:00\", \"2008-12-03T00:00:00\", \"2008-12-04T00:00:00\", \"2008-12-05T00:00:00\", \"2008-12-08T00:00:00\", \"2008-12-09T00:00:00\", \"2008-12-10T00:00:00\", \"2008-12-11T00:00:00\", \"2008-12-12T00:00:00\", \"2008-12-15T00:00:00\", \"2008-12-16T00:00:00\", \"2008-12-17T00:00:00\", \"2008-12-18T00:00:00\", \"2008-12-19T00:00:00\", \"2008-12-22T00:00:00\", \"2008-12-23T00:00:00\", \"2008-12-24T00:00:00\", \"2008-12-26T00:00:00\", \"2008-12-29T00:00:00\", \"2008-12-30T00:00:00\", \"2008-12-31T00:00:00\", \"2009-01-02T00:00:00\", \"2009-01-05T00:00:00\", \"2009-01-06T00:00:00\", \"2009-01-07T00:00:00\", \"2009-01-08T00:00:00\", \"2009-01-09T00:00:00\", \"2009-01-12T00:00:00\", \"2009-01-13T00:00:00\", \"2009-01-14T00:00:00\", \"2009-01-15T00:00:00\", \"2009-01-16T00:00:00\", \"2009-01-20T00:00:00\", \"2009-01-21T00:00:00\", \"2009-01-22T00:00:00\", \"2009-01-23T00:00:00\", \"2009-01-26T00:00:00\", \"2009-01-27T00:00:00\", \"2009-01-28T00:00:00\", \"2009-01-29T00:00:00\", \"2009-01-30T00:00:00\", \"2009-02-02T00:00:00\", \"2009-02-03T00:00:00\", \"2009-02-04T00:00:00\", \"2009-02-05T00:00:00\", \"2009-02-06T00:00:00\", \"2009-02-09T00:00:00\", \"2009-02-10T00:00:00\", \"2009-02-11T00:00:00\", \"2009-02-12T00:00:00\", \"2009-02-13T00:00:00\", \"2009-02-17T00:00:00\", \"2009-02-18T00:00:00\", \"2009-02-19T00:00:00\", \"2009-02-20T00:00:00\", \"2009-02-23T00:00:00\", \"2009-02-24T00:00:00\", \"2009-02-25T00:00:00\", \"2009-02-26T00:00:00\", \"2009-02-27T00:00:00\"]}, {\"line\": {\"color\": \"orange\", \"width\": 1}, \"name\": \"5 day mov avg\", \"type\": \"scatter\", \"x\": [\"2008-12-01T00:00:00\", \"2008-12-02T00:00:00\", \"2008-12-03T00:00:00\", \"2008-12-04T00:00:00\", \"2008-12-05T00:00:00\", \"2008-12-08T00:00:00\", \"2008-12-09T00:00:00\", \"2008-12-10T00:00:00\", \"2008-12-11T00:00:00\", \"2008-12-12T00:00:00\", \"2008-12-15T00:00:00\", \"2008-12-16T00:00:00\", \"2008-12-17T00:00:00\", \"2008-12-18T00:00:00\", \"2008-12-19T00:00:00\", \"2008-12-22T00:00:00\", \"2008-12-23T00:00:00\", \"2008-12-24T00:00:00\", \"2008-12-26T00:00:00\", \"2008-12-29T00:00:00\", \"2008-12-30T00:00:00\", \"2008-12-31T00:00:00\", \"2009-01-02T00:00:00\", \"2009-01-05T00:00:00\", \"2009-01-06T00:00:00\", \"2009-01-07T00:00:00\", \"2009-01-08T00:00:00\", \"2009-01-09T00:00:00\", \"2009-01-12T00:00:00\", \"2009-01-13T00:00:00\", \"2009-01-14T00:00:00\", \"2009-01-15T00:00:00\", \"2009-01-16T00:00:00\", \"2009-01-20T00:00:00\", \"2009-01-21T00:00:00\", \"2009-01-22T00:00:00\", \"2009-01-23T00:00:00\", \"2009-01-26T00:00:00\", \"2009-01-27T00:00:00\", \"2009-01-28T00:00:00\", \"2009-01-29T00:00:00\", \"2009-01-30T00:00:00\", \"2009-02-02T00:00:00\", \"2009-02-03T00:00:00\", \"2009-02-04T00:00:00\", \"2009-02-05T00:00:00\", \"2009-02-06T00:00:00\", \"2009-02-09T00:00:00\", \"2009-02-10T00:00:00\", \"2009-02-11T00:00:00\", \"2009-02-12T00:00:00\", \"2009-02-13T00:00:00\", \"2009-02-17T00:00:00\", \"2009-02-18T00:00:00\", \"2009-02-19T00:00:00\", \"2009-02-20T00:00:00\", \"2009-02-23T00:00:00\", \"2009-02-24T00:00:00\", \"2009-02-25T00:00:00\", \"2009-02-26T00:00:00\", \"2009-02-27T00:00:00\"], \"y\": [null, null, null, null, 8434.306054800001, 8591.324023600002, 8645.7720704, 8679.7179688, 8717.487890800001, 8716.339844000002, 8642.409961000001, 8688.971875, 8701.5558594, 8709.5359374, 8699.422070199998, 8690.4541016, 8589.524218800001, 8518.352343800001, 8500.464258000002, 8481.428125200002, 8511.1679688, 8582.5478516, 8695.789843800001, 8783.2578124, 8889.491796599998, 8909.753905999998, 8902.967968599998, 8815.865820199999, 8720.081836000001, 8606.773828200001, 8492.8617188, 8386.8677734, 8323.2757812, 8218.2998046, 8174.207812399999, 8158.7398438, 8131.7538088, 8098.715820400001, 8143.843847600001, 8173.3139648000015, 8178.555957000001, 8163.2159178, 8127.3599608, 8108.085937399999, 8024.327929599999, 8007.1399412, 8063.085937400001, 8129.909960800001, 8092.013964800001, 8088.587890600002, 8062.525879000001, 7976.4899414, 7832.835937600001, 7766.185937600001, 7671.4700196, 7558.052050800002, 7410.925976600001, 7370.5939452, 7313.645996000001, 7256.871972600001, 7196.324023400001]}, {\"line\": {\"color\": \"green\", \"width\": 1}, \"name\": \"15 day mov avg\", \"type\": \"scatter\", \"x\": [\"2008-12-01T00:00:00\", \"2008-12-02T00:00:00\", \"2008-12-03T00:00:00\", \"2008-12-04T00:00:00\", \"2008-12-05T00:00:00\", \"2008-12-08T00:00:00\", \"2008-12-09T00:00:00\", \"2008-12-10T00:00:00\", \"2008-12-11T00:00:00\", \"2008-12-12T00:00:00\", \"2008-12-15T00:00:00\", \"2008-12-16T00:00:00\", \"2008-12-17T00:00:00\", \"2008-12-18T00:00:00\", \"2008-12-19T00:00:00\", \"2008-12-22T00:00:00\", \"2008-12-23T00:00:00\", \"2008-12-24T00:00:00\", \"2008-12-26T00:00:00\", \"2008-12-29T00:00:00\", \"2008-12-30T00:00:00\", \"2008-12-31T00:00:00\", \"2009-01-02T00:00:00\", \"2009-01-05T00:00:00\", \"2009-01-06T00:00:00\", \"2009-01-07T00:00:00\", \"2009-01-08T00:00:00\", \"2009-01-09T00:00:00\", \"2009-01-12T00:00:00\", \"2009-01-13T00:00:00\", \"2009-01-14T00:00:00\", \"2009-01-15T00:00:00\", \"2009-01-16T00:00:00\", \"2009-01-20T00:00:00\", \"2009-01-21T00:00:00\", \"2009-01-22T00:00:00\", \"2009-01-23T00:00:00\", \"2009-01-26T00:00:00\", \"2009-01-27T00:00:00\", \"2009-01-28T00:00:00\", \"2009-01-29T00:00:00\", \"2009-01-30T00:00:00\", \"2009-02-02T00:00:00\", \"2009-02-03T00:00:00\", \"2009-02-04T00:00:00\", \"2009-02-05T00:00:00\", \"2009-02-06T00:00:00\", \"2009-02-09T00:00:00\", \"2009-02-10T00:00:00\", \"2009-02-11T00:00:00\", \"2009-02-12T00:00:00\", \"2009-02-13T00:00:00\", \"2009-02-17T00:00:00\", \"2009-02-18T00:00:00\", \"2009-02-19T00:00:00\", \"2009-02-20T00:00:00\", \"2009-02-23T00:00:00\", \"2009-02-24T00:00:00\", \"2009-02-25T00:00:00\", \"2009-02-26T00:00:00\", \"2009-02-27T00:00:00\"], \"y\": [null, null, null, null, null, null, null, null, null, null, null, null, null, null, 8616.689323, 8641.396028733334, 8641.4227214, 8633.208724, 8642.496028733332, 8632.3966798, 8614.6773438, 8620.347981800001, 8638.566015666667, 8664.419335933335, 8690.113997333334, 8703.791992133334, 8691.680013000001, 8676.669335933335, 8667.934635466667, 8659.23125, 8637.927864533334, 8624.127864533335, 8611.643815066667, 8573.879817666668, 8556.824479066669, 8520.451822866667, 8473.8631836, 8412.619140600002, 8360.7418294, 8318.098535133333, 8276.719173200001, 8227.279166666667, 8183.117187466666, 8156.7431965333335, 8123.949902266667, 8114.811914000001, 8119.351888000001, 8118.661914, 8114.647916600001, 8095.409928333334, 8082.740592400001, 8067.597265533334, 8030.035286400001, 7988.761946600001, 7928.128613266667, 7875.905957, 7816.8339518, 7777.7799478666675, 7723.9486328, 7672.309960933333, 7605.6339843999995]}],\n",
       "                        {\"font\": {\"color\": \"#7F7F7F\", \"family\": \"Courier New, monospace\", \"size\": 20}, \"template\": {\"data\": {\"bar\": [{\"error_x\": {\"color\": \"#2a3f5f\"}, \"error_y\": {\"color\": \"#2a3f5f\"}, \"marker\": {\"line\": {\"color\": \"#E5ECF6\", \"width\": 0.5}}, \"type\": \"bar\"}], \"barpolar\": [{\"marker\": {\"line\": {\"color\": \"#E5ECF6\", \"width\": 0.5}}, \"type\": \"barpolar\"}], \"carpet\": [{\"aaxis\": {\"endlinecolor\": \"#2a3f5f\", \"gridcolor\": \"white\", \"linecolor\": \"white\", \"minorgridcolor\": \"white\", \"startlinecolor\": \"#2a3f5f\"}, \"baxis\": {\"endlinecolor\": \"#2a3f5f\", \"gridcolor\": \"white\", \"linecolor\": \"white\", \"minorgridcolor\": \"white\", \"startlinecolor\": \"#2a3f5f\"}, \"type\": \"carpet\"}], \"choropleth\": [{\"colorbar\": {\"outlinewidth\": 0, \"ticks\": \"\"}, \"type\": \"choropleth\"}], \"contour\": [{\"colorbar\": {\"outlinewidth\": 0, \"ticks\": \"\"}, \"colorscale\": [[0.0, \"#0d0887\"], [0.1111111111111111, \"#46039f\"], [0.2222222222222222, \"#7201a8\"], [0.3333333333333333, \"#9c179e\"], [0.4444444444444444, \"#bd3786\"], [0.5555555555555556, \"#d8576b\"], [0.6666666666666666, \"#ed7953\"], [0.7777777777777778, \"#fb9f3a\"], [0.8888888888888888, \"#fdca26\"], [1.0, \"#f0f921\"]], \"type\": \"contour\"}], \"contourcarpet\": [{\"colorbar\": {\"outlinewidth\": 0, \"ticks\": \"\"}, \"type\": \"contourcarpet\"}], \"heatmap\": [{\"colorbar\": {\"outlinewidth\": 0, \"ticks\": \"\"}, \"colorscale\": [[0.0, \"#0d0887\"], [0.1111111111111111, \"#46039f\"], [0.2222222222222222, \"#7201a8\"], [0.3333333333333333, \"#9c179e\"], [0.4444444444444444, \"#bd3786\"], [0.5555555555555556, \"#d8576b\"], [0.6666666666666666, \"#ed7953\"], [0.7777777777777778, \"#fb9f3a\"], [0.8888888888888888, \"#fdca26\"], [1.0, \"#f0f921\"]], \"type\": \"heatmap\"}], \"heatmapgl\": [{\"colorbar\": {\"outlinewidth\": 0, \"ticks\": \"\"}, \"colorscale\": [[0.0, \"#0d0887\"], [0.1111111111111111, \"#46039f\"], [0.2222222222222222, \"#7201a8\"], [0.3333333333333333, \"#9c179e\"], [0.4444444444444444, \"#bd3786\"], [0.5555555555555556, \"#d8576b\"], [0.6666666666666666, \"#ed7953\"], [0.7777777777777778, \"#fb9f3a\"], [0.8888888888888888, \"#fdca26\"], [1.0, \"#f0f921\"]], \"type\": \"heatmapgl\"}], \"histogram\": [{\"marker\": {\"colorbar\": {\"outlinewidth\": 0, \"ticks\": \"\"}}, \"type\": \"histogram\"}], \"histogram2d\": [{\"colorbar\": {\"outlinewidth\": 0, \"ticks\": \"\"}, \"colorscale\": [[0.0, \"#0d0887\"], [0.1111111111111111, \"#46039f\"], [0.2222222222222222, \"#7201a8\"], [0.3333333333333333, \"#9c179e\"], [0.4444444444444444, \"#bd3786\"], [0.5555555555555556, \"#d8576b\"], [0.6666666666666666, \"#ed7953\"], [0.7777777777777778, \"#fb9f3a\"], [0.8888888888888888, \"#fdca26\"], [1.0, \"#f0f921\"]], \"type\": \"histogram2d\"}], \"histogram2dcontour\": [{\"colorbar\": {\"outlinewidth\": 0, \"ticks\": \"\"}, \"colorscale\": [[0.0, \"#0d0887\"], [0.1111111111111111, \"#46039f\"], [0.2222222222222222, \"#7201a8\"], [0.3333333333333333, \"#9c179e\"], [0.4444444444444444, \"#bd3786\"], [0.5555555555555556, \"#d8576b\"], [0.6666666666666666, \"#ed7953\"], [0.7777777777777778, \"#fb9f3a\"], [0.8888888888888888, \"#fdca26\"], [1.0, \"#f0f921\"]], \"type\": \"histogram2dcontour\"}], \"mesh3d\": [{\"colorbar\": {\"outlinewidth\": 0, \"ticks\": \"\"}, \"type\": \"mesh3d\"}], \"parcoords\": [{\"line\": {\"colorbar\": {\"outlinewidth\": 0, \"ticks\": \"\"}}, \"type\": \"parcoords\"}], \"pie\": [{\"automargin\": true, \"type\": \"pie\"}], \"scatter\": [{\"marker\": {\"colorbar\": {\"outlinewidth\": 0, \"ticks\": \"\"}}, \"type\": \"scatter\"}], \"scatter3d\": [{\"line\": {\"colorbar\": {\"outlinewidth\": 0, \"ticks\": \"\"}}, \"marker\": {\"colorbar\": {\"outlinewidth\": 0, \"ticks\": \"\"}}, \"type\": \"scatter3d\"}], \"scattercarpet\": [{\"marker\": {\"colorbar\": {\"outlinewidth\": 0, \"ticks\": \"\"}}, \"type\": \"scattercarpet\"}], \"scattergeo\": [{\"marker\": {\"colorbar\": {\"outlinewidth\": 0, \"ticks\": \"\"}}, \"type\": \"scattergeo\"}], \"scattergl\": [{\"marker\": {\"colorbar\": {\"outlinewidth\": 0, \"ticks\": \"\"}}, \"type\": \"scattergl\"}], \"scattermapbox\": [{\"marker\": {\"colorbar\": {\"outlinewidth\": 0, \"ticks\": \"\"}}, \"type\": \"scattermapbox\"}], \"scatterpolar\": [{\"marker\": {\"colorbar\": {\"outlinewidth\": 0, \"ticks\": \"\"}}, \"type\": \"scatterpolar\"}], \"scatterpolargl\": [{\"marker\": {\"colorbar\": {\"outlinewidth\": 0, \"ticks\": \"\"}}, \"type\": \"scatterpolargl\"}], \"scatterternary\": [{\"marker\": {\"colorbar\": {\"outlinewidth\": 0, \"ticks\": \"\"}}, \"type\": \"scatterternary\"}], \"surface\": [{\"colorbar\": {\"outlinewidth\": 0, \"ticks\": \"\"}, \"colorscale\": [[0.0, \"#0d0887\"], [0.1111111111111111, \"#46039f\"], [0.2222222222222222, \"#7201a8\"], [0.3333333333333333, \"#9c179e\"], [0.4444444444444444, \"#bd3786\"], [0.5555555555555556, \"#d8576b\"], [0.6666666666666666, \"#ed7953\"], [0.7777777777777778, \"#fb9f3a\"], [0.8888888888888888, \"#fdca26\"], [1.0, \"#f0f921\"]], \"type\": \"surface\"}], \"table\": [{\"cells\": {\"fill\": {\"color\": \"#EBF0F8\"}, \"line\": {\"color\": \"white\"}}, \"header\": {\"fill\": {\"color\": \"#C8D4E3\"}, \"line\": {\"color\": \"white\"}}, \"type\": \"table\"}]}, \"layout\": {\"annotationdefaults\": {\"arrowcolor\": \"#2a3f5f\", \"arrowhead\": 0, \"arrowwidth\": 1}, \"coloraxis\": {\"colorbar\": {\"outlinewidth\": 0, \"ticks\": \"\"}}, \"colorscale\": {\"diverging\": [[0, \"#8e0152\"], [0.1, \"#c51b7d\"], [0.2, \"#de77ae\"], [0.3, \"#f1b6da\"], [0.4, \"#fde0ef\"], [0.5, \"#f7f7f7\"], [0.6, \"#e6f5d0\"], [0.7, \"#b8e186\"], [0.8, \"#7fbc41\"], [0.9, \"#4d9221\"], [1, \"#276419\"]], \"sequential\": [[0.0, \"#0d0887\"], [0.1111111111111111, \"#46039f\"], [0.2222222222222222, \"#7201a8\"], [0.3333333333333333, \"#9c179e\"], [0.4444444444444444, \"#bd3786\"], [0.5555555555555556, \"#d8576b\"], [0.6666666666666666, \"#ed7953\"], [0.7777777777777778, \"#fb9f3a\"], [0.8888888888888888, \"#fdca26\"], [1.0, \"#f0f921\"]], \"sequentialminus\": [[0.0, \"#0d0887\"], [0.1111111111111111, \"#46039f\"], [0.2222222222222222, \"#7201a8\"], [0.3333333333333333, \"#9c179e\"], [0.4444444444444444, \"#bd3786\"], [0.5555555555555556, \"#d8576b\"], [0.6666666666666666, \"#ed7953\"], [0.7777777777777778, \"#fb9f3a\"], [0.8888888888888888, \"#fdca26\"], [1.0, \"#f0f921\"]]}, \"colorway\": [\"#636efa\", \"#EF553B\", \"#00cc96\", \"#ab63fa\", \"#FFA15A\", \"#19d3f3\", \"#FF6692\", \"#B6E880\", \"#FF97FF\", \"#FECB52\"], \"font\": {\"color\": \"#2a3f5f\"}, \"geo\": {\"bgcolor\": \"white\", \"lakecolor\": \"white\", \"landcolor\": \"#E5ECF6\", \"showlakes\": true, \"showland\": true, \"subunitcolor\": \"white\"}, \"hoverlabel\": {\"align\": \"left\"}, \"hovermode\": \"closest\", \"mapbox\": {\"style\": \"light\"}, \"paper_bgcolor\": \"white\", \"plot_bgcolor\": \"#E5ECF6\", \"polar\": {\"angularaxis\": {\"gridcolor\": \"white\", \"linecolor\": \"white\", \"ticks\": \"\"}, \"bgcolor\": \"#E5ECF6\", \"radialaxis\": {\"gridcolor\": \"white\", \"linecolor\": \"white\", \"ticks\": \"\"}}, \"scene\": {\"xaxis\": {\"backgroundcolor\": \"#E5ECF6\", \"gridcolor\": \"white\", \"gridwidth\": 2, \"linecolor\": \"white\", \"showbackground\": true, \"ticks\": \"\", \"zerolinecolor\": \"white\"}, \"yaxis\": {\"backgroundcolor\": \"#E5ECF6\", \"gridcolor\": \"white\", \"gridwidth\": 2, \"linecolor\": \"white\", \"showbackground\": true, \"ticks\": \"\", \"zerolinecolor\": \"white\"}, \"zaxis\": {\"backgroundcolor\": \"#E5ECF6\", \"gridcolor\": \"white\", \"gridwidth\": 2, \"linecolor\": \"white\", \"showbackground\": true, \"ticks\": \"\", \"zerolinecolor\": \"white\"}}, \"shapedefaults\": {\"line\": {\"color\": \"#2a3f5f\"}}, \"ternary\": {\"aaxis\": {\"gridcolor\": \"white\", \"linecolor\": \"white\", \"ticks\": \"\"}, \"baxis\": {\"gridcolor\": \"white\", \"linecolor\": \"white\", \"ticks\": \"\"}, \"bgcolor\": \"#E5ECF6\", \"caxis\": {\"gridcolor\": \"white\", \"linecolor\": \"white\", \"ticks\": \"\"}}, \"title\": {\"x\": 0.05}, \"xaxis\": {\"automargin\": true, \"gridcolor\": \"white\", \"linecolor\": \"white\", \"ticks\": \"\", \"title\": {\"standoff\": 15}, \"zerolinecolor\": \"white\", \"zerolinewidth\": 2}, \"yaxis\": {\"automargin\": true, \"gridcolor\": \"white\", \"linecolor\": \"white\", \"ticks\": \"\", \"title\": {\"standoff\": 15}, \"zerolinecolor\": \"white\", \"zerolinewidth\": 2}}}, \"title\": {\"text\": \"Financial Bubble\", \"x\": 0.5, \"xanchor\": \"center\", \"y\": 0.9, \"yanchor\": \"top\"}},\n",
       "                        {\"responsive\": true}\n",
       "                    ).then(function(){\n",
       "                            \n",
       "var gd = document.getElementById('66ebb57d-e01f-4126-b080-211635b022e1');\n",
       "var x = new MutationObserver(function (mutations, observer) {{\n",
       "        var display = window.getComputedStyle(gd).display;\n",
       "        if (!display || display === 'none') {{\n",
       "            console.log([gd, 'removed!']);\n",
       "            Plotly.purge(gd);\n",
       "            observer.disconnect();\n",
       "        }}\n",
       "}});\n",
       "\n",
       "// Listen for the removal of the full notebook cells\n",
       "var notebookContainer = gd.closest('#notebook-container');\n",
       "if (notebookContainer) {{\n",
       "    x.observe(notebookContainer, {childList: true});\n",
       "}}\n",
       "\n",
       "// Listen for the clearing of the current output cell\n",
       "var outputEl = gd.closest('.output');\n",
       "if (outputEl) {{\n",
       "    x.observe(outputEl, {childList: true});\n",
       "}}\n",
       "\n",
       "                        })\n",
       "                };\n",
       "                });\n",
       "            </script>\n",
       "        </div>"
      ]
     },
     "metadata": {},
     "output_type": "display_data"
    }
   ],
   "source": [
    "fig = go.Figure(data=[go.Candlestick(x=df_finance['Date'],\n",
    "                open=df_finance['Open'],\n",
    "                high=df_finance['High'],\n",
    "                low=df_finance['Low'],\n",
    "                close=df_finance['Close'],name='DJIA index'),\n",
    "       go.Scatter(x=df_finance['Date'], y=df_finance['5dayRollAvg'], line=dict(color='orange', width=1),name='5 day mov avg'),\n",
    "       go.Scatter(x=df_finance['Date'], y=df_finance['15dayRollAvg'], line=dict(color='green', width=1),name='15 day mov avg')])\n",
    "fig.update_layout(\n",
    "    title= {\n",
    "        'text': 'Financial Bubble',\n",
    "      'y':0.9,\n",
    "        'x':0.5,\n",
    "        'xanchor': 'center',\n",
    "        'yanchor': 'top'},\n",
    "      font=dict(\n",
    "        family=\"Courier New, monospace\",\n",
    "        size=20,\n",
    "        color=\"#7F7F7F\"\n",
    "    )\n",
    "    )\n",
    "#fig.write_image(\"../output/Financial_Bubble.png\")\n",
    "fig.show()"
   ]
  },
  {
   "cell_type": "code",
   "execution_count": 62,
   "metadata": {},
   "outputs": [
    {
     "data": {
      "application/vnd.plotly.v1+json": {
       "config": {
        "plotlyServerURL": "https://plot.ly"
       },
       "data": [
        {
         "close": [
          28868.80078,
          28634.88086,
          28703.38086,
          28583.679689999997,
          28745.089839999997,
          28956.90039,
          28823.76953,
          28907.05078,
          28939.66992,
          29030.2207,
          29297.64063,
          29348.09961,
          29196.039060000003,
          29186.26953,
          29160.089839999997,
          28989.73047,
          28535.80078,
          28722.84961,
          28734.44922,
          28859.43945,
          28256.0293,
          28399.81055,
          28807.63086,
          29290.84961,
          29379.76953,
          29102.50977,
          29276.820310000003,
          29276.339839999997,
          29551.41992,
          29423.31055,
          29398.08008,
          29232.18945,
          29348.0293,
          29219.98047,
          28992.410160000003,
          27960.80078,
          27081.35938,
          26957.589839999997,
          25766.64063,
          25409.35938,
          26703.32031,
          25917.41016,
          27090.85938,
          26121.2793,
          25864.7793,
          23851.01953,
          25018.16016,
          23553.2207,
          21200.61914,
          23185.61914,
          20188.51953,
          21237.38086,
          19898.91992,
          20087.18945,
          19173.98047,
          18591.92969,
          20704.91016,
          21200.55078,
          22552.16992,
          21636.7793,
          22327.48047,
          21917.16016
         ],
         "decreasing": {
          "line": {
           "color": "gray"
          }
         },
         "high": [
          28872.80078,
          28716.31055,
          28708.01953,
          28685.5,
          28866.179689999997,
          28988.00977,
          29009.070310000003,
          28909.910160000003,
          29054.160160000003,
          29127.589839999997,
          29300.320310000003,
          29373.61914,
          29341.210939999997,
          29320.19922,
          29190.4707,
          29288.789060000003,
          28671.789060000003,
          28823.23047,
          28944.24023,
          28879.710939999997,
          28813.039060000003,
          28630.39063,
          28904.88086,
          29308.89063,
          29408.05078,
          29286.91992,
          29278.070310000003,
          29415.39063,
          29568.570310000003,
          29535.40039,
          29463.039060000003,
          29330.160160000003,
          29409.089839999997,
          29368.44922,
          29146.5293,
          28402.929689999997,
          28149.19922,
          27542.7793,
          26775.31055,
          25494.24023,
          26706.16992,
          27084.589839999997,
          27102.339839999997,
          26671.91992,
          25994.38086,
          24992.35938,
          25020.99023,
          24604.63086,
          22837.94922,
          23189.75977,
          21768.2793,
          21379.34961,
          20489.33008,
          20442.63086,
          20531.25977,
          19121.00977,
          20737.69922,
          22019.92969,
          22595.06055,
          22327.57031,
          22378.08984,
          22480.36914
         ],
         "increasing": {
          "line": {
           "color": "cyan"
          }
         },
         "low": [
          28627.76953,
          28500.35938,
          28418.63086,
          28565.2793,
          28522.50977,
          28844.31055,
          28789.09961,
          28819.429689999997,
          28872.26953,
          28897.34961,
          29131.94922,
          29289.910160000003,
          29146.4707,
          29172.25977,
          28966.98047,
          28843.31055,
          28440.4707,
          28575.75,
          28728.18945,
          28489.75977,
          28169.5293,
          28319.65039,
          28696.74023,
          29000.84961,
          29246.929689999997,
          29056.98047,
          28995.660160000003,
          29210.4707,
          29406.75,
          29345.929689999997,
          29283.179689999997,
          29116.81055,
          29274.38086,
          28959.65039,
          28892.69922,
          27912.43945,
          26997.61914,
          26890.9707,
          25752.82031,
          24681.00977,
          25391.96094,
          25706.2793,
          26286.31055,
          25943.33008,
          25226.61914,
          23706.07031,
          23690.33984,
          23328.32031,
          21154.46094,
          21285.36914,
          20116.46094,
          19882.25977,
          18917.46094,
          19177.13086,
          19094.26953,
          18213.65039,
          19649.25,
          20538.33984,
          21427.09961,
          21469.26953,
          21522.08008,
          21852.08008
         ],
         "name": "DJIA index",
         "open": [
          28638.9707,
          28553.33008,
          28465.5,
          28639.179689999997,
          28556.14063,
          28851.9707,
          28977.51953,
          28869.00977,
          28895.5,
          28901.80078,
          29131.94922,
          29313.31055,
          29269.05078,
          29263.63086,
          29111.01953,
          29230.39063,
          28542.49023,
          28594.2793,
          28820.5293,
          28640.160160000003,
          28813.039060000003,
          28319.65039,
          28696.74023,
          29048.73047,
          29388.58008,
          29286.91992,
          28995.660160000003,
          29390.710939999997,
          29406.75,
          29436.0293,
          29440.4707,
          29282.7793,
          29312.69922,
          29296.25,
          29146.5293,
          28402.929689999997,
          28037.65039,
          27159.460939999997,
          26526,
          25270.83008,
          25590.50977,
          26762.4707,
          26383.67969,
          26671.91992,
          25457.21094,
          24992.35938,
          24453,
          24604.63086,
          22184.71094,
          21973.82031,
          20917.5293,
          20487.05078,
          20188.68945,
          19830.00977,
          20253.15039,
          19028.35938,
          19722.18945,
          21050.33984,
          21468.38086,
          21898.4707,
          21678.2207,
          22208.41992
         ],
         "type": "candlestick",
         "x": [
          "2020-01-02T00:00:00",
          "2020-01-03T00:00:00",
          "2020-01-06T00:00:00",
          "2020-01-07T00:00:00",
          "2020-01-08T00:00:00",
          "2020-01-09T00:00:00",
          "2020-01-10T00:00:00",
          "2020-01-13T00:00:00",
          "2020-01-14T00:00:00",
          "2020-01-15T00:00:00",
          "2020-01-16T00:00:00",
          "2020-01-17T00:00:00",
          "2020-01-21T00:00:00",
          "2020-01-22T00:00:00",
          "2020-01-23T00:00:00",
          "2020-01-24T00:00:00",
          "2020-01-27T00:00:00",
          "2020-01-28T00:00:00",
          "2020-01-29T00:00:00",
          "2020-01-30T00:00:00",
          "2020-01-31T00:00:00",
          "2020-02-03T00:00:00",
          "2020-02-04T00:00:00",
          "2020-02-05T00:00:00",
          "2020-02-06T00:00:00",
          "2020-02-07T00:00:00",
          "2020-02-10T00:00:00",
          "2020-02-11T00:00:00",
          "2020-02-12T00:00:00",
          "2020-02-13T00:00:00",
          "2020-02-14T00:00:00",
          "2020-02-18T00:00:00",
          "2020-02-19T00:00:00",
          "2020-02-20T00:00:00",
          "2020-02-21T00:00:00",
          "2020-02-24T00:00:00",
          "2020-02-25T00:00:00",
          "2020-02-26T00:00:00",
          "2020-02-27T00:00:00",
          "2020-02-28T00:00:00",
          "2020-03-02T00:00:00",
          "2020-03-03T00:00:00",
          "2020-03-04T00:00:00",
          "2020-03-05T00:00:00",
          "2020-03-06T00:00:00",
          "2020-03-09T00:00:00",
          "2020-03-10T00:00:00",
          "2020-03-11T00:00:00",
          "2020-03-12T00:00:00",
          "2020-03-13T00:00:00",
          "2020-03-16T00:00:00",
          "2020-03-17T00:00:00",
          "2020-03-18T00:00:00",
          "2020-03-19T00:00:00",
          "2020-03-20T00:00:00",
          "2020-03-23T00:00:00",
          "2020-03-24T00:00:00",
          "2020-03-25T00:00:00",
          "2020-03-26T00:00:00",
          "2020-03-27T00:00:00",
          "2020-03-30T00:00:00",
          "2020-03-31T00:00:00"
         ]
        },
        {
         "line": {
          "color": "orange",
          "width": 1
         },
         "name": "5 day mov avg",
         "type": "scatter",
         "x": [
          "2020-01-02T00:00:00",
          "2020-01-03T00:00:00",
          "2020-01-06T00:00:00",
          "2020-01-07T00:00:00",
          "2020-01-08T00:00:00",
          "2020-01-09T00:00:00",
          "2020-01-10T00:00:00",
          "2020-01-13T00:00:00",
          "2020-01-14T00:00:00",
          "2020-01-15T00:00:00",
          "2020-01-16T00:00:00",
          "2020-01-17T00:00:00",
          "2020-01-21T00:00:00",
          "2020-01-22T00:00:00",
          "2020-01-23T00:00:00",
          "2020-01-24T00:00:00",
          "2020-01-27T00:00:00",
          "2020-01-28T00:00:00",
          "2020-01-29T00:00:00",
          "2020-01-30T00:00:00",
          "2020-01-31T00:00:00",
          "2020-02-03T00:00:00",
          "2020-02-04T00:00:00",
          "2020-02-05T00:00:00",
          "2020-02-06T00:00:00",
          "2020-02-07T00:00:00",
          "2020-02-10T00:00:00",
          "2020-02-11T00:00:00",
          "2020-02-12T00:00:00",
          "2020-02-13T00:00:00",
          "2020-02-14T00:00:00",
          "2020-02-18T00:00:00",
          "2020-02-19T00:00:00",
          "2020-02-20T00:00:00",
          "2020-02-21T00:00:00",
          "2020-02-24T00:00:00",
          "2020-02-25T00:00:00",
          "2020-02-26T00:00:00",
          "2020-02-27T00:00:00",
          "2020-02-28T00:00:00",
          "2020-03-02T00:00:00",
          "2020-03-03T00:00:00",
          "2020-03-04T00:00:00",
          "2020-03-05T00:00:00",
          "2020-03-06T00:00:00",
          "2020-03-09T00:00:00",
          "2020-03-10T00:00:00",
          "2020-03-11T00:00:00",
          "2020-03-12T00:00:00",
          "2020-03-13T00:00:00",
          "2020-03-16T00:00:00",
          "2020-03-17T00:00:00",
          "2020-03-18T00:00:00",
          "2020-03-19T00:00:00",
          "2020-03-20T00:00:00",
          "2020-03-23T00:00:00",
          "2020-03-24T00:00:00",
          "2020-03-25T00:00:00",
          "2020-03-26T00:00:00",
          "2020-03-27T00:00:00",
          "2020-03-30T00:00:00",
          "2020-03-31T00:00:00"
         ],
         "y": [
          null,
          null,
          null,
          null,
          28707.166405999997,
          28724.786328,
          28762.564061999998,
          28803.298045999993,
          28874.496091999994,
          28931.522263999992,
          28999.670311999995,
          29104.536328,
          29162.333984000004,
          29211.653906,
          29237.627733999998,
          29176.045701999996,
          29013.585935999996,
          28918.948045999994,
          28828.583983999997,
          28768.453906,
          28621.713671999994,
          28594.515625999997,
          28611.471875999996,
          28722.751953999996,
          28826.817969999993,
          28996.114063999994,
          29171.516015999998,
          29265.257811999996,
          29317.371873999997,
          29326.080078,
          29385.19414,
          29376.267968,
          29390.60586,
          29324.317969999996,
          29238.137892,
          28950.682031999993,
          28520.516017999995,
          28042.428125999995,
          27351.760157999997,
          26635.150002,
          26383.653908,
          26150.864064,
          26177.517972,
          26248.445706,
          26339.529689999996,
          25769.069533999995,
          25589.219533999993,
          24881.691797999993,
          23897.55976599999,
          23361.727733999993,
          22629.22773399999,
          21873.071873999987,
          21142.211717999984,
          20919.52577999999,
          20117.198045999987,
          19797.880077999987,
          19691.385937999985,
          19951.712109999986,
          20444.708203999988,
          20937.267969999986,
          21684.378125999985,
          21926.828125999986
         ]
        },
        {
         "line": {
          "color": "green",
          "width": 1
         },
         "name": "15 day mov avg",
         "type": "scatter",
         "x": [
          "2020-01-02T00:00:00",
          "2020-01-03T00:00:00",
          "2020-01-06T00:00:00",
          "2020-01-07T00:00:00",
          "2020-01-08T00:00:00",
          "2020-01-09T00:00:00",
          "2020-01-10T00:00:00",
          "2020-01-13T00:00:00",
          "2020-01-14T00:00:00",
          "2020-01-15T00:00:00",
          "2020-01-16T00:00:00",
          "2020-01-17T00:00:00",
          "2020-01-21T00:00:00",
          "2020-01-22T00:00:00",
          "2020-01-23T00:00:00",
          "2020-01-24T00:00:00",
          "2020-01-27T00:00:00",
          "2020-01-28T00:00:00",
          "2020-01-29T00:00:00",
          "2020-01-30T00:00:00",
          "2020-01-31T00:00:00",
          "2020-02-03T00:00:00",
          "2020-02-04T00:00:00",
          "2020-02-05T00:00:00",
          "2020-02-06T00:00:00",
          "2020-02-07T00:00:00",
          "2020-02-10T00:00:00",
          "2020-02-11T00:00:00",
          "2020-02-12T00:00:00",
          "2020-02-13T00:00:00",
          "2020-02-14T00:00:00",
          "2020-02-18T00:00:00",
          "2020-02-19T00:00:00",
          "2020-02-20T00:00:00",
          "2020-02-21T00:00:00",
          "2020-02-24T00:00:00",
          "2020-02-25T00:00:00",
          "2020-02-26T00:00:00",
          "2020-02-27T00:00:00",
          "2020-02-28T00:00:00",
          "2020-03-02T00:00:00",
          "2020-03-03T00:00:00",
          "2020-03-04T00:00:00",
          "2020-03-05T00:00:00",
          "2020-03-06T00:00:00",
          "2020-03-09T00:00:00",
          "2020-03-10T00:00:00",
          "2020-03-11T00:00:00",
          "2020-03-12T00:00:00",
          "2020-03-13T00:00:00",
          "2020-03-16T00:00:00",
          "2020-03-17T00:00:00",
          "2020-03-18T00:00:00",
          "2020-03-19T00:00:00",
          "2020-03-20T00:00:00",
          "2020-03-23T00:00:00",
          "2020-03-24T00:00:00",
          "2020-03-25T00:00:00",
          "2020-03-26T00:00:00",
          "2020-03-27T00:00:00",
          "2020-03-30T00:00:00",
          "2020-03-31T00:00:00"
         ],
         "y": [
          null,
          null,
          null,
          null,
          null,
          null,
          null,
          null,
          null,
          null,
          null,
          null,
          null,
          null,
          28958.77213466666,
          28966.83411399999,
          28960.228775333326,
          28961.526691999992,
          28971.577993999992,
          28979.201301333327,
          28932.476561999993,
          28904.21262999999,
          28897.584635333325,
          28920.996614666656,
          28944.299869999988,
          28931.29114599999,
          28926.539192666656,
          28931.892577999988,
          28956.235937333324,
          28973.783984666657,
          29001.00729199999,
          29047.433203333327,
          29089.111849333327,
          29121.480599333325,
          29130.345313333328,
          29110.663411999994,
          29022.766667333326,
          28899.430599333326,
          28664.483333999993,
          28399.789323999994,
          28239.84335999999,
          28015.882683333326,
          27870.183985999996,
          27641.50794466666,
          27404.272527999994,
          27034.468491333326,
          26753.533205333326,
          26367.21263199999,
          25832.588543333328,
          25445.469141999994,
          24927.31705866666,
          24537.71849066666,
          24067.140495999996,
          23688.51041733333,
          23272.818489999998,
          22732.059115333333,
          22384.559115333333,
          21991.871875333334,
          21753.931250000005,
          21472.064583333336,
          21370.495312666673,
          21163.761979333343
         ]
        }
       ],
       "layout": {
        "font": {
         "family": "Courier New, monospace",
         "size": 20
        },
        "template": {
         "data": {
          "bar": [
           {
            "error_x": {
             "color": "#2a3f5f"
            },
            "error_y": {
             "color": "#2a3f5f"
            },
            "marker": {
             "line": {
              "color": "#E5ECF6",
              "width": 0.5
             }
            },
            "type": "bar"
           }
          ],
          "barpolar": [
           {
            "marker": {
             "line": {
              "color": "#E5ECF6",
              "width": 0.5
             }
            },
            "type": "barpolar"
           }
          ],
          "carpet": [
           {
            "aaxis": {
             "endlinecolor": "#2a3f5f",
             "gridcolor": "white",
             "linecolor": "white",
             "minorgridcolor": "white",
             "startlinecolor": "#2a3f5f"
            },
            "baxis": {
             "endlinecolor": "#2a3f5f",
             "gridcolor": "white",
             "linecolor": "white",
             "minorgridcolor": "white",
             "startlinecolor": "#2a3f5f"
            },
            "type": "carpet"
           }
          ],
          "choropleth": [
           {
            "colorbar": {
             "outlinewidth": 0,
             "ticks": ""
            },
            "type": "choropleth"
           }
          ],
          "contour": [
           {
            "colorbar": {
             "outlinewidth": 0,
             "ticks": ""
            },
            "colorscale": [
             [
              0,
              "#0d0887"
             ],
             [
              0.1111111111111111,
              "#46039f"
             ],
             [
              0.2222222222222222,
              "#7201a8"
             ],
             [
              0.3333333333333333,
              "#9c179e"
             ],
             [
              0.4444444444444444,
              "#bd3786"
             ],
             [
              0.5555555555555556,
              "#d8576b"
             ],
             [
              0.6666666666666666,
              "#ed7953"
             ],
             [
              0.7777777777777778,
              "#fb9f3a"
             ],
             [
              0.8888888888888888,
              "#fdca26"
             ],
             [
              1,
              "#f0f921"
             ]
            ],
            "type": "contour"
           }
          ],
          "contourcarpet": [
           {
            "colorbar": {
             "outlinewidth": 0,
             "ticks": ""
            },
            "type": "contourcarpet"
           }
          ],
          "heatmap": [
           {
            "colorbar": {
             "outlinewidth": 0,
             "ticks": ""
            },
            "colorscale": [
             [
              0,
              "#0d0887"
             ],
             [
              0.1111111111111111,
              "#46039f"
             ],
             [
              0.2222222222222222,
              "#7201a8"
             ],
             [
              0.3333333333333333,
              "#9c179e"
             ],
             [
              0.4444444444444444,
              "#bd3786"
             ],
             [
              0.5555555555555556,
              "#d8576b"
             ],
             [
              0.6666666666666666,
              "#ed7953"
             ],
             [
              0.7777777777777778,
              "#fb9f3a"
             ],
             [
              0.8888888888888888,
              "#fdca26"
             ],
             [
              1,
              "#f0f921"
             ]
            ],
            "type": "heatmap"
           }
          ],
          "heatmapgl": [
           {
            "colorbar": {
             "outlinewidth": 0,
             "ticks": ""
            },
            "colorscale": [
             [
              0,
              "#0d0887"
             ],
             [
              0.1111111111111111,
              "#46039f"
             ],
             [
              0.2222222222222222,
              "#7201a8"
             ],
             [
              0.3333333333333333,
              "#9c179e"
             ],
             [
              0.4444444444444444,
              "#bd3786"
             ],
             [
              0.5555555555555556,
              "#d8576b"
             ],
             [
              0.6666666666666666,
              "#ed7953"
             ],
             [
              0.7777777777777778,
              "#fb9f3a"
             ],
             [
              0.8888888888888888,
              "#fdca26"
             ],
             [
              1,
              "#f0f921"
             ]
            ],
            "type": "heatmapgl"
           }
          ],
          "histogram": [
           {
            "marker": {
             "colorbar": {
              "outlinewidth": 0,
              "ticks": ""
             }
            },
            "type": "histogram"
           }
          ],
          "histogram2d": [
           {
            "colorbar": {
             "outlinewidth": 0,
             "ticks": ""
            },
            "colorscale": [
             [
              0,
              "#0d0887"
             ],
             [
              0.1111111111111111,
              "#46039f"
             ],
             [
              0.2222222222222222,
              "#7201a8"
             ],
             [
              0.3333333333333333,
              "#9c179e"
             ],
             [
              0.4444444444444444,
              "#bd3786"
             ],
             [
              0.5555555555555556,
              "#d8576b"
             ],
             [
              0.6666666666666666,
              "#ed7953"
             ],
             [
              0.7777777777777778,
              "#fb9f3a"
             ],
             [
              0.8888888888888888,
              "#fdca26"
             ],
             [
              1,
              "#f0f921"
             ]
            ],
            "type": "histogram2d"
           }
          ],
          "histogram2dcontour": [
           {
            "colorbar": {
             "outlinewidth": 0,
             "ticks": ""
            },
            "colorscale": [
             [
              0,
              "#0d0887"
             ],
             [
              0.1111111111111111,
              "#46039f"
             ],
             [
              0.2222222222222222,
              "#7201a8"
             ],
             [
              0.3333333333333333,
              "#9c179e"
             ],
             [
              0.4444444444444444,
              "#bd3786"
             ],
             [
              0.5555555555555556,
              "#d8576b"
             ],
             [
              0.6666666666666666,
              "#ed7953"
             ],
             [
              0.7777777777777778,
              "#fb9f3a"
             ],
             [
              0.8888888888888888,
              "#fdca26"
             ],
             [
              1,
              "#f0f921"
             ]
            ],
            "type": "histogram2dcontour"
           }
          ],
          "mesh3d": [
           {
            "colorbar": {
             "outlinewidth": 0,
             "ticks": ""
            },
            "type": "mesh3d"
           }
          ],
          "parcoords": [
           {
            "line": {
             "colorbar": {
              "outlinewidth": 0,
              "ticks": ""
             }
            },
            "type": "parcoords"
           }
          ],
          "pie": [
           {
            "automargin": true,
            "type": "pie"
           }
          ],
          "scatter": [
           {
            "marker": {
             "colorbar": {
              "outlinewidth": 0,
              "ticks": ""
             }
            },
            "type": "scatter"
           }
          ],
          "scatter3d": [
           {
            "line": {
             "colorbar": {
              "outlinewidth": 0,
              "ticks": ""
             }
            },
            "marker": {
             "colorbar": {
              "outlinewidth": 0,
              "ticks": ""
             }
            },
            "type": "scatter3d"
           }
          ],
          "scattercarpet": [
           {
            "marker": {
             "colorbar": {
              "outlinewidth": 0,
              "ticks": ""
             }
            },
            "type": "scattercarpet"
           }
          ],
          "scattergeo": [
           {
            "marker": {
             "colorbar": {
              "outlinewidth": 0,
              "ticks": ""
             }
            },
            "type": "scattergeo"
           }
          ],
          "scattergl": [
           {
            "marker": {
             "colorbar": {
              "outlinewidth": 0,
              "ticks": ""
             }
            },
            "type": "scattergl"
           }
          ],
          "scattermapbox": [
           {
            "marker": {
             "colorbar": {
              "outlinewidth": 0,
              "ticks": ""
             }
            },
            "type": "scattermapbox"
           }
          ],
          "scatterpolar": [
           {
            "marker": {
             "colorbar": {
              "outlinewidth": 0,
              "ticks": ""
             }
            },
            "type": "scatterpolar"
           }
          ],
          "scatterpolargl": [
           {
            "marker": {
             "colorbar": {
              "outlinewidth": 0,
              "ticks": ""
             }
            },
            "type": "scatterpolargl"
           }
          ],
          "scatterternary": [
           {
            "marker": {
             "colorbar": {
              "outlinewidth": 0,
              "ticks": ""
             }
            },
            "type": "scatterternary"
           }
          ],
          "surface": [
           {
            "colorbar": {
             "outlinewidth": 0,
             "ticks": ""
            },
            "colorscale": [
             [
              0,
              "#0d0887"
             ],
             [
              0.1111111111111111,
              "#46039f"
             ],
             [
              0.2222222222222222,
              "#7201a8"
             ],
             [
              0.3333333333333333,
              "#9c179e"
             ],
             [
              0.4444444444444444,
              "#bd3786"
             ],
             [
              0.5555555555555556,
              "#d8576b"
             ],
             [
              0.6666666666666666,
              "#ed7953"
             ],
             [
              0.7777777777777778,
              "#fb9f3a"
             ],
             [
              0.8888888888888888,
              "#fdca26"
             ],
             [
              1,
              "#f0f921"
             ]
            ],
            "type": "surface"
           }
          ],
          "table": [
           {
            "cells": {
             "fill": {
              "color": "#EBF0F8"
             },
             "line": {
              "color": "white"
             }
            },
            "header": {
             "fill": {
              "color": "#C8D4E3"
             },
             "line": {
              "color": "white"
             }
            },
            "type": "table"
           }
          ]
         },
         "layout": {
          "annotationdefaults": {
           "arrowcolor": "#2a3f5f",
           "arrowhead": 0,
           "arrowwidth": 1
          },
          "coloraxis": {
           "colorbar": {
            "outlinewidth": 0,
            "ticks": ""
           }
          },
          "colorscale": {
           "diverging": [
            [
             0,
             "#8e0152"
            ],
            [
             0.1,
             "#c51b7d"
            ],
            [
             0.2,
             "#de77ae"
            ],
            [
             0.3,
             "#f1b6da"
            ],
            [
             0.4,
             "#fde0ef"
            ],
            [
             0.5,
             "#f7f7f7"
            ],
            [
             0.6,
             "#e6f5d0"
            ],
            [
             0.7,
             "#b8e186"
            ],
            [
             0.8,
             "#7fbc41"
            ],
            [
             0.9,
             "#4d9221"
            ],
            [
             1,
             "#276419"
            ]
           ],
           "sequential": [
            [
             0,
             "#0d0887"
            ],
            [
             0.1111111111111111,
             "#46039f"
            ],
            [
             0.2222222222222222,
             "#7201a8"
            ],
            [
             0.3333333333333333,
             "#9c179e"
            ],
            [
             0.4444444444444444,
             "#bd3786"
            ],
            [
             0.5555555555555556,
             "#d8576b"
            ],
            [
             0.6666666666666666,
             "#ed7953"
            ],
            [
             0.7777777777777778,
             "#fb9f3a"
            ],
            [
             0.8888888888888888,
             "#fdca26"
            ],
            [
             1,
             "#f0f921"
            ]
           ],
           "sequentialminus": [
            [
             0,
             "#0d0887"
            ],
            [
             0.1111111111111111,
             "#46039f"
            ],
            [
             0.2222222222222222,
             "#7201a8"
            ],
            [
             0.3333333333333333,
             "#9c179e"
            ],
            [
             0.4444444444444444,
             "#bd3786"
            ],
            [
             0.5555555555555556,
             "#d8576b"
            ],
            [
             0.6666666666666666,
             "#ed7953"
            ],
            [
             0.7777777777777778,
             "#fb9f3a"
            ],
            [
             0.8888888888888888,
             "#fdca26"
            ],
            [
             1,
             "#f0f921"
            ]
           ]
          },
          "colorway": [
           "#636efa",
           "#EF553B",
           "#00cc96",
           "#ab63fa",
           "#FFA15A",
           "#19d3f3",
           "#FF6692",
           "#B6E880",
           "#FF97FF",
           "#FECB52"
          ],
          "font": {
           "color": "#2a3f5f"
          },
          "geo": {
           "bgcolor": "white",
           "lakecolor": "white",
           "landcolor": "#E5ECF6",
           "showlakes": true,
           "showland": true,
           "subunitcolor": "white"
          },
          "hoverlabel": {
           "align": "left"
          },
          "hovermode": "closest",
          "mapbox": {
           "style": "light"
          },
          "paper_bgcolor": "white",
          "plot_bgcolor": "#E5ECF6",
          "polar": {
           "angularaxis": {
            "gridcolor": "white",
            "linecolor": "white",
            "ticks": ""
           },
           "bgcolor": "#E5ECF6",
           "radialaxis": {
            "gridcolor": "white",
            "linecolor": "white",
            "ticks": ""
           }
          },
          "scene": {
           "xaxis": {
            "backgroundcolor": "#E5ECF6",
            "gridcolor": "white",
            "gridwidth": 2,
            "linecolor": "white",
            "showbackground": true,
            "ticks": "",
            "zerolinecolor": "white"
           },
           "yaxis": {
            "backgroundcolor": "#E5ECF6",
            "gridcolor": "white",
            "gridwidth": 2,
            "linecolor": "white",
            "showbackground": true,
            "ticks": "",
            "zerolinecolor": "white"
           },
           "zaxis": {
            "backgroundcolor": "#E5ECF6",
            "gridcolor": "white",
            "gridwidth": 2,
            "linecolor": "white",
            "showbackground": true,
            "ticks": "",
            "zerolinecolor": "white"
           }
          },
          "shapedefaults": {
           "line": {
            "color": "#2a3f5f"
           }
          },
          "ternary": {
           "aaxis": {
            "gridcolor": "white",
            "linecolor": "white",
            "ticks": ""
           },
           "baxis": {
            "gridcolor": "white",
            "linecolor": "white",
            "ticks": ""
           },
           "bgcolor": "#E5ECF6",
           "caxis": {
            "gridcolor": "white",
            "linecolor": "white",
            "ticks": ""
           }
          },
          "title": {
           "x": 0.05
          },
          "xaxis": {
           "automargin": true,
           "gridcolor": "white",
           "linecolor": "white",
           "ticks": "",
           "title": {
            "standoff": 15
           },
           "zerolinecolor": "white",
           "zerolinewidth": 2
          },
          "yaxis": {
           "automargin": true,
           "gridcolor": "white",
           "linecolor": "white",
           "ticks": "",
           "title": {
            "standoff": 15
           },
           "zerolinecolor": "white",
           "zerolinewidth": 2
          }
         }
        },
        "title": {
         "text": "Covid-19 Crash",
         "x": 0.5,
         "xanchor": "center",
         "y": 0.9,
         "yanchor": "top"
        }
       }
      },
      "text/html": [
       "<div>\n",
       "        \n",
       "        \n",
       "            <div id=\"4ecddcf9-a793-4611-809f-96f29db38acd\" class=\"plotly-graph-div\" style=\"height:525px; width:100%;\"></div>\n",
       "            <script type=\"text/javascript\">\n",
       "                require([\"plotly\"], function(Plotly) {\n",
       "                    window.PLOTLYENV=window.PLOTLYENV || {};\n",
       "                    \n",
       "                if (document.getElementById(\"4ecddcf9-a793-4611-809f-96f29db38acd\")) {\n",
       "                    Plotly.newPlot(\n",
       "                        '4ecddcf9-a793-4611-809f-96f29db38acd',\n",
       "                        [{\"close\": [28868.80078, 28634.88086, 28703.38086, 28583.679689999997, 28745.089839999997, 28956.90039, 28823.76953, 28907.05078, 28939.66992, 29030.2207, 29297.64063, 29348.09961, 29196.039060000003, 29186.26953, 29160.089839999997, 28989.73047, 28535.80078, 28722.84961, 28734.44922, 28859.43945, 28256.0293, 28399.81055, 28807.63086, 29290.84961, 29379.76953, 29102.50977, 29276.820310000003, 29276.339839999997, 29551.41992, 29423.31055, 29398.08008, 29232.18945, 29348.0293, 29219.98047, 28992.410160000003, 27960.80078, 27081.35938, 26957.589839999997, 25766.64063, 25409.35938, 26703.32031, 25917.41016, 27090.85938, 26121.2793, 25864.7793, 23851.01953, 25018.16016, 23553.2207, 21200.61914, 23185.61914, 20188.51953, 21237.38086, 19898.91992, 20087.18945, 19173.98047, 18591.92969, 20704.91016, 21200.55078, 22552.16992, 21636.7793, 22327.48047, 21917.16016], \"decreasing\": {\"line\": {\"color\": \"gray\"}}, \"high\": [28872.80078, 28716.31055, 28708.01953, 28685.5, 28866.179689999997, 28988.00977, 29009.070310000003, 28909.910160000003, 29054.160160000003, 29127.589839999997, 29300.320310000003, 29373.61914, 29341.210939999997, 29320.19922, 29190.4707, 29288.789060000003, 28671.789060000003, 28823.23047, 28944.24023, 28879.710939999997, 28813.039060000003, 28630.39063, 28904.88086, 29308.89063, 29408.05078, 29286.91992, 29278.070310000003, 29415.39063, 29568.570310000003, 29535.40039, 29463.039060000003, 29330.160160000003, 29409.089839999997, 29368.44922, 29146.5293, 28402.929689999997, 28149.19922, 27542.7793, 26775.31055, 25494.24023, 26706.16992, 27084.589839999997, 27102.339839999997, 26671.91992, 25994.38086, 24992.35938, 25020.99023, 24604.63086, 22837.94922, 23189.75977, 21768.2793, 21379.34961, 20489.33008, 20442.63086, 20531.25977, 19121.00977, 20737.69922, 22019.92969, 22595.06055, 22327.57031, 22378.08984, 22480.36914], \"increasing\": {\"line\": {\"color\": \"cyan\"}}, \"low\": [28627.76953, 28500.35938, 28418.63086, 28565.2793, 28522.50977, 28844.31055, 28789.09961, 28819.429689999997, 28872.26953, 28897.34961, 29131.94922, 29289.910160000003, 29146.4707, 29172.25977, 28966.98047, 28843.31055, 28440.4707, 28575.75, 28728.18945, 28489.75977, 28169.5293, 28319.65039, 28696.74023, 29000.84961, 29246.929689999997, 29056.98047, 28995.660160000003, 29210.4707, 29406.75, 29345.929689999997, 29283.179689999997, 29116.81055, 29274.38086, 28959.65039, 28892.69922, 27912.43945, 26997.61914, 26890.9707, 25752.82031, 24681.00977, 25391.96094, 25706.2793, 26286.31055, 25943.33008, 25226.61914, 23706.07031, 23690.33984, 23328.32031, 21154.46094, 21285.36914, 20116.46094, 19882.25977, 18917.46094, 19177.13086, 19094.26953, 18213.65039, 19649.25, 20538.33984, 21427.09961, 21469.26953, 21522.08008, 21852.08008], \"name\": \"DJIA index\", \"open\": [28638.9707, 28553.33008, 28465.5, 28639.179689999997, 28556.14063, 28851.9707, 28977.51953, 28869.00977, 28895.5, 28901.80078, 29131.94922, 29313.31055, 29269.05078, 29263.63086, 29111.01953, 29230.39063, 28542.49023, 28594.2793, 28820.5293, 28640.160160000003, 28813.039060000003, 28319.65039, 28696.74023, 29048.73047, 29388.58008, 29286.91992, 28995.660160000003, 29390.710939999997, 29406.75, 29436.0293, 29440.4707, 29282.7793, 29312.69922, 29296.25, 29146.5293, 28402.929689999997, 28037.65039, 27159.460939999997, 26526.0, 25270.83008, 25590.50977, 26762.4707, 26383.67969, 26671.91992, 25457.21094, 24992.35938, 24453.0, 24604.63086, 22184.71094, 21973.82031, 20917.5293, 20487.05078, 20188.68945, 19830.00977, 20253.15039, 19028.35938, 19722.18945, 21050.33984, 21468.38086, 21898.4707, 21678.2207, 22208.41992], \"type\": \"candlestick\", \"x\": [\"2020-01-02T00:00:00\", \"2020-01-03T00:00:00\", \"2020-01-06T00:00:00\", \"2020-01-07T00:00:00\", \"2020-01-08T00:00:00\", \"2020-01-09T00:00:00\", \"2020-01-10T00:00:00\", \"2020-01-13T00:00:00\", \"2020-01-14T00:00:00\", \"2020-01-15T00:00:00\", \"2020-01-16T00:00:00\", \"2020-01-17T00:00:00\", \"2020-01-21T00:00:00\", \"2020-01-22T00:00:00\", \"2020-01-23T00:00:00\", \"2020-01-24T00:00:00\", \"2020-01-27T00:00:00\", \"2020-01-28T00:00:00\", \"2020-01-29T00:00:00\", \"2020-01-30T00:00:00\", \"2020-01-31T00:00:00\", \"2020-02-03T00:00:00\", \"2020-02-04T00:00:00\", \"2020-02-05T00:00:00\", \"2020-02-06T00:00:00\", \"2020-02-07T00:00:00\", \"2020-02-10T00:00:00\", \"2020-02-11T00:00:00\", \"2020-02-12T00:00:00\", \"2020-02-13T00:00:00\", \"2020-02-14T00:00:00\", \"2020-02-18T00:00:00\", \"2020-02-19T00:00:00\", \"2020-02-20T00:00:00\", \"2020-02-21T00:00:00\", \"2020-02-24T00:00:00\", \"2020-02-25T00:00:00\", \"2020-02-26T00:00:00\", \"2020-02-27T00:00:00\", \"2020-02-28T00:00:00\", \"2020-03-02T00:00:00\", \"2020-03-03T00:00:00\", \"2020-03-04T00:00:00\", \"2020-03-05T00:00:00\", \"2020-03-06T00:00:00\", \"2020-03-09T00:00:00\", \"2020-03-10T00:00:00\", \"2020-03-11T00:00:00\", \"2020-03-12T00:00:00\", \"2020-03-13T00:00:00\", \"2020-03-16T00:00:00\", \"2020-03-17T00:00:00\", \"2020-03-18T00:00:00\", \"2020-03-19T00:00:00\", \"2020-03-20T00:00:00\", \"2020-03-23T00:00:00\", \"2020-03-24T00:00:00\", \"2020-03-25T00:00:00\", \"2020-03-26T00:00:00\", \"2020-03-27T00:00:00\", \"2020-03-30T00:00:00\", \"2020-03-31T00:00:00\"]}, {\"line\": {\"color\": \"orange\", \"width\": 1}, \"name\": \"5 day mov avg\", \"type\": \"scatter\", \"x\": [\"2020-01-02T00:00:00\", \"2020-01-03T00:00:00\", \"2020-01-06T00:00:00\", \"2020-01-07T00:00:00\", \"2020-01-08T00:00:00\", \"2020-01-09T00:00:00\", \"2020-01-10T00:00:00\", \"2020-01-13T00:00:00\", \"2020-01-14T00:00:00\", \"2020-01-15T00:00:00\", \"2020-01-16T00:00:00\", \"2020-01-17T00:00:00\", \"2020-01-21T00:00:00\", \"2020-01-22T00:00:00\", \"2020-01-23T00:00:00\", \"2020-01-24T00:00:00\", \"2020-01-27T00:00:00\", \"2020-01-28T00:00:00\", \"2020-01-29T00:00:00\", \"2020-01-30T00:00:00\", \"2020-01-31T00:00:00\", \"2020-02-03T00:00:00\", \"2020-02-04T00:00:00\", \"2020-02-05T00:00:00\", \"2020-02-06T00:00:00\", \"2020-02-07T00:00:00\", \"2020-02-10T00:00:00\", \"2020-02-11T00:00:00\", \"2020-02-12T00:00:00\", \"2020-02-13T00:00:00\", \"2020-02-14T00:00:00\", \"2020-02-18T00:00:00\", \"2020-02-19T00:00:00\", \"2020-02-20T00:00:00\", \"2020-02-21T00:00:00\", \"2020-02-24T00:00:00\", \"2020-02-25T00:00:00\", \"2020-02-26T00:00:00\", \"2020-02-27T00:00:00\", \"2020-02-28T00:00:00\", \"2020-03-02T00:00:00\", \"2020-03-03T00:00:00\", \"2020-03-04T00:00:00\", \"2020-03-05T00:00:00\", \"2020-03-06T00:00:00\", \"2020-03-09T00:00:00\", \"2020-03-10T00:00:00\", \"2020-03-11T00:00:00\", \"2020-03-12T00:00:00\", \"2020-03-13T00:00:00\", \"2020-03-16T00:00:00\", \"2020-03-17T00:00:00\", \"2020-03-18T00:00:00\", \"2020-03-19T00:00:00\", \"2020-03-20T00:00:00\", \"2020-03-23T00:00:00\", \"2020-03-24T00:00:00\", \"2020-03-25T00:00:00\", \"2020-03-26T00:00:00\", \"2020-03-27T00:00:00\", \"2020-03-30T00:00:00\", \"2020-03-31T00:00:00\"], \"y\": [null, null, null, null, 28707.166405999997, 28724.786328, 28762.564061999998, 28803.298045999993, 28874.496091999994, 28931.522263999992, 28999.670311999995, 29104.536328, 29162.333984000004, 29211.653906, 29237.627733999998, 29176.045701999996, 29013.585935999996, 28918.948045999994, 28828.583983999997, 28768.453906, 28621.713671999994, 28594.515625999997, 28611.471875999996, 28722.751953999996, 28826.817969999993, 28996.114063999994, 29171.516015999998, 29265.257811999996, 29317.371873999997, 29326.080078, 29385.19414, 29376.267968, 29390.60586, 29324.317969999996, 29238.137892, 28950.682031999993, 28520.516017999995, 28042.428125999995, 27351.760157999997, 26635.150002, 26383.653908, 26150.864064, 26177.517972, 26248.445706, 26339.529689999996, 25769.069533999995, 25589.219533999993, 24881.691797999993, 23897.55976599999, 23361.727733999993, 22629.22773399999, 21873.071873999987, 21142.211717999984, 20919.52577999999, 20117.198045999987, 19797.880077999987, 19691.385937999985, 19951.712109999986, 20444.708203999988, 20937.267969999986, 21684.378125999985, 21926.828125999986]}, {\"line\": {\"color\": \"green\", \"width\": 1}, \"name\": \"15 day mov avg\", \"type\": \"scatter\", \"x\": [\"2020-01-02T00:00:00\", \"2020-01-03T00:00:00\", \"2020-01-06T00:00:00\", \"2020-01-07T00:00:00\", \"2020-01-08T00:00:00\", \"2020-01-09T00:00:00\", \"2020-01-10T00:00:00\", \"2020-01-13T00:00:00\", \"2020-01-14T00:00:00\", \"2020-01-15T00:00:00\", \"2020-01-16T00:00:00\", \"2020-01-17T00:00:00\", \"2020-01-21T00:00:00\", \"2020-01-22T00:00:00\", \"2020-01-23T00:00:00\", \"2020-01-24T00:00:00\", \"2020-01-27T00:00:00\", \"2020-01-28T00:00:00\", \"2020-01-29T00:00:00\", \"2020-01-30T00:00:00\", \"2020-01-31T00:00:00\", \"2020-02-03T00:00:00\", \"2020-02-04T00:00:00\", \"2020-02-05T00:00:00\", \"2020-02-06T00:00:00\", \"2020-02-07T00:00:00\", \"2020-02-10T00:00:00\", \"2020-02-11T00:00:00\", \"2020-02-12T00:00:00\", \"2020-02-13T00:00:00\", \"2020-02-14T00:00:00\", \"2020-02-18T00:00:00\", \"2020-02-19T00:00:00\", \"2020-02-20T00:00:00\", \"2020-02-21T00:00:00\", \"2020-02-24T00:00:00\", \"2020-02-25T00:00:00\", \"2020-02-26T00:00:00\", \"2020-02-27T00:00:00\", \"2020-02-28T00:00:00\", \"2020-03-02T00:00:00\", \"2020-03-03T00:00:00\", \"2020-03-04T00:00:00\", \"2020-03-05T00:00:00\", \"2020-03-06T00:00:00\", \"2020-03-09T00:00:00\", \"2020-03-10T00:00:00\", \"2020-03-11T00:00:00\", \"2020-03-12T00:00:00\", \"2020-03-13T00:00:00\", \"2020-03-16T00:00:00\", \"2020-03-17T00:00:00\", \"2020-03-18T00:00:00\", \"2020-03-19T00:00:00\", \"2020-03-20T00:00:00\", \"2020-03-23T00:00:00\", \"2020-03-24T00:00:00\", \"2020-03-25T00:00:00\", \"2020-03-26T00:00:00\", \"2020-03-27T00:00:00\", \"2020-03-30T00:00:00\", \"2020-03-31T00:00:00\"], \"y\": [null, null, null, null, null, null, null, null, null, null, null, null, null, null, 28958.77213466666, 28966.83411399999, 28960.228775333326, 28961.526691999992, 28971.577993999992, 28979.201301333327, 28932.476561999993, 28904.21262999999, 28897.584635333325, 28920.996614666656, 28944.299869999988, 28931.29114599999, 28926.539192666656, 28931.892577999988, 28956.235937333324, 28973.783984666657, 29001.00729199999, 29047.433203333327, 29089.111849333327, 29121.480599333325, 29130.345313333328, 29110.663411999994, 29022.766667333326, 28899.430599333326, 28664.483333999993, 28399.789323999994, 28239.84335999999, 28015.882683333326, 27870.183985999996, 27641.50794466666, 27404.272527999994, 27034.468491333326, 26753.533205333326, 26367.21263199999, 25832.588543333328, 25445.469141999994, 24927.31705866666, 24537.71849066666, 24067.140495999996, 23688.51041733333, 23272.818489999998, 22732.059115333333, 22384.559115333333, 21991.871875333334, 21753.931250000005, 21472.064583333336, 21370.495312666673, 21163.761979333343]}],\n",
       "                        {\"font\": {\"family\": \"Courier New, monospace\", \"size\": 20}, \"template\": {\"data\": {\"bar\": [{\"error_x\": {\"color\": \"#2a3f5f\"}, \"error_y\": {\"color\": \"#2a3f5f\"}, \"marker\": {\"line\": {\"color\": \"#E5ECF6\", \"width\": 0.5}}, \"type\": \"bar\"}], \"barpolar\": [{\"marker\": {\"line\": {\"color\": \"#E5ECF6\", \"width\": 0.5}}, \"type\": \"barpolar\"}], \"carpet\": [{\"aaxis\": {\"endlinecolor\": \"#2a3f5f\", \"gridcolor\": \"white\", \"linecolor\": \"white\", \"minorgridcolor\": \"white\", \"startlinecolor\": \"#2a3f5f\"}, \"baxis\": {\"endlinecolor\": \"#2a3f5f\", \"gridcolor\": \"white\", \"linecolor\": \"white\", \"minorgridcolor\": \"white\", \"startlinecolor\": \"#2a3f5f\"}, \"type\": \"carpet\"}], \"choropleth\": [{\"colorbar\": {\"outlinewidth\": 0, \"ticks\": \"\"}, \"type\": \"choropleth\"}], \"contour\": [{\"colorbar\": {\"outlinewidth\": 0, \"ticks\": \"\"}, \"colorscale\": [[0.0, \"#0d0887\"], [0.1111111111111111, \"#46039f\"], [0.2222222222222222, \"#7201a8\"], [0.3333333333333333, \"#9c179e\"], [0.4444444444444444, \"#bd3786\"], [0.5555555555555556, \"#d8576b\"], [0.6666666666666666, \"#ed7953\"], [0.7777777777777778, \"#fb9f3a\"], [0.8888888888888888, \"#fdca26\"], [1.0, \"#f0f921\"]], \"type\": \"contour\"}], \"contourcarpet\": [{\"colorbar\": {\"outlinewidth\": 0, \"ticks\": \"\"}, \"type\": \"contourcarpet\"}], \"heatmap\": [{\"colorbar\": {\"outlinewidth\": 0, \"ticks\": \"\"}, \"colorscale\": [[0.0, \"#0d0887\"], [0.1111111111111111, \"#46039f\"], [0.2222222222222222, \"#7201a8\"], [0.3333333333333333, \"#9c179e\"], [0.4444444444444444, \"#bd3786\"], [0.5555555555555556, \"#d8576b\"], [0.6666666666666666, \"#ed7953\"], [0.7777777777777778, \"#fb9f3a\"], [0.8888888888888888, \"#fdca26\"], [1.0, \"#f0f921\"]], \"type\": \"heatmap\"}], \"heatmapgl\": [{\"colorbar\": {\"outlinewidth\": 0, \"ticks\": \"\"}, \"colorscale\": [[0.0, \"#0d0887\"], [0.1111111111111111, \"#46039f\"], [0.2222222222222222, \"#7201a8\"], [0.3333333333333333, \"#9c179e\"], [0.4444444444444444, \"#bd3786\"], [0.5555555555555556, \"#d8576b\"], [0.6666666666666666, \"#ed7953\"], [0.7777777777777778, \"#fb9f3a\"], [0.8888888888888888, \"#fdca26\"], [1.0, \"#f0f921\"]], \"type\": \"heatmapgl\"}], \"histogram\": [{\"marker\": {\"colorbar\": {\"outlinewidth\": 0, \"ticks\": \"\"}}, \"type\": \"histogram\"}], \"histogram2d\": [{\"colorbar\": {\"outlinewidth\": 0, \"ticks\": \"\"}, \"colorscale\": [[0.0, \"#0d0887\"], [0.1111111111111111, \"#46039f\"], [0.2222222222222222, \"#7201a8\"], [0.3333333333333333, \"#9c179e\"], [0.4444444444444444, \"#bd3786\"], [0.5555555555555556, \"#d8576b\"], [0.6666666666666666, \"#ed7953\"], [0.7777777777777778, \"#fb9f3a\"], [0.8888888888888888, \"#fdca26\"], [1.0, \"#f0f921\"]], \"type\": \"histogram2d\"}], \"histogram2dcontour\": [{\"colorbar\": {\"outlinewidth\": 0, \"ticks\": \"\"}, \"colorscale\": [[0.0, \"#0d0887\"], [0.1111111111111111, \"#46039f\"], [0.2222222222222222, \"#7201a8\"], [0.3333333333333333, \"#9c179e\"], [0.4444444444444444, \"#bd3786\"], [0.5555555555555556, \"#d8576b\"], [0.6666666666666666, \"#ed7953\"], [0.7777777777777778, \"#fb9f3a\"], [0.8888888888888888, \"#fdca26\"], [1.0, \"#f0f921\"]], \"type\": \"histogram2dcontour\"}], \"mesh3d\": [{\"colorbar\": {\"outlinewidth\": 0, \"ticks\": \"\"}, \"type\": \"mesh3d\"}], \"parcoords\": [{\"line\": {\"colorbar\": {\"outlinewidth\": 0, \"ticks\": \"\"}}, \"type\": \"parcoords\"}], \"pie\": [{\"automargin\": true, \"type\": \"pie\"}], \"scatter\": [{\"marker\": {\"colorbar\": {\"outlinewidth\": 0, \"ticks\": \"\"}}, \"type\": \"scatter\"}], \"scatter3d\": [{\"line\": {\"colorbar\": {\"outlinewidth\": 0, \"ticks\": \"\"}}, \"marker\": {\"colorbar\": {\"outlinewidth\": 0, \"ticks\": \"\"}}, \"type\": \"scatter3d\"}], \"scattercarpet\": [{\"marker\": {\"colorbar\": {\"outlinewidth\": 0, \"ticks\": \"\"}}, \"type\": \"scattercarpet\"}], \"scattergeo\": [{\"marker\": {\"colorbar\": {\"outlinewidth\": 0, \"ticks\": \"\"}}, \"type\": \"scattergeo\"}], \"scattergl\": [{\"marker\": {\"colorbar\": {\"outlinewidth\": 0, \"ticks\": \"\"}}, \"type\": \"scattergl\"}], \"scattermapbox\": [{\"marker\": {\"colorbar\": {\"outlinewidth\": 0, \"ticks\": \"\"}}, \"type\": \"scattermapbox\"}], \"scatterpolar\": [{\"marker\": {\"colorbar\": {\"outlinewidth\": 0, \"ticks\": \"\"}}, \"type\": \"scatterpolar\"}], \"scatterpolargl\": [{\"marker\": {\"colorbar\": {\"outlinewidth\": 0, \"ticks\": \"\"}}, \"type\": \"scatterpolargl\"}], \"scatterternary\": [{\"marker\": {\"colorbar\": {\"outlinewidth\": 0, \"ticks\": \"\"}}, \"type\": \"scatterternary\"}], \"surface\": [{\"colorbar\": {\"outlinewidth\": 0, \"ticks\": \"\"}, \"colorscale\": [[0.0, \"#0d0887\"], [0.1111111111111111, \"#46039f\"], [0.2222222222222222, \"#7201a8\"], [0.3333333333333333, \"#9c179e\"], [0.4444444444444444, \"#bd3786\"], [0.5555555555555556, \"#d8576b\"], [0.6666666666666666, \"#ed7953\"], [0.7777777777777778, \"#fb9f3a\"], [0.8888888888888888, \"#fdca26\"], [1.0, \"#f0f921\"]], \"type\": \"surface\"}], \"table\": [{\"cells\": {\"fill\": {\"color\": \"#EBF0F8\"}, \"line\": {\"color\": \"white\"}}, \"header\": {\"fill\": {\"color\": \"#C8D4E3\"}, \"line\": {\"color\": \"white\"}}, \"type\": \"table\"}]}, \"layout\": {\"annotationdefaults\": {\"arrowcolor\": \"#2a3f5f\", \"arrowhead\": 0, \"arrowwidth\": 1}, \"coloraxis\": {\"colorbar\": {\"outlinewidth\": 0, \"ticks\": \"\"}}, \"colorscale\": {\"diverging\": [[0, \"#8e0152\"], [0.1, \"#c51b7d\"], [0.2, \"#de77ae\"], [0.3, \"#f1b6da\"], [0.4, \"#fde0ef\"], [0.5, \"#f7f7f7\"], [0.6, \"#e6f5d0\"], [0.7, \"#b8e186\"], [0.8, \"#7fbc41\"], [0.9, \"#4d9221\"], [1, \"#276419\"]], \"sequential\": [[0.0, \"#0d0887\"], [0.1111111111111111, \"#46039f\"], [0.2222222222222222, \"#7201a8\"], [0.3333333333333333, \"#9c179e\"], [0.4444444444444444, \"#bd3786\"], [0.5555555555555556, \"#d8576b\"], [0.6666666666666666, \"#ed7953\"], [0.7777777777777778, \"#fb9f3a\"], [0.8888888888888888, \"#fdca26\"], [1.0, \"#f0f921\"]], \"sequentialminus\": [[0.0, \"#0d0887\"], [0.1111111111111111, \"#46039f\"], [0.2222222222222222, \"#7201a8\"], [0.3333333333333333, \"#9c179e\"], [0.4444444444444444, \"#bd3786\"], [0.5555555555555556, \"#d8576b\"], [0.6666666666666666, \"#ed7953\"], [0.7777777777777778, \"#fb9f3a\"], [0.8888888888888888, \"#fdca26\"], [1.0, \"#f0f921\"]]}, \"colorway\": [\"#636efa\", \"#EF553B\", \"#00cc96\", \"#ab63fa\", \"#FFA15A\", \"#19d3f3\", \"#FF6692\", \"#B6E880\", \"#FF97FF\", \"#FECB52\"], \"font\": {\"color\": \"#2a3f5f\"}, \"geo\": {\"bgcolor\": \"white\", \"lakecolor\": \"white\", \"landcolor\": \"#E5ECF6\", \"showlakes\": true, \"showland\": true, \"subunitcolor\": \"white\"}, \"hoverlabel\": {\"align\": \"left\"}, \"hovermode\": \"closest\", \"mapbox\": {\"style\": \"light\"}, \"paper_bgcolor\": \"white\", \"plot_bgcolor\": \"#E5ECF6\", \"polar\": {\"angularaxis\": {\"gridcolor\": \"white\", \"linecolor\": \"white\", \"ticks\": \"\"}, \"bgcolor\": \"#E5ECF6\", \"radialaxis\": {\"gridcolor\": \"white\", \"linecolor\": \"white\", \"ticks\": \"\"}}, \"scene\": {\"xaxis\": {\"backgroundcolor\": \"#E5ECF6\", \"gridcolor\": \"white\", \"gridwidth\": 2, \"linecolor\": \"white\", \"showbackground\": true, \"ticks\": \"\", \"zerolinecolor\": \"white\"}, \"yaxis\": {\"backgroundcolor\": \"#E5ECF6\", \"gridcolor\": \"white\", \"gridwidth\": 2, \"linecolor\": \"white\", \"showbackground\": true, \"ticks\": \"\", \"zerolinecolor\": \"white\"}, \"zaxis\": {\"backgroundcolor\": \"#E5ECF6\", \"gridcolor\": \"white\", \"gridwidth\": 2, \"linecolor\": \"white\", \"showbackground\": true, \"ticks\": \"\", \"zerolinecolor\": \"white\"}}, \"shapedefaults\": {\"line\": {\"color\": \"#2a3f5f\"}}, \"ternary\": {\"aaxis\": {\"gridcolor\": \"white\", \"linecolor\": \"white\", \"ticks\": \"\"}, \"baxis\": {\"gridcolor\": \"white\", \"linecolor\": \"white\", \"ticks\": \"\"}, \"bgcolor\": \"#E5ECF6\", \"caxis\": {\"gridcolor\": \"white\", \"linecolor\": \"white\", \"ticks\": \"\"}}, \"title\": {\"x\": 0.05}, \"xaxis\": {\"automargin\": true, \"gridcolor\": \"white\", \"linecolor\": \"white\", \"ticks\": \"\", \"title\": {\"standoff\": 15}, \"zerolinecolor\": \"white\", \"zerolinewidth\": 2}, \"yaxis\": {\"automargin\": true, \"gridcolor\": \"white\", \"linecolor\": \"white\", \"ticks\": \"\", \"title\": {\"standoff\": 15}, \"zerolinecolor\": \"white\", \"zerolinewidth\": 2}}}, \"title\": {\"text\": \"Covid-19 Crash\", \"x\": 0.5, \"xanchor\": \"center\", \"y\": 0.9, \"yanchor\": \"top\"}},\n",
       "                        {\"responsive\": true}\n",
       "                    ).then(function(){\n",
       "                            \n",
       "var gd = document.getElementById('4ecddcf9-a793-4611-809f-96f29db38acd');\n",
       "var x = new MutationObserver(function (mutations, observer) {{\n",
       "        var display = window.getComputedStyle(gd).display;\n",
       "        if (!display || display === 'none') {{\n",
       "            console.log([gd, 'removed!']);\n",
       "            Plotly.purge(gd);\n",
       "            observer.disconnect();\n",
       "        }}\n",
       "}});\n",
       "\n",
       "// Listen for the removal of the full notebook cells\n",
       "var notebookContainer = gd.closest('#notebook-container');\n",
       "if (notebookContainer) {{\n",
       "    x.observe(notebookContainer, {childList: true});\n",
       "}}\n",
       "\n",
       "// Listen for the clearing of the current output cell\n",
       "var outputEl = gd.closest('.output');\n",
       "if (outputEl) {{\n",
       "    x.observe(outputEl, {childList: true});\n",
       "}}\n",
       "\n",
       "                        })\n",
       "                };\n",
       "                });\n",
       "            </script>\n",
       "        </div>"
      ]
     },
     "metadata": {},
     "output_type": "display_data"
    }
   ],
   "source": [
    "fig = go.Figure(data=[go.Candlestick(x=df_covid['Date'],\n",
    "                open=df_covid['Open'],\n",
    "                high=df_covid['High'],\n",
    "                low=df_covid['Low'],\n",
    "                close=df_covid['Close'], name='DJIA index',\n",
    "                increasing_line_color= 'cyan', decreasing_line_color= 'gray'),\n",
    "               go.Scatter(x=df_covid['Date'], y=df_covid['5dayRollAvg'], line=dict(color='orange', width=1),name='5 day mov avg'),\n",
    "               go.Scatter(x=df_covid['Date'], y=df_covid['15dayRollAvg'], line=dict(color='green', width=1),name='15 day mov avg')])\n",
    "fig.update_layout(\n",
    "    title= {\n",
    "        'text': 'Covid-19 Crash',\n",
    "      'y':0.9,\n",
    "        'x':0.5,\n",
    "        'xanchor': 'center',\n",
    "        'yanchor': 'top'},\n",
    "      font=dict(\n",
    "        family=\"Courier New, monospace\",\n",
    "        size=20,\n",
    "         \n",
    "    )\n",
    "    )\n",
    "#fig.write_image(\"../output/Covid-19_Crash.png\")\n",
    "fig.show()"
   ]
  },
  {
   "cell_type": "code",
   "execution_count": 37,
   "metadata": {},
   "outputs": [
    {
     "data": {
      "application/vnd.plotly.v1+json": {
       "config": {
        "plotlyServerURL": "https://plot.ly"
       },
       "data": [
        {
         "name": "financial bubble",
         "type": "scatter",
         "x": [
          "2008-12-01T00:00:00",
          "2008-12-02T00:00:00",
          "2008-12-03T00:00:00",
          "2008-12-04T00:00:00",
          "2008-12-05T00:00:00",
          "2008-12-08T00:00:00",
          "2008-12-09T00:00:00",
          "2008-12-10T00:00:00",
          "2008-12-11T00:00:00",
          "2008-12-12T00:00:00",
          "2008-12-15T00:00:00",
          "2008-12-16T00:00:00",
          "2008-12-17T00:00:00",
          "2008-12-18T00:00:00",
          "2008-12-19T00:00:00",
          "2008-12-22T00:00:00",
          "2008-12-23T00:00:00",
          "2008-12-24T00:00:00",
          "2008-12-26T00:00:00",
          "2008-12-29T00:00:00",
          "2008-12-30T00:00:00",
          "2008-12-31T00:00:00",
          "2009-01-02T00:00:00",
          "2009-01-05T00:00:00",
          "2009-01-06T00:00:00",
          "2009-01-07T00:00:00",
          "2009-01-08T00:00:00",
          "2009-01-09T00:00:00",
          "2009-01-12T00:00:00",
          "2009-01-13T00:00:00",
          "2009-01-14T00:00:00",
          "2009-01-15T00:00:00",
          "2009-01-16T00:00:00",
          "2009-01-20T00:00:00",
          "2009-01-21T00:00:00",
          "2009-01-22T00:00:00",
          "2009-01-23T00:00:00",
          "2009-01-26T00:00:00",
          "2009-01-27T00:00:00",
          "2009-01-28T00:00:00",
          "2009-01-29T00:00:00",
          "2009-01-30T00:00:00",
          "2009-02-02T00:00:00",
          "2009-02-03T00:00:00",
          "2009-02-04T00:00:00",
          "2009-02-05T00:00:00",
          "2009-02-06T00:00:00",
          "2009-02-09T00:00:00",
          "2009-02-10T00:00:00",
          "2009-02-11T00:00:00",
          "2009-02-12T00:00:00",
          "2009-02-13T00:00:00",
          "2009-02-17T00:00:00",
          "2009-02-18T00:00:00",
          "2009-02-19T00:00:00",
          "2009-02-20T00:00:00",
          "2009-02-23T00:00:00",
          "2009-02-24T00:00:00",
          "2009-02-25T00:00:00",
          "2009-02-26T00:00:00",
          "2009-02-27T00:00:00"
         ],
         "xaxis": "x",
         "y": [
          8149.089844,
          8419.089844,
          8591.69043,
          8376.240234,
          8635.419922,
          8934.179688,
          8691.330078,
          8761.419922,
          8565.089844,
          8629.679688,
          8564.530273,
          8924.139648,
          8824.339844,
          8604.990234,
          8579.110352,
          8519.69043,
          8419.490234,
          8468.480469,
          8515.549805,
          8483.929688,
          8668.389648,
          8776.389648,
          9034.69043,
          8952.889648,
          9015.099609,
          8769.700195,
          8742.459961,
          8599.179688,
          8473.969727,
          8448.55957,
          8200.139648,
          8212.490234,
          8281.219727,
          7949.089844,
          8228.099609,
          8122.799805,
          8077.560059,
          8116.029785,
          8174.72998,
          8375.450195,
          8149.009765999999,
          8000.859863,
          7936.75,
          8078.359863,
          7956.660156,
          8063.069823999999,
          8280.589844,
          8270.870117,
          7888.879883,
          7939.529785,
          7932.759765999999,
          7850.410156,
          7552.600098000001,
          7555.629883,
          7465.950195,
          7365.669922,
          7114.779785,
          7350.939941,
          7270.890137,
          7182.080078,
          7062.930176000001
         ],
         "yaxis": "y"
        },
        {
         "name": "covid-19 crash",
         "type": "scatter",
         "x": [
          "2020-01-02T00:00:00",
          "2020-01-03T00:00:00",
          "2020-01-06T00:00:00",
          "2020-01-07T00:00:00",
          "2020-01-08T00:00:00",
          "2020-01-09T00:00:00",
          "2020-01-10T00:00:00",
          "2020-01-13T00:00:00",
          "2020-01-14T00:00:00",
          "2020-01-15T00:00:00",
          "2020-01-16T00:00:00",
          "2020-01-17T00:00:00",
          "2020-01-21T00:00:00",
          "2020-01-22T00:00:00",
          "2020-01-23T00:00:00",
          "2020-01-24T00:00:00",
          "2020-01-27T00:00:00",
          "2020-01-28T00:00:00",
          "2020-01-29T00:00:00",
          "2020-01-30T00:00:00",
          "2020-01-31T00:00:00",
          "2020-02-03T00:00:00",
          "2020-02-04T00:00:00",
          "2020-02-05T00:00:00",
          "2020-02-06T00:00:00",
          "2020-02-07T00:00:00",
          "2020-02-10T00:00:00",
          "2020-02-11T00:00:00",
          "2020-02-12T00:00:00",
          "2020-02-13T00:00:00",
          "2020-02-14T00:00:00",
          "2020-02-18T00:00:00",
          "2020-02-19T00:00:00",
          "2020-02-20T00:00:00",
          "2020-02-21T00:00:00",
          "2020-02-24T00:00:00",
          "2020-02-25T00:00:00",
          "2020-02-26T00:00:00",
          "2020-02-27T00:00:00",
          "2020-02-28T00:00:00",
          "2020-03-02T00:00:00",
          "2020-03-03T00:00:00",
          "2020-03-04T00:00:00",
          "2020-03-05T00:00:00",
          "2020-03-06T00:00:00",
          "2020-03-09T00:00:00",
          "2020-03-10T00:00:00",
          "2020-03-11T00:00:00",
          "2020-03-12T00:00:00",
          "2020-03-13T00:00:00",
          "2020-03-16T00:00:00",
          "2020-03-17T00:00:00",
          "2020-03-18T00:00:00",
          "2020-03-19T00:00:00",
          "2020-03-20T00:00:00",
          "2020-03-23T00:00:00",
          "2020-03-24T00:00:00",
          "2020-03-25T00:00:00",
          "2020-03-26T00:00:00",
          "2020-03-27T00:00:00",
          "2020-03-30T00:00:00",
          "2020-03-31T00:00:00"
         ],
         "xaxis": "x2",
         "y": [
          28868.80078,
          28634.88086,
          28703.38086,
          28583.679689999997,
          28745.089839999997,
          28956.90039,
          28823.76953,
          28907.05078,
          28939.66992,
          29030.2207,
          29297.64063,
          29348.09961,
          29196.039060000003,
          29186.26953,
          29160.089839999997,
          28989.73047,
          28535.80078,
          28722.84961,
          28734.44922,
          28859.43945,
          28256.0293,
          28399.81055,
          28807.63086,
          29290.84961,
          29379.76953,
          29102.50977,
          29276.820310000003,
          29276.339839999997,
          29551.41992,
          29423.31055,
          29398.08008,
          29232.18945,
          29348.0293,
          29219.98047,
          28992.410160000003,
          27960.80078,
          27081.35938,
          26957.589839999997,
          25766.64063,
          25409.35938,
          26703.32031,
          25917.41016,
          27090.85938,
          26121.2793,
          25864.7793,
          23851.01953,
          25018.16016,
          23553.2207,
          21200.61914,
          23185.61914,
          20188.51953,
          21237.38086,
          19898.91992,
          20087.18945,
          19173.98047,
          18591.92969,
          20704.91016,
          21200.55078,
          22552.16992,
          21636.7793,
          22327.48047,
          21917.16016
         ],
         "yaxis": "y2"
        }
       ],
       "layout": {
        "template": {
         "data": {
          "bar": [
           {
            "error_x": {
             "color": "#2a3f5f"
            },
            "error_y": {
             "color": "#2a3f5f"
            },
            "marker": {
             "line": {
              "color": "#E5ECF6",
              "width": 0.5
             }
            },
            "type": "bar"
           }
          ],
          "barpolar": [
           {
            "marker": {
             "line": {
              "color": "#E5ECF6",
              "width": 0.5
             }
            },
            "type": "barpolar"
           }
          ],
          "carpet": [
           {
            "aaxis": {
             "endlinecolor": "#2a3f5f",
             "gridcolor": "white",
             "linecolor": "white",
             "minorgridcolor": "white",
             "startlinecolor": "#2a3f5f"
            },
            "baxis": {
             "endlinecolor": "#2a3f5f",
             "gridcolor": "white",
             "linecolor": "white",
             "minorgridcolor": "white",
             "startlinecolor": "#2a3f5f"
            },
            "type": "carpet"
           }
          ],
          "choropleth": [
           {
            "colorbar": {
             "outlinewidth": 0,
             "ticks": ""
            },
            "type": "choropleth"
           }
          ],
          "contour": [
           {
            "colorbar": {
             "outlinewidth": 0,
             "ticks": ""
            },
            "colorscale": [
             [
              0,
              "#0d0887"
             ],
             [
              0.1111111111111111,
              "#46039f"
             ],
             [
              0.2222222222222222,
              "#7201a8"
             ],
             [
              0.3333333333333333,
              "#9c179e"
             ],
             [
              0.4444444444444444,
              "#bd3786"
             ],
             [
              0.5555555555555556,
              "#d8576b"
             ],
             [
              0.6666666666666666,
              "#ed7953"
             ],
             [
              0.7777777777777778,
              "#fb9f3a"
             ],
             [
              0.8888888888888888,
              "#fdca26"
             ],
             [
              1,
              "#f0f921"
             ]
            ],
            "type": "contour"
           }
          ],
          "contourcarpet": [
           {
            "colorbar": {
             "outlinewidth": 0,
             "ticks": ""
            },
            "type": "contourcarpet"
           }
          ],
          "heatmap": [
           {
            "colorbar": {
             "outlinewidth": 0,
             "ticks": ""
            },
            "colorscale": [
             [
              0,
              "#0d0887"
             ],
             [
              0.1111111111111111,
              "#46039f"
             ],
             [
              0.2222222222222222,
              "#7201a8"
             ],
             [
              0.3333333333333333,
              "#9c179e"
             ],
             [
              0.4444444444444444,
              "#bd3786"
             ],
             [
              0.5555555555555556,
              "#d8576b"
             ],
             [
              0.6666666666666666,
              "#ed7953"
             ],
             [
              0.7777777777777778,
              "#fb9f3a"
             ],
             [
              0.8888888888888888,
              "#fdca26"
             ],
             [
              1,
              "#f0f921"
             ]
            ],
            "type": "heatmap"
           }
          ],
          "heatmapgl": [
           {
            "colorbar": {
             "outlinewidth": 0,
             "ticks": ""
            },
            "colorscale": [
             [
              0,
              "#0d0887"
             ],
             [
              0.1111111111111111,
              "#46039f"
             ],
             [
              0.2222222222222222,
              "#7201a8"
             ],
             [
              0.3333333333333333,
              "#9c179e"
             ],
             [
              0.4444444444444444,
              "#bd3786"
             ],
             [
              0.5555555555555556,
              "#d8576b"
             ],
             [
              0.6666666666666666,
              "#ed7953"
             ],
             [
              0.7777777777777778,
              "#fb9f3a"
             ],
             [
              0.8888888888888888,
              "#fdca26"
             ],
             [
              1,
              "#f0f921"
             ]
            ],
            "type": "heatmapgl"
           }
          ],
          "histogram": [
           {
            "marker": {
             "colorbar": {
              "outlinewidth": 0,
              "ticks": ""
             }
            },
            "type": "histogram"
           }
          ],
          "histogram2d": [
           {
            "colorbar": {
             "outlinewidth": 0,
             "ticks": ""
            },
            "colorscale": [
             [
              0,
              "#0d0887"
             ],
             [
              0.1111111111111111,
              "#46039f"
             ],
             [
              0.2222222222222222,
              "#7201a8"
             ],
             [
              0.3333333333333333,
              "#9c179e"
             ],
             [
              0.4444444444444444,
              "#bd3786"
             ],
             [
              0.5555555555555556,
              "#d8576b"
             ],
             [
              0.6666666666666666,
              "#ed7953"
             ],
             [
              0.7777777777777778,
              "#fb9f3a"
             ],
             [
              0.8888888888888888,
              "#fdca26"
             ],
             [
              1,
              "#f0f921"
             ]
            ],
            "type": "histogram2d"
           }
          ],
          "histogram2dcontour": [
           {
            "colorbar": {
             "outlinewidth": 0,
             "ticks": ""
            },
            "colorscale": [
             [
              0,
              "#0d0887"
             ],
             [
              0.1111111111111111,
              "#46039f"
             ],
             [
              0.2222222222222222,
              "#7201a8"
             ],
             [
              0.3333333333333333,
              "#9c179e"
             ],
             [
              0.4444444444444444,
              "#bd3786"
             ],
             [
              0.5555555555555556,
              "#d8576b"
             ],
             [
              0.6666666666666666,
              "#ed7953"
             ],
             [
              0.7777777777777778,
              "#fb9f3a"
             ],
             [
              0.8888888888888888,
              "#fdca26"
             ],
             [
              1,
              "#f0f921"
             ]
            ],
            "type": "histogram2dcontour"
           }
          ],
          "mesh3d": [
           {
            "colorbar": {
             "outlinewidth": 0,
             "ticks": ""
            },
            "type": "mesh3d"
           }
          ],
          "parcoords": [
           {
            "line": {
             "colorbar": {
              "outlinewidth": 0,
              "ticks": ""
             }
            },
            "type": "parcoords"
           }
          ],
          "pie": [
           {
            "automargin": true,
            "type": "pie"
           }
          ],
          "scatter": [
           {
            "marker": {
             "colorbar": {
              "outlinewidth": 0,
              "ticks": ""
             }
            },
            "type": "scatter"
           }
          ],
          "scatter3d": [
           {
            "line": {
             "colorbar": {
              "outlinewidth": 0,
              "ticks": ""
             }
            },
            "marker": {
             "colorbar": {
              "outlinewidth": 0,
              "ticks": ""
             }
            },
            "type": "scatter3d"
           }
          ],
          "scattercarpet": [
           {
            "marker": {
             "colorbar": {
              "outlinewidth": 0,
              "ticks": ""
             }
            },
            "type": "scattercarpet"
           }
          ],
          "scattergeo": [
           {
            "marker": {
             "colorbar": {
              "outlinewidth": 0,
              "ticks": ""
             }
            },
            "type": "scattergeo"
           }
          ],
          "scattergl": [
           {
            "marker": {
             "colorbar": {
              "outlinewidth": 0,
              "ticks": ""
             }
            },
            "type": "scattergl"
           }
          ],
          "scattermapbox": [
           {
            "marker": {
             "colorbar": {
              "outlinewidth": 0,
              "ticks": ""
             }
            },
            "type": "scattermapbox"
           }
          ],
          "scatterpolar": [
           {
            "marker": {
             "colorbar": {
              "outlinewidth": 0,
              "ticks": ""
             }
            },
            "type": "scatterpolar"
           }
          ],
          "scatterpolargl": [
           {
            "marker": {
             "colorbar": {
              "outlinewidth": 0,
              "ticks": ""
             }
            },
            "type": "scatterpolargl"
           }
          ],
          "scatterternary": [
           {
            "marker": {
             "colorbar": {
              "outlinewidth": 0,
              "ticks": ""
             }
            },
            "type": "scatterternary"
           }
          ],
          "surface": [
           {
            "colorbar": {
             "outlinewidth": 0,
             "ticks": ""
            },
            "colorscale": [
             [
              0,
              "#0d0887"
             ],
             [
              0.1111111111111111,
              "#46039f"
             ],
             [
              0.2222222222222222,
              "#7201a8"
             ],
             [
              0.3333333333333333,
              "#9c179e"
             ],
             [
              0.4444444444444444,
              "#bd3786"
             ],
             [
              0.5555555555555556,
              "#d8576b"
             ],
             [
              0.6666666666666666,
              "#ed7953"
             ],
             [
              0.7777777777777778,
              "#fb9f3a"
             ],
             [
              0.8888888888888888,
              "#fdca26"
             ],
             [
              1,
              "#f0f921"
             ]
            ],
            "type": "surface"
           }
          ],
          "table": [
           {
            "cells": {
             "fill": {
              "color": "#EBF0F8"
             },
             "line": {
              "color": "white"
             }
            },
            "header": {
             "fill": {
              "color": "#C8D4E3"
             },
             "line": {
              "color": "white"
             }
            },
            "type": "table"
           }
          ]
         },
         "layout": {
          "annotationdefaults": {
           "arrowcolor": "#2a3f5f",
           "arrowhead": 0,
           "arrowwidth": 1
          },
          "coloraxis": {
           "colorbar": {
            "outlinewidth": 0,
            "ticks": ""
           }
          },
          "colorscale": {
           "diverging": [
            [
             0,
             "#8e0152"
            ],
            [
             0.1,
             "#c51b7d"
            ],
            [
             0.2,
             "#de77ae"
            ],
            [
             0.3,
             "#f1b6da"
            ],
            [
             0.4,
             "#fde0ef"
            ],
            [
             0.5,
             "#f7f7f7"
            ],
            [
             0.6,
             "#e6f5d0"
            ],
            [
             0.7,
             "#b8e186"
            ],
            [
             0.8,
             "#7fbc41"
            ],
            [
             0.9,
             "#4d9221"
            ],
            [
             1,
             "#276419"
            ]
           ],
           "sequential": [
            [
             0,
             "#0d0887"
            ],
            [
             0.1111111111111111,
             "#46039f"
            ],
            [
             0.2222222222222222,
             "#7201a8"
            ],
            [
             0.3333333333333333,
             "#9c179e"
            ],
            [
             0.4444444444444444,
             "#bd3786"
            ],
            [
             0.5555555555555556,
             "#d8576b"
            ],
            [
             0.6666666666666666,
             "#ed7953"
            ],
            [
             0.7777777777777778,
             "#fb9f3a"
            ],
            [
             0.8888888888888888,
             "#fdca26"
            ],
            [
             1,
             "#f0f921"
            ]
           ],
           "sequentialminus": [
            [
             0,
             "#0d0887"
            ],
            [
             0.1111111111111111,
             "#46039f"
            ],
            [
             0.2222222222222222,
             "#7201a8"
            ],
            [
             0.3333333333333333,
             "#9c179e"
            ],
            [
             0.4444444444444444,
             "#bd3786"
            ],
            [
             0.5555555555555556,
             "#d8576b"
            ],
            [
             0.6666666666666666,
             "#ed7953"
            ],
            [
             0.7777777777777778,
             "#fb9f3a"
            ],
            [
             0.8888888888888888,
             "#fdca26"
            ],
            [
             1,
             "#f0f921"
            ]
           ]
          },
          "colorway": [
           "#636efa",
           "#EF553B",
           "#00cc96",
           "#ab63fa",
           "#FFA15A",
           "#19d3f3",
           "#FF6692",
           "#B6E880",
           "#FF97FF",
           "#FECB52"
          ],
          "font": {
           "color": "#2a3f5f"
          },
          "geo": {
           "bgcolor": "white",
           "lakecolor": "white",
           "landcolor": "#E5ECF6",
           "showlakes": true,
           "showland": true,
           "subunitcolor": "white"
          },
          "hoverlabel": {
           "align": "left"
          },
          "hovermode": "closest",
          "mapbox": {
           "style": "light"
          },
          "paper_bgcolor": "white",
          "plot_bgcolor": "#E5ECF6",
          "polar": {
           "angularaxis": {
            "gridcolor": "white",
            "linecolor": "white",
            "ticks": ""
           },
           "bgcolor": "#E5ECF6",
           "radialaxis": {
            "gridcolor": "white",
            "linecolor": "white",
            "ticks": ""
           }
          },
          "scene": {
           "xaxis": {
            "backgroundcolor": "#E5ECF6",
            "gridcolor": "white",
            "gridwidth": 2,
            "linecolor": "white",
            "showbackground": true,
            "ticks": "",
            "zerolinecolor": "white"
           },
           "yaxis": {
            "backgroundcolor": "#E5ECF6",
            "gridcolor": "white",
            "gridwidth": 2,
            "linecolor": "white",
            "showbackground": true,
            "ticks": "",
            "zerolinecolor": "white"
           },
           "zaxis": {
            "backgroundcolor": "#E5ECF6",
            "gridcolor": "white",
            "gridwidth": 2,
            "linecolor": "white",
            "showbackground": true,
            "ticks": "",
            "zerolinecolor": "white"
           }
          },
          "shapedefaults": {
           "line": {
            "color": "#2a3f5f"
           }
          },
          "ternary": {
           "aaxis": {
            "gridcolor": "white",
            "linecolor": "white",
            "ticks": ""
           },
           "baxis": {
            "gridcolor": "white",
            "linecolor": "white",
            "ticks": ""
           },
           "bgcolor": "#E5ECF6",
           "caxis": {
            "gridcolor": "white",
            "linecolor": "white",
            "ticks": ""
           }
          },
          "title": {
           "x": 0.05
          },
          "xaxis": {
           "automargin": true,
           "gridcolor": "white",
           "linecolor": "white",
           "ticks": "",
           "title": {
            "standoff": 15
           },
           "zerolinecolor": "white",
           "zerolinewidth": 2
          },
          "yaxis": {
           "automargin": true,
           "gridcolor": "white",
           "linecolor": "white",
           "ticks": "",
           "title": {
            "standoff": 15
           },
           "zerolinecolor": "white",
           "zerolinewidth": 2
          }
         }
        },
        "title": {
         "text": "Analysis Crash Economy"
        },
        "xaxis": {
         "anchor": "y",
         "domain": [
          0,
          1
         ]
        },
        "xaxis2": {
         "anchor": "y2",
         "domain": [
          0,
          1
         ]
        },
        "xaxis3": {
         "anchor": "y3",
         "domain": [
          0,
          1
         ]
        },
        "yaxis": {
         "anchor": "x",
         "domain": [
          0.7333333333333333,
          1
         ]
        },
        "yaxis2": {
         "anchor": "x2",
         "domain": [
          0.36666666666666664,
          0.6333333333333333
         ]
        },
        "yaxis3": {
         "anchor": "x3",
         "domain": [
          0,
          0.26666666666666666
         ]
        }
       }
      },
      "text/html": [
       "<div>\n",
       "        \n",
       "        \n",
       "            <div id=\"8233e884-6316-4fdf-ab19-fdc5a6a3eecf\" class=\"plotly-graph-div\" style=\"height:525px; width:100%;\"></div>\n",
       "            <script type=\"text/javascript\">\n",
       "                require([\"plotly\"], function(Plotly) {\n",
       "                    window.PLOTLYENV=window.PLOTLYENV || {};\n",
       "                    \n",
       "                if (document.getElementById(\"8233e884-6316-4fdf-ab19-fdc5a6a3eecf\")) {\n",
       "                    Plotly.newPlot(\n",
       "                        '8233e884-6316-4fdf-ab19-fdc5a6a3eecf',\n",
       "                        [{\"name\": \"financial bubble\", \"type\": \"scatter\", \"x\": [\"2008-12-01T00:00:00\", \"2008-12-02T00:00:00\", \"2008-12-03T00:00:00\", \"2008-12-04T00:00:00\", \"2008-12-05T00:00:00\", \"2008-12-08T00:00:00\", \"2008-12-09T00:00:00\", \"2008-12-10T00:00:00\", \"2008-12-11T00:00:00\", \"2008-12-12T00:00:00\", \"2008-12-15T00:00:00\", \"2008-12-16T00:00:00\", \"2008-12-17T00:00:00\", \"2008-12-18T00:00:00\", \"2008-12-19T00:00:00\", \"2008-12-22T00:00:00\", \"2008-12-23T00:00:00\", \"2008-12-24T00:00:00\", \"2008-12-26T00:00:00\", \"2008-12-29T00:00:00\", \"2008-12-30T00:00:00\", \"2008-12-31T00:00:00\", \"2009-01-02T00:00:00\", \"2009-01-05T00:00:00\", \"2009-01-06T00:00:00\", \"2009-01-07T00:00:00\", \"2009-01-08T00:00:00\", \"2009-01-09T00:00:00\", \"2009-01-12T00:00:00\", \"2009-01-13T00:00:00\", \"2009-01-14T00:00:00\", \"2009-01-15T00:00:00\", \"2009-01-16T00:00:00\", \"2009-01-20T00:00:00\", \"2009-01-21T00:00:00\", \"2009-01-22T00:00:00\", \"2009-01-23T00:00:00\", \"2009-01-26T00:00:00\", \"2009-01-27T00:00:00\", \"2009-01-28T00:00:00\", \"2009-01-29T00:00:00\", \"2009-01-30T00:00:00\", \"2009-02-02T00:00:00\", \"2009-02-03T00:00:00\", \"2009-02-04T00:00:00\", \"2009-02-05T00:00:00\", \"2009-02-06T00:00:00\", \"2009-02-09T00:00:00\", \"2009-02-10T00:00:00\", \"2009-02-11T00:00:00\", \"2009-02-12T00:00:00\", \"2009-02-13T00:00:00\", \"2009-02-17T00:00:00\", \"2009-02-18T00:00:00\", \"2009-02-19T00:00:00\", \"2009-02-20T00:00:00\", \"2009-02-23T00:00:00\", \"2009-02-24T00:00:00\", \"2009-02-25T00:00:00\", \"2009-02-26T00:00:00\", \"2009-02-27T00:00:00\"], \"xaxis\": \"x\", \"y\": [8149.089844, 8419.089844, 8591.69043, 8376.240234, 8635.419922, 8934.179688, 8691.330078, 8761.419922, 8565.089844, 8629.679688, 8564.530273, 8924.139648, 8824.339844, 8604.990234, 8579.110352, 8519.69043, 8419.490234, 8468.480469, 8515.549805, 8483.929688, 8668.389648, 8776.389648, 9034.69043, 8952.889648, 9015.099609, 8769.700195, 8742.459961, 8599.179688, 8473.969727, 8448.55957, 8200.139648, 8212.490234, 8281.219727, 7949.089844, 8228.099609, 8122.799805, 8077.560059, 8116.029785, 8174.72998, 8375.450195, 8149.009765999999, 8000.859863, 7936.75, 8078.359863, 7956.660156, 8063.069823999999, 8280.589844, 8270.870117, 7888.879883, 7939.529785, 7932.759765999999, 7850.410156, 7552.600098000001, 7555.629883, 7465.950195, 7365.669922, 7114.779785, 7350.939941, 7270.890137, 7182.080078, 7062.930176000001], \"yaxis\": \"y\"}, {\"name\": \"covid-19 crash\", \"type\": \"scatter\", \"x\": [\"2020-01-02T00:00:00\", \"2020-01-03T00:00:00\", \"2020-01-06T00:00:00\", \"2020-01-07T00:00:00\", \"2020-01-08T00:00:00\", \"2020-01-09T00:00:00\", \"2020-01-10T00:00:00\", \"2020-01-13T00:00:00\", \"2020-01-14T00:00:00\", \"2020-01-15T00:00:00\", \"2020-01-16T00:00:00\", \"2020-01-17T00:00:00\", \"2020-01-21T00:00:00\", \"2020-01-22T00:00:00\", \"2020-01-23T00:00:00\", \"2020-01-24T00:00:00\", \"2020-01-27T00:00:00\", \"2020-01-28T00:00:00\", \"2020-01-29T00:00:00\", \"2020-01-30T00:00:00\", \"2020-01-31T00:00:00\", \"2020-02-03T00:00:00\", \"2020-02-04T00:00:00\", \"2020-02-05T00:00:00\", \"2020-02-06T00:00:00\", \"2020-02-07T00:00:00\", \"2020-02-10T00:00:00\", \"2020-02-11T00:00:00\", \"2020-02-12T00:00:00\", \"2020-02-13T00:00:00\", \"2020-02-14T00:00:00\", \"2020-02-18T00:00:00\", \"2020-02-19T00:00:00\", \"2020-02-20T00:00:00\", \"2020-02-21T00:00:00\", \"2020-02-24T00:00:00\", \"2020-02-25T00:00:00\", \"2020-02-26T00:00:00\", \"2020-02-27T00:00:00\", \"2020-02-28T00:00:00\", \"2020-03-02T00:00:00\", \"2020-03-03T00:00:00\", \"2020-03-04T00:00:00\", \"2020-03-05T00:00:00\", \"2020-03-06T00:00:00\", \"2020-03-09T00:00:00\", \"2020-03-10T00:00:00\", \"2020-03-11T00:00:00\", \"2020-03-12T00:00:00\", \"2020-03-13T00:00:00\", \"2020-03-16T00:00:00\", \"2020-03-17T00:00:00\", \"2020-03-18T00:00:00\", \"2020-03-19T00:00:00\", \"2020-03-20T00:00:00\", \"2020-03-23T00:00:00\", \"2020-03-24T00:00:00\", \"2020-03-25T00:00:00\", \"2020-03-26T00:00:00\", \"2020-03-27T00:00:00\", \"2020-03-30T00:00:00\", \"2020-03-31T00:00:00\"], \"xaxis\": \"x2\", \"y\": [28868.80078, 28634.88086, 28703.38086, 28583.679689999997, 28745.089839999997, 28956.90039, 28823.76953, 28907.05078, 28939.66992, 29030.2207, 29297.64063, 29348.09961, 29196.039060000003, 29186.26953, 29160.089839999997, 28989.73047, 28535.80078, 28722.84961, 28734.44922, 28859.43945, 28256.0293, 28399.81055, 28807.63086, 29290.84961, 29379.76953, 29102.50977, 29276.820310000003, 29276.339839999997, 29551.41992, 29423.31055, 29398.08008, 29232.18945, 29348.0293, 29219.98047, 28992.410160000003, 27960.80078, 27081.35938, 26957.589839999997, 25766.64063, 25409.35938, 26703.32031, 25917.41016, 27090.85938, 26121.2793, 25864.7793, 23851.01953, 25018.16016, 23553.2207, 21200.61914, 23185.61914, 20188.51953, 21237.38086, 19898.91992, 20087.18945, 19173.98047, 18591.92969, 20704.91016, 21200.55078, 22552.16992, 21636.7793, 22327.48047, 21917.16016], \"yaxis\": \"y2\"}],\n",
       "                        {\"template\": {\"data\": {\"bar\": [{\"error_x\": {\"color\": \"#2a3f5f\"}, \"error_y\": {\"color\": \"#2a3f5f\"}, \"marker\": {\"line\": {\"color\": \"#E5ECF6\", \"width\": 0.5}}, \"type\": \"bar\"}], \"barpolar\": [{\"marker\": {\"line\": {\"color\": \"#E5ECF6\", \"width\": 0.5}}, \"type\": \"barpolar\"}], \"carpet\": [{\"aaxis\": {\"endlinecolor\": \"#2a3f5f\", \"gridcolor\": \"white\", \"linecolor\": \"white\", \"minorgridcolor\": \"white\", \"startlinecolor\": \"#2a3f5f\"}, \"baxis\": {\"endlinecolor\": \"#2a3f5f\", \"gridcolor\": \"white\", \"linecolor\": \"white\", \"minorgridcolor\": \"white\", \"startlinecolor\": \"#2a3f5f\"}, \"type\": \"carpet\"}], \"choropleth\": [{\"colorbar\": {\"outlinewidth\": 0, \"ticks\": \"\"}, \"type\": \"choropleth\"}], \"contour\": [{\"colorbar\": {\"outlinewidth\": 0, \"ticks\": \"\"}, \"colorscale\": [[0.0, \"#0d0887\"], [0.1111111111111111, \"#46039f\"], [0.2222222222222222, \"#7201a8\"], [0.3333333333333333, \"#9c179e\"], [0.4444444444444444, \"#bd3786\"], [0.5555555555555556, \"#d8576b\"], [0.6666666666666666, \"#ed7953\"], [0.7777777777777778, \"#fb9f3a\"], [0.8888888888888888, \"#fdca26\"], [1.0, \"#f0f921\"]], \"type\": \"contour\"}], \"contourcarpet\": [{\"colorbar\": {\"outlinewidth\": 0, \"ticks\": \"\"}, \"type\": \"contourcarpet\"}], \"heatmap\": [{\"colorbar\": {\"outlinewidth\": 0, \"ticks\": \"\"}, \"colorscale\": [[0.0, \"#0d0887\"], [0.1111111111111111, \"#46039f\"], [0.2222222222222222, \"#7201a8\"], [0.3333333333333333, \"#9c179e\"], [0.4444444444444444, \"#bd3786\"], [0.5555555555555556, \"#d8576b\"], [0.6666666666666666, \"#ed7953\"], [0.7777777777777778, \"#fb9f3a\"], [0.8888888888888888, \"#fdca26\"], [1.0, \"#f0f921\"]], \"type\": \"heatmap\"}], \"heatmapgl\": [{\"colorbar\": {\"outlinewidth\": 0, \"ticks\": \"\"}, \"colorscale\": [[0.0, \"#0d0887\"], [0.1111111111111111, \"#46039f\"], [0.2222222222222222, \"#7201a8\"], [0.3333333333333333, \"#9c179e\"], [0.4444444444444444, \"#bd3786\"], [0.5555555555555556, \"#d8576b\"], [0.6666666666666666, \"#ed7953\"], [0.7777777777777778, \"#fb9f3a\"], [0.8888888888888888, \"#fdca26\"], [1.0, \"#f0f921\"]], \"type\": \"heatmapgl\"}], \"histogram\": [{\"marker\": {\"colorbar\": {\"outlinewidth\": 0, \"ticks\": \"\"}}, \"type\": \"histogram\"}], \"histogram2d\": [{\"colorbar\": {\"outlinewidth\": 0, \"ticks\": \"\"}, \"colorscale\": [[0.0, \"#0d0887\"], [0.1111111111111111, \"#46039f\"], [0.2222222222222222, \"#7201a8\"], [0.3333333333333333, \"#9c179e\"], [0.4444444444444444, \"#bd3786\"], [0.5555555555555556, \"#d8576b\"], [0.6666666666666666, \"#ed7953\"], [0.7777777777777778, \"#fb9f3a\"], [0.8888888888888888, \"#fdca26\"], [1.0, \"#f0f921\"]], \"type\": \"histogram2d\"}], \"histogram2dcontour\": [{\"colorbar\": {\"outlinewidth\": 0, \"ticks\": \"\"}, \"colorscale\": [[0.0, \"#0d0887\"], [0.1111111111111111, \"#46039f\"], [0.2222222222222222, \"#7201a8\"], [0.3333333333333333, \"#9c179e\"], [0.4444444444444444, \"#bd3786\"], [0.5555555555555556, \"#d8576b\"], [0.6666666666666666, \"#ed7953\"], [0.7777777777777778, \"#fb9f3a\"], [0.8888888888888888, \"#fdca26\"], [1.0, \"#f0f921\"]], \"type\": \"histogram2dcontour\"}], \"mesh3d\": [{\"colorbar\": {\"outlinewidth\": 0, \"ticks\": \"\"}, \"type\": \"mesh3d\"}], \"parcoords\": [{\"line\": {\"colorbar\": {\"outlinewidth\": 0, \"ticks\": \"\"}}, \"type\": \"parcoords\"}], \"pie\": [{\"automargin\": true, \"type\": \"pie\"}], \"scatter\": [{\"marker\": {\"colorbar\": {\"outlinewidth\": 0, \"ticks\": \"\"}}, \"type\": \"scatter\"}], \"scatter3d\": [{\"line\": {\"colorbar\": {\"outlinewidth\": 0, \"ticks\": \"\"}}, \"marker\": {\"colorbar\": {\"outlinewidth\": 0, \"ticks\": \"\"}}, \"type\": \"scatter3d\"}], \"scattercarpet\": [{\"marker\": {\"colorbar\": {\"outlinewidth\": 0, \"ticks\": \"\"}}, \"type\": \"scattercarpet\"}], \"scattergeo\": [{\"marker\": {\"colorbar\": {\"outlinewidth\": 0, \"ticks\": \"\"}}, \"type\": \"scattergeo\"}], \"scattergl\": [{\"marker\": {\"colorbar\": {\"outlinewidth\": 0, \"ticks\": \"\"}}, \"type\": \"scattergl\"}], \"scattermapbox\": [{\"marker\": {\"colorbar\": {\"outlinewidth\": 0, \"ticks\": \"\"}}, \"type\": \"scattermapbox\"}], \"scatterpolar\": [{\"marker\": {\"colorbar\": {\"outlinewidth\": 0, \"ticks\": \"\"}}, \"type\": \"scatterpolar\"}], \"scatterpolargl\": [{\"marker\": {\"colorbar\": {\"outlinewidth\": 0, \"ticks\": \"\"}}, \"type\": \"scatterpolargl\"}], \"scatterternary\": [{\"marker\": {\"colorbar\": {\"outlinewidth\": 0, \"ticks\": \"\"}}, \"type\": \"scatterternary\"}], \"surface\": [{\"colorbar\": {\"outlinewidth\": 0, \"ticks\": \"\"}, \"colorscale\": [[0.0, \"#0d0887\"], [0.1111111111111111, \"#46039f\"], [0.2222222222222222, \"#7201a8\"], [0.3333333333333333, \"#9c179e\"], [0.4444444444444444, \"#bd3786\"], [0.5555555555555556, \"#d8576b\"], [0.6666666666666666, \"#ed7953\"], [0.7777777777777778, \"#fb9f3a\"], [0.8888888888888888, \"#fdca26\"], [1.0, \"#f0f921\"]], \"type\": \"surface\"}], \"table\": [{\"cells\": {\"fill\": {\"color\": \"#EBF0F8\"}, \"line\": {\"color\": \"white\"}}, \"header\": {\"fill\": {\"color\": \"#C8D4E3\"}, \"line\": {\"color\": \"white\"}}, \"type\": \"table\"}]}, \"layout\": {\"annotationdefaults\": {\"arrowcolor\": \"#2a3f5f\", \"arrowhead\": 0, \"arrowwidth\": 1}, \"coloraxis\": {\"colorbar\": {\"outlinewidth\": 0, \"ticks\": \"\"}}, \"colorscale\": {\"diverging\": [[0, \"#8e0152\"], [0.1, \"#c51b7d\"], [0.2, \"#de77ae\"], [0.3, \"#f1b6da\"], [0.4, \"#fde0ef\"], [0.5, \"#f7f7f7\"], [0.6, \"#e6f5d0\"], [0.7, \"#b8e186\"], [0.8, \"#7fbc41\"], [0.9, \"#4d9221\"], [1, \"#276419\"]], \"sequential\": [[0.0, \"#0d0887\"], [0.1111111111111111, \"#46039f\"], [0.2222222222222222, \"#7201a8\"], [0.3333333333333333, \"#9c179e\"], [0.4444444444444444, \"#bd3786\"], [0.5555555555555556, \"#d8576b\"], [0.6666666666666666, \"#ed7953\"], [0.7777777777777778, \"#fb9f3a\"], [0.8888888888888888, \"#fdca26\"], [1.0, \"#f0f921\"]], \"sequentialminus\": [[0.0, \"#0d0887\"], [0.1111111111111111, \"#46039f\"], [0.2222222222222222, \"#7201a8\"], [0.3333333333333333, \"#9c179e\"], [0.4444444444444444, \"#bd3786\"], [0.5555555555555556, \"#d8576b\"], [0.6666666666666666, \"#ed7953\"], [0.7777777777777778, \"#fb9f3a\"], [0.8888888888888888, \"#fdca26\"], [1.0, \"#f0f921\"]]}, \"colorway\": [\"#636efa\", \"#EF553B\", \"#00cc96\", \"#ab63fa\", \"#FFA15A\", \"#19d3f3\", \"#FF6692\", \"#B6E880\", \"#FF97FF\", \"#FECB52\"], \"font\": {\"color\": \"#2a3f5f\"}, \"geo\": {\"bgcolor\": \"white\", \"lakecolor\": \"white\", \"landcolor\": \"#E5ECF6\", \"showlakes\": true, \"showland\": true, \"subunitcolor\": \"white\"}, \"hoverlabel\": {\"align\": \"left\"}, \"hovermode\": \"closest\", \"mapbox\": {\"style\": \"light\"}, \"paper_bgcolor\": \"white\", \"plot_bgcolor\": \"#E5ECF6\", \"polar\": {\"angularaxis\": {\"gridcolor\": \"white\", \"linecolor\": \"white\", \"ticks\": \"\"}, \"bgcolor\": \"#E5ECF6\", \"radialaxis\": {\"gridcolor\": \"white\", \"linecolor\": \"white\", \"ticks\": \"\"}}, \"scene\": {\"xaxis\": {\"backgroundcolor\": \"#E5ECF6\", \"gridcolor\": \"white\", \"gridwidth\": 2, \"linecolor\": \"white\", \"showbackground\": true, \"ticks\": \"\", \"zerolinecolor\": \"white\"}, \"yaxis\": {\"backgroundcolor\": \"#E5ECF6\", \"gridcolor\": \"white\", \"gridwidth\": 2, \"linecolor\": \"white\", \"showbackground\": true, \"ticks\": \"\", \"zerolinecolor\": \"white\"}, \"zaxis\": {\"backgroundcolor\": \"#E5ECF6\", \"gridcolor\": \"white\", \"gridwidth\": 2, \"linecolor\": \"white\", \"showbackground\": true, \"ticks\": \"\", \"zerolinecolor\": \"white\"}}, \"shapedefaults\": {\"line\": {\"color\": \"#2a3f5f\"}}, \"ternary\": {\"aaxis\": {\"gridcolor\": \"white\", \"linecolor\": \"white\", \"ticks\": \"\"}, \"baxis\": {\"gridcolor\": \"white\", \"linecolor\": \"white\", \"ticks\": \"\"}, \"bgcolor\": \"#E5ECF6\", \"caxis\": {\"gridcolor\": \"white\", \"linecolor\": \"white\", \"ticks\": \"\"}}, \"title\": {\"x\": 0.05}, \"xaxis\": {\"automargin\": true, \"gridcolor\": \"white\", \"linecolor\": \"white\", \"ticks\": \"\", \"title\": {\"standoff\": 15}, \"zerolinecolor\": \"white\", \"zerolinewidth\": 2}, \"yaxis\": {\"automargin\": true, \"gridcolor\": \"white\", \"linecolor\": \"white\", \"ticks\": \"\", \"title\": {\"standoff\": 15}, \"zerolinecolor\": \"white\", \"zerolinewidth\": 2}}}, \"title\": {\"text\": \"Analysis Crash Economy\"}, \"xaxis\": {\"anchor\": \"y\", \"domain\": [0.0, 1.0]}, \"xaxis2\": {\"anchor\": \"y2\", \"domain\": [0.0, 1.0]}, \"xaxis3\": {\"anchor\": \"y3\", \"domain\": [0.0, 1.0]}, \"yaxis\": {\"anchor\": \"x\", \"domain\": [0.7333333333333333, 1.0]}, \"yaxis2\": {\"anchor\": \"x2\", \"domain\": [0.36666666666666664, 0.6333333333333333]}, \"yaxis3\": {\"anchor\": \"x3\", \"domain\": [0.0, 0.26666666666666666]}},\n",
       "                        {\"responsive\": true}\n",
       "                    ).then(function(){\n",
       "                            \n",
       "var gd = document.getElementById('8233e884-6316-4fdf-ab19-fdc5a6a3eecf');\n",
       "var x = new MutationObserver(function (mutations, observer) {{\n",
       "        var display = window.getComputedStyle(gd).display;\n",
       "        if (!display || display === 'none') {{\n",
       "            console.log([gd, 'removed!']);\n",
       "            Plotly.purge(gd);\n",
       "            observer.disconnect();\n",
       "        }}\n",
       "}});\n",
       "\n",
       "// Listen for the removal of the full notebook cells\n",
       "var notebookContainer = gd.closest('#notebook-container');\n",
       "if (notebookContainer) {{\n",
       "    x.observe(notebookContainer, {childList: true});\n",
       "}}\n",
       "\n",
       "// Listen for the clearing of the current output cell\n",
       "var outputEl = gd.closest('.output');\n",
       "if (outputEl) {{\n",
       "    x.observe(outputEl, {childList: true});\n",
       "}}\n",
       "\n",
       "                        })\n",
       "                };\n",
       "                });\n",
       "            </script>\n",
       "        </div>"
      ]
     },
     "metadata": {},
     "output_type": "display_data"
    }
   ],
   "source": [
    "fig = make_subplots(rows=3, cols=1)\n",
    "\n",
    "# fig.add_trace(go.Scatter(x=df_stocktrend['Date'], y=df_stocktrend['Close']), row=1, col=1)\n",
    "# fig.add_trace(go.Scatter(x=df_finance['Date'], y=df_finance['Close']), row=1, col=1)\n",
    "fig.add_trace(go.Scatter(x=df_finance['Date'], y=df_finance['Close'],name='financial bubble'),row=1, col=1)\n",
    "fig.add_trace(go.Scatter(x=df_covid['Date'], y=df_covid['Close'],name='covid-19 crash'), row=2, col=1)\n",
    "# fig.update_xaxes(rangeslider_visible=True)\n",
    "fig.update_layout(title_text=\"Analysis Crash Economy\")\n",
    "#fig.write_image(\"../output/Analysis_Crash_Economy.png\")\n",
    "fig.show()\n"
   ]
  },
  {
   "cell_type": "code",
   "execution_count": null,
   "metadata": {},
   "outputs": [],
   "source": [
    "plt.figure(figsize=(15,10))\n",
    "\n"
   ]
  },
  {
   "cell_type": "code",
   "execution_count": 9,
   "metadata": {},
   "outputs": [],
   "source": [
    "df_covidglobalinfections = pd.read_csv(\"../data_files/internet_sources/covid_global.csv\")\n",
    "df_covidglobalinfections\n",
    "\n",
    "# bamboolib live code export\n",
    "df_covidinfectionUS = df_covidglobalinfections.loc[df_covidglobalinfections['Country/Region'].isin(['US'])]\n"
   ]
  },
  {
   "cell_type": "code",
   "execution_count": 10,
   "metadata": {},
   "outputs": [],
   "source": [
    "df_covidinfectionUS\n",
    "df_covidcasesUS = df_covidinfectionUS.drop(columns=['Province/State', 'Country/Region', 'Lat', 'Long'])\n",
    "df_covidcasesUS = df_covidcasesUS.T\n",
    "df_covidcasesUS.columns = [str(column) for column in df_covidcasesUS.columns]\n",
    "df_covidcasesUS = df_covidcasesUS.rename(columns={'225': 'InfectionCount'})\n",
    "df_covidcasesUS=df_covidcasesUS.reset_index()\n",
    "df_covidcasesUS = df_covidcasesUS.rename(columns={'index': 'Date'})\n",
    "df_covidcasesUS['Date'] = pd.to_datetime(df_covidcasesUS['Date'])\n",
    "# bamboolib live code export\n",
    "df_covidcasesUS = df_covidcasesUS.loc[(df_covidcasesUS['Date'] >= '2020-01-22') & (df_covidcasesUS['Date'] <= '2020-03-31')]\n"
   ]
  },
  {
   "cell_type": "code",
   "execution_count": 11,
   "metadata": {},
   "outputs": [],
   "source": [
    "def monthconvert(date_str):\n",
    "    datetime_obj = datetime.strptime(date_str,'%Y-%m-%dT%H:%M:%S')\n",
    "    return datetime_obj.strftime(\"%B\")"
   ]
  },
  {
   "cell_type": "code",
   "execution_count": 12,
   "metadata": {
    "scrolled": true
   },
   "outputs": [],
   "source": [
    "df_completeUSUnemployment = pd.read_csv(\"../data_files/internet_sources/Complete_UR_Download.csv\",delimiter=\";\")\n",
    "df_completeUSUnemployment = df_completeUSUnemployment.loc[df_completeUSUnemployment['DateTime'].isin(['2020-01-31T00:00:00', '2020-02-29T00:00:00', '2020-03-31T00:00:00'])]\n",
    "df_completeUSUnemployment.reset_index(drop=True)\n",
    "monthresult = [monthconvert(x) for x in df_completeUSUnemployment['DateTime']]\n",
    "df_completeUSUnemployment['Month'] = monthresult\n",
    "df_completeUSUnemployment = df_completeUSUnemployment.rename(columns={'Value': 'Unemployment Rate'})"
   ]
  },
  {
   "cell_type": "code",
   "execution_count": 13,
   "metadata": {},
   "outputs": [],
   "source": [
    "df_covidcasesUSJan = df_covidcasesUS.loc[(df_covidcasesUS['Date'] >= '2020-01-22') & (df_covidcasesUS['Date'] <= '2020-01-31')]\n",
    "df_covidcasesUSFeb = df_covidcasesUS.loc[(df_covidcasesUS['Date'] >= '2020-02-01') & (df_covidcasesUS['Date'] <= '2020-02-28')]\n",
    "df_covidcasesUSMar = df_covidcasesUS.loc[(df_covidcasesUS['Date'] >= '2020-03-01') & (df_covidcasesUS['Date'] <= '2020-03-31')]\n",
    "JanCount = df_covidcasesUSJan['InfectionCount'].sum()\n",
    "FebCount = df_covidcasesUSFeb['InfectionCount'].sum()\n",
    "MarCount = df_covidcasesUSMar['InfectionCount'].sum()\n",
    "dictCountbyMonth = {}\n",
    "dictCountbyMonth[\"January\"]=JanCount\n",
    "dictCountbyMonth[\"February\"]=FebCount\n",
    "dictCountbyMonth[\"March\"]=MarCount\n",
    "df_covidUSbyMonth = pd.DataFrame(list(dictCountbyMonth.items()),columns = ['Month','TotalInfections']) \n",
    "df_covidUSbyMonth\n",
    "df_merged = pd.merge(df_covidUSbyMonth, df_completeUSUnemployment, how='outer', on=['Month'])\n"
   ]
  },
  {
   "cell_type": "code",
   "execution_count": 14,
   "metadata": {},
   "outputs": [
    {
     "data": {
      "application/vnd.plotly.v1+json": {
       "config": {
        "plotlyServerURL": "https://plot.ly"
       },
       "data": [
        {
         "hovertemplate": "TotalInfections=%{x}<br>Unemployment Rate=%{y}<extra></extra>",
         "legendgroup": "",
         "marker": {
          "color": "#636efa",
          "symbol": "circle"
         },
         "mode": "markers",
         "name": "",
         "showlegend": false,
         "type": "scatter",
         "x": [
          38,
          554,
          1086688
         ],
         "xaxis": "x",
         "y": [
          3.6,
          3.5,
          4.4
         ],
         "yaxis": "y"
        },
        {
         "hovertemplate": "<b>OLS trendline</b><br>Unemployment Rate = 7.82373e-07 * TotalInfections + 3.54978<br>R<sup>2</sup>=0.989643<br><br>TotalInfections=%{x}<br>Unemployment Rate=%{y} <b>(trend)</b><extra></extra>",
         "legendgroup": "",
         "marker": {
          "color": "#636efa",
          "symbol": "circle"
         },
         "mode": "lines",
         "name": "",
         "showlegend": false,
         "type": "scatter",
         "x": [
          38,
          554,
          1086688
         ],
         "xaxis": "x",
         "y": [
          3.5498100697589945,
          3.550213774448079,
          4.3999761557929284
         ],
         "yaxis": "y"
        }
       ],
       "layout": {
        "legend": {
         "tracegroupgap": 0
        },
        "template": {
         "data": {
          "bar": [
           {
            "error_x": {
             "color": "#2a3f5f"
            },
            "error_y": {
             "color": "#2a3f5f"
            },
            "marker": {
             "line": {
              "color": "#E5ECF6",
              "width": 0.5
             }
            },
            "type": "bar"
           }
          ],
          "barpolar": [
           {
            "marker": {
             "line": {
              "color": "#E5ECF6",
              "width": 0.5
             }
            },
            "type": "barpolar"
           }
          ],
          "carpet": [
           {
            "aaxis": {
             "endlinecolor": "#2a3f5f",
             "gridcolor": "white",
             "linecolor": "white",
             "minorgridcolor": "white",
             "startlinecolor": "#2a3f5f"
            },
            "baxis": {
             "endlinecolor": "#2a3f5f",
             "gridcolor": "white",
             "linecolor": "white",
             "minorgridcolor": "white",
             "startlinecolor": "#2a3f5f"
            },
            "type": "carpet"
           }
          ],
          "choropleth": [
           {
            "colorbar": {
             "outlinewidth": 0,
             "ticks": ""
            },
            "type": "choropleth"
           }
          ],
          "contour": [
           {
            "colorbar": {
             "outlinewidth": 0,
             "ticks": ""
            },
            "colorscale": [
             [
              0,
              "#0d0887"
             ],
             [
              0.1111111111111111,
              "#46039f"
             ],
             [
              0.2222222222222222,
              "#7201a8"
             ],
             [
              0.3333333333333333,
              "#9c179e"
             ],
             [
              0.4444444444444444,
              "#bd3786"
             ],
             [
              0.5555555555555556,
              "#d8576b"
             ],
             [
              0.6666666666666666,
              "#ed7953"
             ],
             [
              0.7777777777777778,
              "#fb9f3a"
             ],
             [
              0.8888888888888888,
              "#fdca26"
             ],
             [
              1,
              "#f0f921"
             ]
            ],
            "type": "contour"
           }
          ],
          "contourcarpet": [
           {
            "colorbar": {
             "outlinewidth": 0,
             "ticks": ""
            },
            "type": "contourcarpet"
           }
          ],
          "heatmap": [
           {
            "colorbar": {
             "outlinewidth": 0,
             "ticks": ""
            },
            "colorscale": [
             [
              0,
              "#0d0887"
             ],
             [
              0.1111111111111111,
              "#46039f"
             ],
             [
              0.2222222222222222,
              "#7201a8"
             ],
             [
              0.3333333333333333,
              "#9c179e"
             ],
             [
              0.4444444444444444,
              "#bd3786"
             ],
             [
              0.5555555555555556,
              "#d8576b"
             ],
             [
              0.6666666666666666,
              "#ed7953"
             ],
             [
              0.7777777777777778,
              "#fb9f3a"
             ],
             [
              0.8888888888888888,
              "#fdca26"
             ],
             [
              1,
              "#f0f921"
             ]
            ],
            "type": "heatmap"
           }
          ],
          "heatmapgl": [
           {
            "colorbar": {
             "outlinewidth": 0,
             "ticks": ""
            },
            "colorscale": [
             [
              0,
              "#0d0887"
             ],
             [
              0.1111111111111111,
              "#46039f"
             ],
             [
              0.2222222222222222,
              "#7201a8"
             ],
             [
              0.3333333333333333,
              "#9c179e"
             ],
             [
              0.4444444444444444,
              "#bd3786"
             ],
             [
              0.5555555555555556,
              "#d8576b"
             ],
             [
              0.6666666666666666,
              "#ed7953"
             ],
             [
              0.7777777777777778,
              "#fb9f3a"
             ],
             [
              0.8888888888888888,
              "#fdca26"
             ],
             [
              1,
              "#f0f921"
             ]
            ],
            "type": "heatmapgl"
           }
          ],
          "histogram": [
           {
            "marker": {
             "colorbar": {
              "outlinewidth": 0,
              "ticks": ""
             }
            },
            "type": "histogram"
           }
          ],
          "histogram2d": [
           {
            "colorbar": {
             "outlinewidth": 0,
             "ticks": ""
            },
            "colorscale": [
             [
              0,
              "#0d0887"
             ],
             [
              0.1111111111111111,
              "#46039f"
             ],
             [
              0.2222222222222222,
              "#7201a8"
             ],
             [
              0.3333333333333333,
              "#9c179e"
             ],
             [
              0.4444444444444444,
              "#bd3786"
             ],
             [
              0.5555555555555556,
              "#d8576b"
             ],
             [
              0.6666666666666666,
              "#ed7953"
             ],
             [
              0.7777777777777778,
              "#fb9f3a"
             ],
             [
              0.8888888888888888,
              "#fdca26"
             ],
             [
              1,
              "#f0f921"
             ]
            ],
            "type": "histogram2d"
           }
          ],
          "histogram2dcontour": [
           {
            "colorbar": {
             "outlinewidth": 0,
             "ticks": ""
            },
            "colorscale": [
             [
              0,
              "#0d0887"
             ],
             [
              0.1111111111111111,
              "#46039f"
             ],
             [
              0.2222222222222222,
              "#7201a8"
             ],
             [
              0.3333333333333333,
              "#9c179e"
             ],
             [
              0.4444444444444444,
              "#bd3786"
             ],
             [
              0.5555555555555556,
              "#d8576b"
             ],
             [
              0.6666666666666666,
              "#ed7953"
             ],
             [
              0.7777777777777778,
              "#fb9f3a"
             ],
             [
              0.8888888888888888,
              "#fdca26"
             ],
             [
              1,
              "#f0f921"
             ]
            ],
            "type": "histogram2dcontour"
           }
          ],
          "mesh3d": [
           {
            "colorbar": {
             "outlinewidth": 0,
             "ticks": ""
            },
            "type": "mesh3d"
           }
          ],
          "parcoords": [
           {
            "line": {
             "colorbar": {
              "outlinewidth": 0,
              "ticks": ""
             }
            },
            "type": "parcoords"
           }
          ],
          "pie": [
           {
            "automargin": true,
            "type": "pie"
           }
          ],
          "scatter": [
           {
            "marker": {
             "colorbar": {
              "outlinewidth": 0,
              "ticks": ""
             }
            },
            "type": "scatter"
           }
          ],
          "scatter3d": [
           {
            "line": {
             "colorbar": {
              "outlinewidth": 0,
              "ticks": ""
             }
            },
            "marker": {
             "colorbar": {
              "outlinewidth": 0,
              "ticks": ""
             }
            },
            "type": "scatter3d"
           }
          ],
          "scattercarpet": [
           {
            "marker": {
             "colorbar": {
              "outlinewidth": 0,
              "ticks": ""
             }
            },
            "type": "scattercarpet"
           }
          ],
          "scattergeo": [
           {
            "marker": {
             "colorbar": {
              "outlinewidth": 0,
              "ticks": ""
             }
            },
            "type": "scattergeo"
           }
          ],
          "scattergl": [
           {
            "marker": {
             "colorbar": {
              "outlinewidth": 0,
              "ticks": ""
             }
            },
            "type": "scattergl"
           }
          ],
          "scattermapbox": [
           {
            "marker": {
             "colorbar": {
              "outlinewidth": 0,
              "ticks": ""
             }
            },
            "type": "scattermapbox"
           }
          ],
          "scatterpolar": [
           {
            "marker": {
             "colorbar": {
              "outlinewidth": 0,
              "ticks": ""
             }
            },
            "type": "scatterpolar"
           }
          ],
          "scatterpolargl": [
           {
            "marker": {
             "colorbar": {
              "outlinewidth": 0,
              "ticks": ""
             }
            },
            "type": "scatterpolargl"
           }
          ],
          "scatterternary": [
           {
            "marker": {
             "colorbar": {
              "outlinewidth": 0,
              "ticks": ""
             }
            },
            "type": "scatterternary"
           }
          ],
          "surface": [
           {
            "colorbar": {
             "outlinewidth": 0,
             "ticks": ""
            },
            "colorscale": [
             [
              0,
              "#0d0887"
             ],
             [
              0.1111111111111111,
              "#46039f"
             ],
             [
              0.2222222222222222,
              "#7201a8"
             ],
             [
              0.3333333333333333,
              "#9c179e"
             ],
             [
              0.4444444444444444,
              "#bd3786"
             ],
             [
              0.5555555555555556,
              "#d8576b"
             ],
             [
              0.6666666666666666,
              "#ed7953"
             ],
             [
              0.7777777777777778,
              "#fb9f3a"
             ],
             [
              0.8888888888888888,
              "#fdca26"
             ],
             [
              1,
              "#f0f921"
             ]
            ],
            "type": "surface"
           }
          ],
          "table": [
           {
            "cells": {
             "fill": {
              "color": "#EBF0F8"
             },
             "line": {
              "color": "white"
             }
            },
            "header": {
             "fill": {
              "color": "#C8D4E3"
             },
             "line": {
              "color": "white"
             }
            },
            "type": "table"
           }
          ]
         },
         "layout": {
          "annotationdefaults": {
           "arrowcolor": "#2a3f5f",
           "arrowhead": 0,
           "arrowwidth": 1
          },
          "coloraxis": {
           "colorbar": {
            "outlinewidth": 0,
            "ticks": ""
           }
          },
          "colorscale": {
           "diverging": [
            [
             0,
             "#8e0152"
            ],
            [
             0.1,
             "#c51b7d"
            ],
            [
             0.2,
             "#de77ae"
            ],
            [
             0.3,
             "#f1b6da"
            ],
            [
             0.4,
             "#fde0ef"
            ],
            [
             0.5,
             "#f7f7f7"
            ],
            [
             0.6,
             "#e6f5d0"
            ],
            [
             0.7,
             "#b8e186"
            ],
            [
             0.8,
             "#7fbc41"
            ],
            [
             0.9,
             "#4d9221"
            ],
            [
             1,
             "#276419"
            ]
           ],
           "sequential": [
            [
             0,
             "#0d0887"
            ],
            [
             0.1111111111111111,
             "#46039f"
            ],
            [
             0.2222222222222222,
             "#7201a8"
            ],
            [
             0.3333333333333333,
             "#9c179e"
            ],
            [
             0.4444444444444444,
             "#bd3786"
            ],
            [
             0.5555555555555556,
             "#d8576b"
            ],
            [
             0.6666666666666666,
             "#ed7953"
            ],
            [
             0.7777777777777778,
             "#fb9f3a"
            ],
            [
             0.8888888888888888,
             "#fdca26"
            ],
            [
             1,
             "#f0f921"
            ]
           ],
           "sequentialminus": [
            [
             0,
             "#0d0887"
            ],
            [
             0.1111111111111111,
             "#46039f"
            ],
            [
             0.2222222222222222,
             "#7201a8"
            ],
            [
             0.3333333333333333,
             "#9c179e"
            ],
            [
             0.4444444444444444,
             "#bd3786"
            ],
            [
             0.5555555555555556,
             "#d8576b"
            ],
            [
             0.6666666666666666,
             "#ed7953"
            ],
            [
             0.7777777777777778,
             "#fb9f3a"
            ],
            [
             0.8888888888888888,
             "#fdca26"
            ],
            [
             1,
             "#f0f921"
            ]
           ]
          },
          "colorway": [
           "#636efa",
           "#EF553B",
           "#00cc96",
           "#ab63fa",
           "#FFA15A",
           "#19d3f3",
           "#FF6692",
           "#B6E880",
           "#FF97FF",
           "#FECB52"
          ],
          "font": {
           "color": "#2a3f5f"
          },
          "geo": {
           "bgcolor": "white",
           "lakecolor": "white",
           "landcolor": "#E5ECF6",
           "showlakes": true,
           "showland": true,
           "subunitcolor": "white"
          },
          "hoverlabel": {
           "align": "left"
          },
          "hovermode": "closest",
          "mapbox": {
           "style": "light"
          },
          "paper_bgcolor": "white",
          "plot_bgcolor": "#E5ECF6",
          "polar": {
           "angularaxis": {
            "gridcolor": "white",
            "linecolor": "white",
            "ticks": ""
           },
           "bgcolor": "#E5ECF6",
           "radialaxis": {
            "gridcolor": "white",
            "linecolor": "white",
            "ticks": ""
           }
          },
          "scene": {
           "xaxis": {
            "backgroundcolor": "#E5ECF6",
            "gridcolor": "white",
            "gridwidth": 2,
            "linecolor": "white",
            "showbackground": true,
            "ticks": "",
            "zerolinecolor": "white"
           },
           "yaxis": {
            "backgroundcolor": "#E5ECF6",
            "gridcolor": "white",
            "gridwidth": 2,
            "linecolor": "white",
            "showbackground": true,
            "ticks": "",
            "zerolinecolor": "white"
           },
           "zaxis": {
            "backgroundcolor": "#E5ECF6",
            "gridcolor": "white",
            "gridwidth": 2,
            "linecolor": "white",
            "showbackground": true,
            "ticks": "",
            "zerolinecolor": "white"
           }
          },
          "shapedefaults": {
           "line": {
            "color": "#2a3f5f"
           }
          },
          "ternary": {
           "aaxis": {
            "gridcolor": "white",
            "linecolor": "white",
            "ticks": ""
           },
           "baxis": {
            "gridcolor": "white",
            "linecolor": "white",
            "ticks": ""
           },
           "bgcolor": "#E5ECF6",
           "caxis": {
            "gridcolor": "white",
            "linecolor": "white",
            "ticks": ""
           }
          },
          "title": {
           "x": 0.05
          },
          "xaxis": {
           "automargin": true,
           "gridcolor": "white",
           "linecolor": "white",
           "ticks": "",
           "title": {
            "standoff": 15
           },
           "zerolinecolor": "white",
           "zerolinewidth": 2
          },
          "yaxis": {
           "automargin": true,
           "gridcolor": "white",
           "linecolor": "white",
           "ticks": "",
           "title": {
            "standoff": 15
           },
           "zerolinecolor": "white",
           "zerolinewidth": 2
          }
         }
        },
        "title": {
         "text": "US Unemployment rise due Covid-19 infection increase Jan to March 2020"
        },
        "xaxis": {
         "anchor": "y",
         "domain": [
          0,
          1
         ],
         "title": {
          "text": "TotalInfections"
         }
        },
        "yaxis": {
         "anchor": "x",
         "domain": [
          0,
          1
         ],
         "title": {
          "text": "Unemployment Rate"
         }
        }
       }
      },
      "text/html": [
       "<div>\n",
       "        \n",
       "        \n",
       "            <div id=\"5cb01477-0fbb-4979-a313-d8ffe1cc1fd8\" class=\"plotly-graph-div\" style=\"height:525px; width:100%;\"></div>\n",
       "            <script type=\"text/javascript\">\n",
       "                require([\"plotly\"], function(Plotly) {\n",
       "                    window.PLOTLYENV=window.PLOTLYENV || {};\n",
       "                    \n",
       "                if (document.getElementById(\"5cb01477-0fbb-4979-a313-d8ffe1cc1fd8\")) {\n",
       "                    Plotly.newPlot(\n",
       "                        '5cb01477-0fbb-4979-a313-d8ffe1cc1fd8',\n",
       "                        [{\"hovertemplate\": \"TotalInfections=%{x}<br>Unemployment Rate=%{y}<extra></extra>\", \"legendgroup\": \"\", \"marker\": {\"color\": \"#636efa\", \"symbol\": \"circle\"}, \"mode\": \"markers\", \"name\": \"\", \"showlegend\": false, \"type\": \"scatter\", \"x\": [38, 554, 1086688], \"xaxis\": \"x\", \"y\": [3.6, 3.5, 4.4], \"yaxis\": \"y\"}, {\"hovertemplate\": \"<b>OLS trendline</b><br>Unemployment Rate = 7.82373e-07 * TotalInfections + 3.54978<br>R<sup>2</sup>=0.989643<br><br>TotalInfections=%{x}<br>Unemployment Rate=%{y} <b>(trend)</b><extra></extra>\", \"legendgroup\": \"\", \"marker\": {\"color\": \"#636efa\", \"symbol\": \"circle\"}, \"mode\": \"lines\", \"name\": \"\", \"showlegend\": false, \"type\": \"scatter\", \"x\": [38, 554, 1086688], \"xaxis\": \"x\", \"y\": [3.5498100697589945, 3.550213774448079, 4.3999761557929284], \"yaxis\": \"y\"}],\n",
       "                        {\"legend\": {\"tracegroupgap\": 0}, \"template\": {\"data\": {\"bar\": [{\"error_x\": {\"color\": \"#2a3f5f\"}, \"error_y\": {\"color\": \"#2a3f5f\"}, \"marker\": {\"line\": {\"color\": \"#E5ECF6\", \"width\": 0.5}}, \"type\": \"bar\"}], \"barpolar\": [{\"marker\": {\"line\": {\"color\": \"#E5ECF6\", \"width\": 0.5}}, \"type\": \"barpolar\"}], \"carpet\": [{\"aaxis\": {\"endlinecolor\": \"#2a3f5f\", \"gridcolor\": \"white\", \"linecolor\": \"white\", \"minorgridcolor\": \"white\", \"startlinecolor\": \"#2a3f5f\"}, \"baxis\": {\"endlinecolor\": \"#2a3f5f\", \"gridcolor\": \"white\", \"linecolor\": \"white\", \"minorgridcolor\": \"white\", \"startlinecolor\": \"#2a3f5f\"}, \"type\": \"carpet\"}], \"choropleth\": [{\"colorbar\": {\"outlinewidth\": 0, \"ticks\": \"\"}, \"type\": \"choropleth\"}], \"contour\": [{\"colorbar\": {\"outlinewidth\": 0, \"ticks\": \"\"}, \"colorscale\": [[0.0, \"#0d0887\"], [0.1111111111111111, \"#46039f\"], [0.2222222222222222, \"#7201a8\"], [0.3333333333333333, \"#9c179e\"], [0.4444444444444444, \"#bd3786\"], [0.5555555555555556, \"#d8576b\"], [0.6666666666666666, \"#ed7953\"], [0.7777777777777778, \"#fb9f3a\"], [0.8888888888888888, \"#fdca26\"], [1.0, \"#f0f921\"]], \"type\": \"contour\"}], \"contourcarpet\": [{\"colorbar\": {\"outlinewidth\": 0, \"ticks\": \"\"}, \"type\": \"contourcarpet\"}], \"heatmap\": [{\"colorbar\": {\"outlinewidth\": 0, \"ticks\": \"\"}, \"colorscale\": [[0.0, \"#0d0887\"], [0.1111111111111111, \"#46039f\"], [0.2222222222222222, \"#7201a8\"], [0.3333333333333333, \"#9c179e\"], [0.4444444444444444, \"#bd3786\"], [0.5555555555555556, \"#d8576b\"], [0.6666666666666666, \"#ed7953\"], [0.7777777777777778, \"#fb9f3a\"], [0.8888888888888888, \"#fdca26\"], [1.0, \"#f0f921\"]], \"type\": \"heatmap\"}], \"heatmapgl\": [{\"colorbar\": {\"outlinewidth\": 0, \"ticks\": \"\"}, \"colorscale\": [[0.0, \"#0d0887\"], [0.1111111111111111, \"#46039f\"], [0.2222222222222222, \"#7201a8\"], [0.3333333333333333, \"#9c179e\"], [0.4444444444444444, \"#bd3786\"], [0.5555555555555556, \"#d8576b\"], [0.6666666666666666, \"#ed7953\"], [0.7777777777777778, \"#fb9f3a\"], [0.8888888888888888, \"#fdca26\"], [1.0, \"#f0f921\"]], \"type\": \"heatmapgl\"}], \"histogram\": [{\"marker\": {\"colorbar\": {\"outlinewidth\": 0, \"ticks\": \"\"}}, \"type\": \"histogram\"}], \"histogram2d\": [{\"colorbar\": {\"outlinewidth\": 0, \"ticks\": \"\"}, \"colorscale\": [[0.0, \"#0d0887\"], [0.1111111111111111, \"#46039f\"], [0.2222222222222222, \"#7201a8\"], [0.3333333333333333, \"#9c179e\"], [0.4444444444444444, \"#bd3786\"], [0.5555555555555556, \"#d8576b\"], [0.6666666666666666, \"#ed7953\"], [0.7777777777777778, \"#fb9f3a\"], [0.8888888888888888, \"#fdca26\"], [1.0, \"#f0f921\"]], \"type\": \"histogram2d\"}], \"histogram2dcontour\": [{\"colorbar\": {\"outlinewidth\": 0, \"ticks\": \"\"}, \"colorscale\": [[0.0, \"#0d0887\"], [0.1111111111111111, \"#46039f\"], [0.2222222222222222, \"#7201a8\"], [0.3333333333333333, \"#9c179e\"], [0.4444444444444444, \"#bd3786\"], [0.5555555555555556, \"#d8576b\"], [0.6666666666666666, \"#ed7953\"], [0.7777777777777778, \"#fb9f3a\"], [0.8888888888888888, \"#fdca26\"], [1.0, \"#f0f921\"]], \"type\": \"histogram2dcontour\"}], \"mesh3d\": [{\"colorbar\": {\"outlinewidth\": 0, \"ticks\": \"\"}, \"type\": \"mesh3d\"}], \"parcoords\": [{\"line\": {\"colorbar\": {\"outlinewidth\": 0, \"ticks\": \"\"}}, \"type\": \"parcoords\"}], \"pie\": [{\"automargin\": true, \"type\": \"pie\"}], \"scatter\": [{\"marker\": {\"colorbar\": {\"outlinewidth\": 0, \"ticks\": \"\"}}, \"type\": \"scatter\"}], \"scatter3d\": [{\"line\": {\"colorbar\": {\"outlinewidth\": 0, \"ticks\": \"\"}}, \"marker\": {\"colorbar\": {\"outlinewidth\": 0, \"ticks\": \"\"}}, \"type\": \"scatter3d\"}], \"scattercarpet\": [{\"marker\": {\"colorbar\": {\"outlinewidth\": 0, \"ticks\": \"\"}}, \"type\": \"scattercarpet\"}], \"scattergeo\": [{\"marker\": {\"colorbar\": {\"outlinewidth\": 0, \"ticks\": \"\"}}, \"type\": \"scattergeo\"}], \"scattergl\": [{\"marker\": {\"colorbar\": {\"outlinewidth\": 0, \"ticks\": \"\"}}, \"type\": \"scattergl\"}], \"scattermapbox\": [{\"marker\": {\"colorbar\": {\"outlinewidth\": 0, \"ticks\": \"\"}}, \"type\": \"scattermapbox\"}], \"scatterpolar\": [{\"marker\": {\"colorbar\": {\"outlinewidth\": 0, \"ticks\": \"\"}}, \"type\": \"scatterpolar\"}], \"scatterpolargl\": [{\"marker\": {\"colorbar\": {\"outlinewidth\": 0, \"ticks\": \"\"}}, \"type\": \"scatterpolargl\"}], \"scatterternary\": [{\"marker\": {\"colorbar\": {\"outlinewidth\": 0, \"ticks\": \"\"}}, \"type\": \"scatterternary\"}], \"surface\": [{\"colorbar\": {\"outlinewidth\": 0, \"ticks\": \"\"}, \"colorscale\": [[0.0, \"#0d0887\"], [0.1111111111111111, \"#46039f\"], [0.2222222222222222, \"#7201a8\"], [0.3333333333333333, \"#9c179e\"], [0.4444444444444444, \"#bd3786\"], [0.5555555555555556, \"#d8576b\"], [0.6666666666666666, \"#ed7953\"], [0.7777777777777778, \"#fb9f3a\"], [0.8888888888888888, \"#fdca26\"], [1.0, \"#f0f921\"]], \"type\": \"surface\"}], \"table\": [{\"cells\": {\"fill\": {\"color\": \"#EBF0F8\"}, \"line\": {\"color\": \"white\"}}, \"header\": {\"fill\": {\"color\": \"#C8D4E3\"}, \"line\": {\"color\": \"white\"}}, \"type\": \"table\"}]}, \"layout\": {\"annotationdefaults\": {\"arrowcolor\": \"#2a3f5f\", \"arrowhead\": 0, \"arrowwidth\": 1}, \"coloraxis\": {\"colorbar\": {\"outlinewidth\": 0, \"ticks\": \"\"}}, \"colorscale\": {\"diverging\": [[0, \"#8e0152\"], [0.1, \"#c51b7d\"], [0.2, \"#de77ae\"], [0.3, \"#f1b6da\"], [0.4, \"#fde0ef\"], [0.5, \"#f7f7f7\"], [0.6, \"#e6f5d0\"], [0.7, \"#b8e186\"], [0.8, \"#7fbc41\"], [0.9, \"#4d9221\"], [1, \"#276419\"]], \"sequential\": [[0.0, \"#0d0887\"], [0.1111111111111111, \"#46039f\"], [0.2222222222222222, \"#7201a8\"], [0.3333333333333333, \"#9c179e\"], [0.4444444444444444, \"#bd3786\"], [0.5555555555555556, \"#d8576b\"], [0.6666666666666666, \"#ed7953\"], [0.7777777777777778, \"#fb9f3a\"], [0.8888888888888888, \"#fdca26\"], [1.0, \"#f0f921\"]], \"sequentialminus\": [[0.0, \"#0d0887\"], [0.1111111111111111, \"#46039f\"], [0.2222222222222222, \"#7201a8\"], [0.3333333333333333, \"#9c179e\"], [0.4444444444444444, \"#bd3786\"], [0.5555555555555556, \"#d8576b\"], [0.6666666666666666, \"#ed7953\"], [0.7777777777777778, \"#fb9f3a\"], [0.8888888888888888, \"#fdca26\"], [1.0, \"#f0f921\"]]}, \"colorway\": [\"#636efa\", \"#EF553B\", \"#00cc96\", \"#ab63fa\", \"#FFA15A\", \"#19d3f3\", \"#FF6692\", \"#B6E880\", \"#FF97FF\", \"#FECB52\"], \"font\": {\"color\": \"#2a3f5f\"}, \"geo\": {\"bgcolor\": \"white\", \"lakecolor\": \"white\", \"landcolor\": \"#E5ECF6\", \"showlakes\": true, \"showland\": true, \"subunitcolor\": \"white\"}, \"hoverlabel\": {\"align\": \"left\"}, \"hovermode\": \"closest\", \"mapbox\": {\"style\": \"light\"}, \"paper_bgcolor\": \"white\", \"plot_bgcolor\": \"#E5ECF6\", \"polar\": {\"angularaxis\": {\"gridcolor\": \"white\", \"linecolor\": \"white\", \"ticks\": \"\"}, \"bgcolor\": \"#E5ECF6\", \"radialaxis\": {\"gridcolor\": \"white\", \"linecolor\": \"white\", \"ticks\": \"\"}}, \"scene\": {\"xaxis\": {\"backgroundcolor\": \"#E5ECF6\", \"gridcolor\": \"white\", \"gridwidth\": 2, \"linecolor\": \"white\", \"showbackground\": true, \"ticks\": \"\", \"zerolinecolor\": \"white\"}, \"yaxis\": {\"backgroundcolor\": \"#E5ECF6\", \"gridcolor\": \"white\", \"gridwidth\": 2, \"linecolor\": \"white\", \"showbackground\": true, \"ticks\": \"\", \"zerolinecolor\": \"white\"}, \"zaxis\": {\"backgroundcolor\": \"#E5ECF6\", \"gridcolor\": \"white\", \"gridwidth\": 2, \"linecolor\": \"white\", \"showbackground\": true, \"ticks\": \"\", \"zerolinecolor\": \"white\"}}, \"shapedefaults\": {\"line\": {\"color\": \"#2a3f5f\"}}, \"ternary\": {\"aaxis\": {\"gridcolor\": \"white\", \"linecolor\": \"white\", \"ticks\": \"\"}, \"baxis\": {\"gridcolor\": \"white\", \"linecolor\": \"white\", \"ticks\": \"\"}, \"bgcolor\": \"#E5ECF6\", \"caxis\": {\"gridcolor\": \"white\", \"linecolor\": \"white\", \"ticks\": \"\"}}, \"title\": {\"x\": 0.05}, \"xaxis\": {\"automargin\": true, \"gridcolor\": \"white\", \"linecolor\": \"white\", \"ticks\": \"\", \"title\": {\"standoff\": 15}, \"zerolinecolor\": \"white\", \"zerolinewidth\": 2}, \"yaxis\": {\"automargin\": true, \"gridcolor\": \"white\", \"linecolor\": \"white\", \"ticks\": \"\", \"title\": {\"standoff\": 15}, \"zerolinecolor\": \"white\", \"zerolinewidth\": 2}}}, \"title\": {\"text\": \"US Unemployment rise due Covid-19 infection increase Jan to March 2020\"}, \"xaxis\": {\"anchor\": \"y\", \"domain\": [0.0, 1.0], \"title\": {\"text\": \"TotalInfections\"}}, \"yaxis\": {\"anchor\": \"x\", \"domain\": [0.0, 1.0], \"title\": {\"text\": \"Unemployment Rate\"}}},\n",
       "                        {\"responsive\": true}\n",
       "                    ).then(function(){\n",
       "                            \n",
       "var gd = document.getElementById('5cb01477-0fbb-4979-a313-d8ffe1cc1fd8');\n",
       "var x = new MutationObserver(function (mutations, observer) {{\n",
       "        var display = window.getComputedStyle(gd).display;\n",
       "        if (!display || display === 'none') {{\n",
       "            console.log([gd, 'removed!']);\n",
       "            Plotly.purge(gd);\n",
       "            observer.disconnect();\n",
       "        }}\n",
       "}});\n",
       "\n",
       "// Listen for the removal of the full notebook cells\n",
       "var notebookContainer = gd.closest('#notebook-container');\n",
       "if (notebookContainer) {{\n",
       "    x.observe(notebookContainer, {childList: true});\n",
       "}}\n",
       "\n",
       "// Listen for the clearing of the current output cell\n",
       "var outputEl = gd.closest('.output');\n",
       "if (outputEl) {{\n",
       "    x.observe(outputEl, {childList: true});\n",
       "}}\n",
       "\n",
       "                        })\n",
       "                };\n",
       "                });\n",
       "            </script>\n",
       "        </div>"
      ]
     },
     "metadata": {},
     "output_type": "display_data"
    }
   ],
   "source": [
    "px.scatter(df_merged, x='TotalInfections', y='Unemployment Rate', trendline='ols',title=\"US Unemployment rise due Covid-19 infection increase Jan to March 2020\")\n"
   ]
  },
  {
   "cell_type": "code",
   "execution_count": null,
   "metadata": {},
   "outputs": [],
   "source": []
  }
 ],
 "metadata": {
  "kernelspec": {
   "display_name": "Python 3",
   "language": "python",
   "name": "python3"
  },
  "language_info": {
   "codemirror_mode": {
    "name": "ipython",
    "version": 3
   },
   "file_extension": ".py",
   "mimetype": "text/x-python",
   "name": "python",
   "nbconvert_exporter": "python",
   "pygments_lexer": "ipython3",
   "version": "3.6.10"
  }
 },
 "nbformat": 4,
 "nbformat_minor": 2
}
