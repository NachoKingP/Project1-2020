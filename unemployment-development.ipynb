{
 "cells": [
  {
   "cell_type": "code",
   "execution_count": 34,
   "metadata": {},
   "outputs": [
    {
     "ename": "ModuleNotFoundError",
     "evalue": "No module named 'COVID19py'",
     "output_type": "error",
     "traceback": [
      "\u001b[1;31m---------------------------------------------------------------------------\u001b[0m",
      "\u001b[1;31mModuleNotFoundError\u001b[0m                       Traceback (most recent call last)",
      "\u001b[1;32m<ipython-input-34-b1a3df71a09f>\u001b[0m in \u001b[0;36m<module>\u001b[1;34m\u001b[0m\n\u001b[0;32m      4\u001b[0m \u001b[1;32mimport\u001b[0m \u001b[0mnumpy\u001b[0m \u001b[1;32mas\u001b[0m \u001b[0mnp\u001b[0m\u001b[1;33m\u001b[0m\u001b[1;33m\u001b[0m\u001b[0m\n\u001b[0;32m      5\u001b[0m \u001b[1;32mimport\u001b[0m \u001b[0mpandas\u001b[0m \u001b[1;32mas\u001b[0m \u001b[0mpd\u001b[0m\u001b[1;33m\u001b[0m\u001b[1;33m\u001b[0m\u001b[0m\n\u001b[1;32m----> 6\u001b[1;33m \u001b[1;32mimport\u001b[0m \u001b[0mCOVID19py\u001b[0m\u001b[1;33m\u001b[0m\u001b[1;33m\u001b[0m\u001b[0m\n\u001b[0m",
      "\u001b[1;31mModuleNotFoundError\u001b[0m: No module named 'COVID19py'"
     ]
    }
   ],
   "source": [
    "# Dependencies\n",
    "from matplotlib import pyplot as plt\n",
    "from scipy import stats\n",
    "import numpy as np\n",
    "import pandas as pd\n",
    "import COVID19py"
   ]
  },
  {
   "cell_type": "code",
   "execution_count": 11,
   "metadata": {},
   "outputs": [
    {
     "data": {
      "text/html": [
       "<div>\n",
       "<style scoped>\n",
       "    .dataframe tbody tr th:only-of-type {\n",
       "        vertical-align: middle;\n",
       "    }\n",
       "\n",
       "    .dataframe tbody tr th {\n",
       "        vertical-align: top;\n",
       "    }\n",
       "\n",
       "    .dataframe thead th {\n",
       "        text-align: right;\n",
       "    }\n",
       "</style>\n",
       "<table border=\"1\" class=\"dataframe\">\n",
       "  <thead>\n",
       "    <tr style=\"text-align: right;\">\n",
       "      <th></th>\n",
       "      <th>Country</th>\n",
       "      <th>Category</th>\n",
       "      <th>DateTime</th>\n",
       "      <th>Value</th>\n",
       "      <th>Frequency</th>\n",
       "      <th>HistoricalDataSymbol</th>\n",
       "      <th>LastUpdate</th>\n",
       "    </tr>\n",
       "  </thead>\n",
       "  <tbody>\n",
       "    <tr>\n",
       "      <th>0</th>\n",
       "      <td>United States</td>\n",
       "      <td>Unemployment Rate</td>\n",
       "      <td>1948-01-31T00:00:00</td>\n",
       "      <td>3.4</td>\n",
       "      <td>Monthly</td>\n",
       "      <td>USURTOT</td>\n",
       "      <td>2012-02-23T11:41:00</td>\n",
       "    </tr>\n",
       "    <tr>\n",
       "      <th>1</th>\n",
       "      <td>United States</td>\n",
       "      <td>Unemployment Rate</td>\n",
       "      <td>1948-02-29T00:00:00</td>\n",
       "      <td>3.8</td>\n",
       "      <td>Monthly</td>\n",
       "      <td>USURTOT</td>\n",
       "      <td>2012-02-23T11:41:00</td>\n",
       "    </tr>\n",
       "    <tr>\n",
       "      <th>2</th>\n",
       "      <td>United States</td>\n",
       "      <td>Unemployment Rate</td>\n",
       "      <td>1948-03-31T00:00:00</td>\n",
       "      <td>4.0</td>\n",
       "      <td>Monthly</td>\n",
       "      <td>USURTOT</td>\n",
       "      <td>2012-02-23T11:41:00</td>\n",
       "    </tr>\n",
       "    <tr>\n",
       "      <th>3</th>\n",
       "      <td>United States</td>\n",
       "      <td>Unemployment Rate</td>\n",
       "      <td>1948-04-30T00:00:00</td>\n",
       "      <td>3.9</td>\n",
       "      <td>Monthly</td>\n",
       "      <td>USURTOT</td>\n",
       "      <td>2012-02-23T11:41:00</td>\n",
       "    </tr>\n",
       "    <tr>\n",
       "      <th>4</th>\n",
       "      <td>United States</td>\n",
       "      <td>Unemployment Rate</td>\n",
       "      <td>1948-05-31T00:00:00</td>\n",
       "      <td>3.5</td>\n",
       "      <td>Monthly</td>\n",
       "      <td>USURTOT</td>\n",
       "      <td>2012-02-23T11:41:00</td>\n",
       "    </tr>\n",
       "  </tbody>\n",
       "</table>\n",
       "</div>"
      ],
      "text/plain": [
       "         Country           Category             DateTime  Value Frequency  \\\n",
       "0  United States  Unemployment Rate  1948-01-31T00:00:00    3.4   Monthly   \n",
       "1  United States  Unemployment Rate  1948-02-29T00:00:00    3.8   Monthly   \n",
       "2  United States  Unemployment Rate  1948-03-31T00:00:00    4.0   Monthly   \n",
       "3  United States  Unemployment Rate  1948-04-30T00:00:00    3.9   Monthly   \n",
       "4  United States  Unemployment Rate  1948-05-31T00:00:00    3.5   Monthly   \n",
       "\n",
       "  HistoricalDataSymbol           LastUpdate  \n",
       "0              USURTOT  2012-02-23T11:41:00  \n",
       "1              USURTOT  2012-02-23T11:41:00  \n",
       "2              USURTOT  2012-02-23T11:41:00  \n",
       "3              USURTOT  2012-02-23T11:41:00  \n",
       "4              USURTOT  2012-02-23T11:41:00  "
      ]
     },
     "execution_count": 11,
     "metadata": {},
     "output_type": "execute_result"
    }
   ],
   "source": [
    "# Load US Unemployment Data into Pandas\n",
    "ue_data_df = pd.read_csv(\"data_research/Complete_UR_Download.csv\", delimiter = ';')\n",
    "ue_data_df.head()"
   ]
  },
  {
   "cell_type": "code",
   "execution_count": 23,
   "metadata": {},
   "outputs": [
    {
     "data": {
      "text/html": [
       "<div>\n",
       "<style scoped>\n",
       "    .dataframe tbody tr th:only-of-type {\n",
       "        vertical-align: middle;\n",
       "    }\n",
       "\n",
       "    .dataframe tbody tr th {\n",
       "        vertical-align: top;\n",
       "    }\n",
       "\n",
       "    .dataframe thead th {\n",
       "        text-align: right;\n",
       "    }\n",
       "</style>\n",
       "<table border=\"1\" class=\"dataframe\">\n",
       "  <thead>\n",
       "    <tr style=\"text-align: right;\">\n",
       "      <th></th>\n",
       "      <th>Date Time</th>\n",
       "      <th>Unemployment Rate</th>\n",
       "    </tr>\n",
       "  </thead>\n",
       "  <tbody>\n",
       "    <tr>\n",
       "      <th>731</th>\n",
       "      <td>2008-12-31T00:00:00</td>\n",
       "      <td>7.3</td>\n",
       "    </tr>\n",
       "    <tr>\n",
       "      <th>732</th>\n",
       "      <td>2009-01-31T00:00:00</td>\n",
       "      <td>7.8</td>\n",
       "    </tr>\n",
       "    <tr>\n",
       "      <th>733</th>\n",
       "      <td>2009-02-28T00:00:00</td>\n",
       "      <td>8.3</td>\n",
       "    </tr>\n",
       "  </tbody>\n",
       "</table>\n",
       "</div>"
      ],
      "text/plain": [
       "               Date Time  Unemployment Rate\n",
       "731  2008-12-31T00:00:00                7.3\n",
       "732  2009-01-31T00:00:00                7.8\n",
       "733  2009-02-28T00:00:00                8.3"
      ]
     },
     "execution_count": 23,
     "metadata": {},
     "output_type": "execute_result"
    }
   ],
   "source": [
    "#Create 2008 Housing Crisis Dataframe\n",
    "subset_08_df = ue_data_df.loc[ue_data_df[\"DateTime\"] >= '2008-12-31T00:00:00']\n",
    "subset_08_df = subset_08_df.loc[subset_08_df[\"DateTime\"] <= '2009-02-31T00:00:00']\n",
    "subset_08_df = subset_08_df[['DateTime','Value']]\n",
    "subset_08_df = subset_08_df.rename(columns={'DateTime':'Date Time', 'Value':'Unemployment Rate'})\n",
    "subset_08_df"
   ]
  },
  {
   "cell_type": "code",
   "execution_count": 27,
   "metadata": {},
   "outputs": [
    {
     "data": {
      "text/html": [
       "<div>\n",
       "<style scoped>\n",
       "    .dataframe tbody tr th:only-of-type {\n",
       "        vertical-align: middle;\n",
       "    }\n",
       "\n",
       "    .dataframe tbody tr th {\n",
       "        vertical-align: top;\n",
       "    }\n",
       "\n",
       "    .dataframe thead th {\n",
       "        text-align: right;\n",
       "    }\n",
       "</style>\n",
       "<table border=\"1\" class=\"dataframe\">\n",
       "  <thead>\n",
       "    <tr style=\"text-align: right;\">\n",
       "      <th></th>\n",
       "      <th>Date Time</th>\n",
       "      <th>Unemployment Rate</th>\n",
       "    </tr>\n",
       "  </thead>\n",
       "  <tbody>\n",
       "    <tr>\n",
       "      <th>864</th>\n",
       "      <td>2020-01-31T00:00:00</td>\n",
       "      <td>3.6</td>\n",
       "    </tr>\n",
       "    <tr>\n",
       "      <th>865</th>\n",
       "      <td>2020-02-29T00:00:00</td>\n",
       "      <td>3.5</td>\n",
       "    </tr>\n",
       "    <tr>\n",
       "      <th>866</th>\n",
       "      <td>2020-03-31T00:00:00</td>\n",
       "      <td>4.4</td>\n",
       "    </tr>\n",
       "  </tbody>\n",
       "</table>\n",
       "</div>"
      ],
      "text/plain": [
       "               Date Time  Unemployment Rate\n",
       "864  2020-01-31T00:00:00                3.6\n",
       "865  2020-02-29T00:00:00                3.5\n",
       "866  2020-03-31T00:00:00                4.4"
      ]
     },
     "execution_count": 27,
     "metadata": {},
     "output_type": "execute_result"
    }
   ],
   "source": [
    "#Create 2020 COVID-19 Crisis Dataframe\n",
    "subset_20_df = ue_data_df.loc[ue_data_df[\"DateTime\"] >= '2020-01-01T00:00:00']\n",
    "subset_20_df = subset_20_df.loc[subset_20_df[\"DateTime\"] <= '2020-04-31T00:00:00']\n",
    "subset_20_df = subset_20_df[['DateTime','Value']]\n",
    "subset_20_df = subset_20_df.rename(columns={'DateTime':'Date Time', 'Value':'Unemployment Rate'})\n",
    "subset_20_df"
   ]
  },
  {
   "cell_type": "code",
   "execution_count": 29,
   "metadata": {},
   "outputs": [],
   "source": [
    "# Export Unemployment Dataframes to .csv files\n",
    "subset_08_df.to_csv(\"subset_08.csv\", index=False, header=True)\n",
    "subset_20_df.to_csv(\"subset_20.csv\", index=False, header=True)"
   ]
  },
  {
   "cell_type": "code",
   "execution_count": 30,
   "metadata": {},
   "outputs": [
    {
     "ename": "SyntaxError",
     "evalue": "invalid syntax (<ipython-input-30-44ffb5aae975>, line 1)",
     "output_type": "error",
     "traceback": [
      "\u001b[1;36m  File \u001b[1;32m\"<ipython-input-30-44ffb5aae975>\"\u001b[1;36m, line \u001b[1;32m1\u001b[0m\n\u001b[1;33m    cv.?\u001b[0m\n\u001b[1;37m       ^\u001b[0m\n\u001b[1;31mSyntaxError\u001b[0m\u001b[1;31m:\u001b[0m invalid syntax\n"
     ]
    }
   ],
   "source": [
    "cv.?"
   ]
  },
  {
   "cell_type": "code",
   "execution_count": null,
   "metadata": {},
   "outputs": [],
   "source": []
  }
 ],
 "metadata": {
  "kernelspec": {
   "display_name": "Python 3",
   "language": "python",
   "name": "python3"
  },
  "language_info": {
   "codemirror_mode": {
    "name": "ipython",
    "version": 3
   },
   "file_extension": ".py",
   "mimetype": "text/x-python",
   "name": "python",
   "nbconvert_exporter": "python",
   "pygments_lexer": "ipython3",
   "version": "3.6.10"
  }
 },
 "nbformat": 4,
 "nbformat_minor": 4
}
