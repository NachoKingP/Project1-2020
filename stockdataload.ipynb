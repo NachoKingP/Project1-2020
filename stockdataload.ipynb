{
 "cells": [
  {
   "cell_type": "code",
   "execution_count": 1,
   "metadata": {},
   "outputs": [],
   "source": [
    "import numpy as np\n",
    "import matplotlib.pyplot as plt\n",
    "import pandas as pd\n",
    "import os "
   ]
  },
  {
   "cell_type": "code",
   "execution_count": 2,
   "metadata": {},
   "outputs": [
    {
     "name": "stdout",
     "output_type": "stream",
     "text": [
      "C:\\Users\\ahmad\\OneDrive\\Desktop\\Project1-2020\n"
     ]
    },
    {
     "data": {
      "text/html": [
       "<div>\n",
       "<style scoped>\n",
       "    .dataframe tbody tr th:only-of-type {\n",
       "        vertical-align: middle;\n",
       "    }\n",
       "\n",
       "    .dataframe tbody tr th {\n",
       "        vertical-align: top;\n",
       "    }\n",
       "\n",
       "    .dataframe thead th {\n",
       "        text-align: right;\n",
       "    }\n",
       "</style>\n",
       "<table border=\"1\" class=\"dataframe\">\n",
       "  <thead>\n",
       "    <tr style=\"text-align: right;\">\n",
       "      <th></th>\n",
       "      <th>series_id</th>\n",
       "      <th>date</th>\n",
       "      <th>real</th>\n",
       "      <th>nominal</th>\n",
       "    </tr>\n",
       "  </thead>\n",
       "  <tbody>\n",
       "    <tr>\n",
       "      <td>0</td>\n",
       "      <td>DJIA</td>\n",
       "      <td>1/1/1915</td>\n",
       "      <td>1448.10</td>\n",
       "      <td>56.54</td>\n",
       "    </tr>\n",
       "    <tr>\n",
       "      <td>1</td>\n",
       "      <td>DJIA</td>\n",
       "      <td>2/1/1915</td>\n",
       "      <td>1423.26</td>\n",
       "      <td>55.02</td>\n",
       "    </tr>\n",
       "    <tr>\n",
       "      <td>2</td>\n",
       "      <td>DJIA</td>\n",
       "      <td>3/1/1915</td>\n",
       "      <td>1589.43</td>\n",
       "      <td>60.83</td>\n",
       "    </tr>\n",
       "    <tr>\n",
       "      <td>3</td>\n",
       "      <td>DJIA</td>\n",
       "      <td>4/1/1915</td>\n",
       "      <td>1856.81</td>\n",
       "      <td>71.78</td>\n",
       "    </tr>\n",
       "    <tr>\n",
       "      <td>4</td>\n",
       "      <td>DJIA</td>\n",
       "      <td>5/1/1915</td>\n",
       "      <td>1665.04</td>\n",
       "      <td>65.01</td>\n",
       "    </tr>\n",
       "  </tbody>\n",
       "</table>\n",
       "</div>"
      ],
      "text/plain": [
       "  series_id      date     real  nominal\n",
       "0      DJIA  1/1/1915  1448.10    56.54\n",
       "1      DJIA  2/1/1915  1423.26    55.02\n",
       "2      DJIA  3/1/1915  1589.43    60.83\n",
       "3      DJIA  4/1/1915  1856.81    71.78\n",
       "4      DJIA  5/1/1915  1665.04    65.01"
      ]
     },
     "execution_count": 2,
     "metadata": {},
     "output_type": "execute_result"
    }
   ],
   "source": [
    "print(os.getcwd())\n",
    "\n",
    "df_stocktrend = pd.read_csv(\"data_research/stocktrend.csv\")\n",
    "df_stocktrend.head()"
   ]
  },
  {
   "cell_type": "markdown",
   "metadata": {},
   "source": [
    "# in the next steps we will clean the data and select 3 months of data\n",
    "# financial bubble [Dec 2008] to [Feb 2009] \n",
    "# covid_19 effect [jan 2020] to [Mar 2020]"
   ]
  },
  {
   "cell_type": "code",
   "execution_count": 5,
   "metadata": {},
   "outputs": [
    {
     "data": {
      "text/html": [
       "<div>\n",
       "<style scoped>\n",
       "    .dataframe tbody tr th:only-of-type {\n",
       "        vertical-align: middle;\n",
       "    }\n",
       "\n",
       "    .dataframe tbody tr th {\n",
       "        vertical-align: top;\n",
       "    }\n",
       "\n",
       "    .dataframe thead th {\n",
       "        text-align: right;\n",
       "    }\n",
       "</style>\n",
       "<table border=\"1\" class=\"dataframe\">\n",
       "  <thead>\n",
       "    <tr style=\"text-align: right;\">\n",
       "      <th></th>\n",
       "      <th>series_id</th>\n",
       "      <th>date</th>\n",
       "      <th>real</th>\n",
       "      <th>nominal</th>\n",
       "    </tr>\n",
       "  </thead>\n",
       "  <tbody>\n",
       "    <tr>\n",
       "      <td>1260</td>\n",
       "      <td>DJIA</td>\n",
       "      <td>1/1/2020</td>\n",
       "      <td>28340.80</td>\n",
       "      <td>28256.03</td>\n",
       "    </tr>\n",
       "    <tr>\n",
       "      <td>1261</td>\n",
       "      <td>DJIA</td>\n",
       "      <td>2/1/2020</td>\n",
       "      <td>25409.36</td>\n",
       "      <td>25409.36</td>\n",
       "    </tr>\n",
       "    <tr>\n",
       "      <td>1262</td>\n",
       "      <td>DJIA</td>\n",
       "      <td>3/1/2020</td>\n",
       "      <td>21917.16</td>\n",
       "      <td>21917.16</td>\n",
       "    </tr>\n",
       "  </tbody>\n",
       "</table>\n",
       "</div>"
      ],
      "text/plain": [
       "     series_id      date      real   nominal\n",
       "1260      DJIA  1/1/2020  28340.80  28256.03\n",
       "1261      DJIA  2/1/2020  25409.36  25409.36\n",
       "1262      DJIA  3/1/2020  21917.16  21917.16"
      ]
     },
     "execution_count": 5,
     "metadata": {},
     "output_type": "execute_result"
    }
   ],
   "source": [
    "# droping any null values and filter information for Date above\n",
    "df_stocktrend = df_stocktrend.dropna()\n",
    "# we need only the rows where Date Dec2008 to Feb2009 and Jan2020 to mar2020\n",
    "df_finance = df_stocktrend.loc[df_stocktrend['date'].isin(['12/1/2008','1/1/2009','2/1/2009'])]\n",
    "df_finance\n",
    "df_covid = df_stocktrend.loc[df_stocktrend['date'].isin(['1/1/2020','2/1/2020','3/1/2020'])]\n",
    "df_covid"
   ]
  },
  {
   "cell_type": "code",
   "execution_count": 6,
   "metadata": {},
   "outputs": [
    {
     "data": {
      "text/html": [
       "<div>\n",
       "<style scoped>\n",
       "    .dataframe tbody tr th:only-of-type {\n",
       "        vertical-align: middle;\n",
       "    }\n",
       "\n",
       "    .dataframe tbody tr th {\n",
       "        vertical-align: top;\n",
       "    }\n",
       "\n",
       "    .dataframe thead th {\n",
       "        text-align: right;\n",
       "    }\n",
       "</style>\n",
       "<table border=\"1\" class=\"dataframe\">\n",
       "  <thead>\n",
       "    <tr style=\"text-align: right;\">\n",
       "      <th></th>\n",
       "      <th>series_id</th>\n",
       "      <th>date</th>\n",
       "      <th>real</th>\n",
       "      <th>nominal</th>\n",
       "    </tr>\n",
       "  </thead>\n",
       "  <tbody>\n",
       "    <tr>\n",
       "      <td>1127</td>\n",
       "      <td>DJIA</td>\n",
       "      <td>12/1/2008</td>\n",
       "      <td>10794.96</td>\n",
       "      <td>8776.39</td>\n",
       "    </tr>\n",
       "    <tr>\n",
       "      <td>1128</td>\n",
       "      <td>DJIA</td>\n",
       "      <td>1/1/2009</td>\n",
       "      <td>9801.05</td>\n",
       "      <td>8000.86</td>\n",
       "    </tr>\n",
       "    <tr>\n",
       "      <td>1129</td>\n",
       "      <td>DJIA</td>\n",
       "      <td>2/1/2009</td>\n",
       "      <td>8609.71</td>\n",
       "      <td>7062.93</td>\n",
       "    </tr>\n",
       "  </tbody>\n",
       "</table>\n",
       "</div>"
      ],
      "text/plain": [
       "     series_id       date      real  nominal\n",
       "1127      DJIA  12/1/2008  10794.96  8776.39\n",
       "1128      DJIA   1/1/2009   9801.05  8000.86\n",
       "1129      DJIA   2/1/2009   8609.71  7062.93"
      ]
     },
     "execution_count": 6,
     "metadata": {},
     "output_type": "execute_result"
    }
   ],
   "source": [
    "df_finance"
   ]
  },
  {
   "cell_type": "code",
   "execution_count": 10,
   "metadata": {},
   "outputs": [
    {
     "data": {
      "text/plain": [
       "<matplotlib.axes._subplots.AxesSubplot at 0x24a7510e648>"
      ]
     },
     "execution_count": 10,
     "metadata": {},
     "output_type": "execute_result"
    },
    {
     "data": {
      "image/png": "[encoded data removed]",
      "text/plain": [
       "<Figure size 432x288 with 1 Axes>"
      ]
     },
     "metadata": {
      "needs_background": "light"
     },
     "output_type": "display_data"
    },
    {
     "data": {
      "image/png": "[encoded data removed]",
      "text/plain": [
       "<Figure size 432x288 with 1 Axes>"
      ]
     },
     "metadata": {
      "needs_background": "light"
     },
     "output_type": "display_data"
    }
   ],
   "source": [
    "# create the plot that show us the percentage of lost in both period of time\n",
    "plt.subplot()\n",
    "df_finance.plot(kind=\"bar\")\n"
   ]
  },
  {
   "cell_type": "code",
   "execution_count": null,
   "metadata": {},
   "outputs": [],
   "source": []
  }
 ],
 "metadata": {
  "kernelspec": {
   "display_name": "Python 3",
   "language": "python",
   "name": "python3"
  },
  "language_info": {
   "codemirror_mode": {
    "name": "ipython",
    "version": 3
   },
   "file_extension": ".py",
   "mimetype": "text/x-python",
   "name": "python",
   "nbconvert_exporter": "python",
   "pygments_lexer": "ipython3",
   "version": "3.7.4"
  }
 },
 "nbformat": 4,
 "nbformat_minor": 2
}
